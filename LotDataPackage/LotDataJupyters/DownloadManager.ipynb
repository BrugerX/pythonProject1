{
 "cells": [
  {
   "cell_type": "code",
   "execution_count": 3,
   "metadata": {
    "collapsed": true,
    "pycharm": {
     "name": "#%%\n"
    }
   },
   "outputs": [],
   "source": [
    "import LotData.LotData as LD\n",
    "import LotData.Record as rcrd\n",
    "import LotData.ExtractorsAndTables as ent\n",
    "import utility.webscrapingUtil as wut\n",
    "import time\n",
    "metaData = ent.MetadataExtractor(wut.getRandomClosedLID(),wut.getTimeStamp(),715,\"diamonds\")\n",
    "d_manager = LD.DownloadManager(metaData)\n",
    "ldata = LD.LotData(metaData)"
   ]
  },
  {
   "cell_type": "code",
   "execution_count": 4,
   "outputs": [
    {
     "name": "stderr",
     "output_type": "stream",
     "text": [
      "C:\\Users\\DripTooHard\\PycharmProjects\\pythonProject1\\Browser.py:154: GuessedAtParserWarning: No parser was explicitly specified, so I'm using the best available HTML parser for this system (\"lxml\"). This usually isn't a problem, but if you run this code on another system, or in a different virtual environment, it may use a different parser and behave differently.\n",
      "\n",
      "The code that caused this warning is on line 154 of the file C:\\Users\\DripTooHard\\PycharmProjects\\pythonProject1\\Browser.py. To get rid of this warning, pass the additional argument 'features=\"lxml\"' to the BeautifulSoup constructor.\n",
      "\n",
      "  soup = bs4.BeautifulSoup(html)\n"
     ]
    },
    {
     "name": "stdout",
     "output_type": "stream",
     "text": [
      "Took 10.78208041191101s to do a hot start download\n"
     ]
    }
   ],
   "source": [
    "s11 = time.time()\n",
    "ldata[\"spec_record\"]\n",
    "s12 = time.time()\n",
    "print(f\"Took {s12 - s11}s to do a hot start download\")"
   ],
   "metadata": {
    "collapsed": false,
    "pycharm": {
     "name": "#%%\n"
    }
   }
  },
  {
   "cell_type": "code",
   "execution_count": 6,
   "outputs": [
    {
     "name": "stdout",
     "output_type": "stream",
     "text": [
      "Took 0.0068264007568359375s to do a hot start download\n"
     ]
    }
   ],
   "source": [
    "s11 = time.time()\n",
    "ldata[\"spec_record\"]\n",
    "s12 = time.time()\n",
    "print(f\"Took {s12 - s11}s to do a hot start download\")"
   ],
   "metadata": {
    "collapsed": false,
    "pycharm": {
     "name": "#%%\n"
    }
   }
  },
  {
   "cell_type": "code",
   "execution_count": null,
   "outputs": [],
   "source": [],
   "metadata": {
    "collapsed": false,
    "pycharm": {
     "name": "#%%\n"
    }
   }
  }
 ],
 "metadata": {
  "kernelspec": {
   "display_name": "Python 3",
   "language": "python",
   "name": "python3"
  },
  "language_info": {
   "codemirror_mode": {
    "name": "ipython",
    "version": 2
   },
   "file_extension": ".py",
   "mimetype": "text/x-python",
   "name": "python",
   "nbconvert_exporter": "python",
   "pygments_lexer": "ipython2",
   "version": "2.7.6"
  }
 },
 "nbformat": 4,
 "nbformat_minor": 0
}