{
 "cells": [
  {
   "cell_type": "code",
   "execution_count": 3,
   "metadata": {
    "collapsed": true,
    "pycharm": {
     "name": "#%%\n"
    }
   },
   "outputs": [],
   "source": [
    "import LotData.ExtractorsAndTables as EnT\n",
    "import Browser as brwsr\n",
    "import pandas as pd\n",
    "\n",
    "closed_LID_diamonds = \"84576509\"\n",
    "json_data = brwsr.ImageApi.getImageGallery(closed_LID_diamonds)\n",
    "image_table = EnT.ImagesTable(\"\",json_data)"
   ]
  },
  {
   "cell_type": "code",
   "execution_count": 4,
   "outputs": [
    {
     "data": {
      "text/plain": "    idx       type size                                                url  \\\n0     0    doublet    l  https://assets.catawiki.com/image/cw_ldp_l/pla...   \n1     0    doublet   xl  https://assets.catawiki.com/image/cw_large/pla...   \n2     1    doublet    l  https://assets.catawiki.com/image/cw_ldp_l/pla...   \n3     1    doublet   xl  https://assets.catawiki.com/image/cw_large/pla...   \n4     2  highlight    l  https://assets.catawiki.com/image/cw_ldp_l/pla...   \n5     2  highlight   xl  https://assets.catawiki.com/image/cw_large/pla...   \n6     3    doublet    l  https://assets.catawiki.com/image/cw_ldp_l/pla...   \n7     3    doublet   xl  https://assets.catawiki.com/image/cw_large/pla...   \n8     4    doublet    l  https://assets.catawiki.com/image/cw_ldp_l/pla...   \n9     4    doublet   xl  https://assets.catawiki.com/image/cw_large/pla...   \n10    5    doublet    l  https://assets.catawiki.com/image/cw_ldp_l/pla...   \n11    5    doublet   xl  https://assets.catawiki.com/image/cw_large/pla...   \n12    6    doublet    l  https://assets.catawiki.com/image/cw_ldp_l/pla...   \n13    6    doublet   xl  https://assets.catawiki.com/image/cw_large/pla...   \n14    7  highlight    l  https://assets.catawiki.com/image/cw_ldp_l/pla...   \n15    7  highlight   xl  https://assets.catawiki.com/image/cw_large/pla...   \n16    8    doublet    l  https://assets.catawiki.com/image/cw_ldp_l/pla...   \n17    8    doublet   xl  https://assets.catawiki.com/image/cw_large/pla...   \n18    9    doublet    l  https://assets.catawiki.com/image/cw_ldp_l/pla...   \n19    9    doublet   xl  https://assets.catawiki.com/image/cw_large/pla...   \n20   10    doublet    l  https://assets.catawiki.com/image/cw_ldp_l/pla...   \n21   10    doublet   xl  https://assets.catawiki.com/image/cw_large/pla...   \n22   11    doublet    l  https://assets.catawiki.com/image/cw_ldp_l/pla...   \n23   11    doublet   xl  https://assets.catawiki.com/image/cw_large/pla...   \n24   12  highlight    l  https://assets.catawiki.com/image/cw_ldp_l/pla...   \n25   12  highlight   xl  https://assets.catawiki.com/image/cw_large/pla...   \n26   13    doublet    l  https://assets.catawiki.com/image/cw_ldp_l/pla...   \n27   13    doublet   xl  https://assets.catawiki.com/image/cw_large/pla...   \n28   14    doublet    l  https://assets.catawiki.com/image/cw_ldp_l/pla...   \n29   14    doublet   xl  https://assets.catawiki.com/image/cw_large/pla...   \n30   15    doublet    l  https://assets.catawiki.com/image/cw_ldp_l/pla...   \n31   15    doublet   xl  https://assets.catawiki.com/image/cw_large/pla...   \n32   16    doublet    l  https://assets.catawiki.com/image/cw_ldp_l/pla...   \n33   16    doublet   xl  https://assets.catawiki.com/image/cw_large/pla...   \n34   17  highlight    l  https://assets.catawiki.com/image/cw_ldp_l/pla...   \n35   17  highlight   xl  https://assets.catawiki.com/image/cw_large/pla...   \n36   18    doublet    l  https://assets.catawiki.com/image/cw_ldp_l/pla...   \n37   18    doublet   xl  https://assets.catawiki.com/image/cw_large/pla...   \n38   19    doublet    l  https://assets.catawiki.com/image/cw_ldp_l/pla...   \n39   19    doublet   xl  https://assets.catawiki.com/image/cw_large/pla...   \n40   20  highlight    l  https://assets.catawiki.com/image/cw_ldp_l/pla...   \n41   20  highlight   xl  https://assets.catawiki.com/image/cw_large/pla...   \n42   21    doublet    l  https://assets.catawiki.com/image/cw_ldp_l/pla...   \n43   21    doublet   xl  https://assets.catawiki.com/image/cw_large/pla...   \n44   22    doublet    l  https://assets.catawiki.com/image/cw_ldp_l/pla...   \n45   22    doublet   xl  https://assets.catawiki.com/image/cw_large/pla...   \n46   23  highlight    l  https://assets.catawiki.com/image/cw_ldp_l/pla...   \n47   23  highlight   xl  https://assets.catawiki.com/image/cw_large/pla...   \n\n   orientation  width  height images_timestamp  \n0       square   1016    1016                   \n1       square   1999    2000                   \n2       square   1016    1016                   \n3       square   2000    2000                   \n4    landscape   1016     677                   \n5    landscape   2000    1333                   \n6       square   1016    1016                   \n7       square   2000    2000                   \n8       square   1016    1016                   \n9       square   2000    2000                   \n10      square   1016    1016                   \n11      square   2000    2000                   \n12      square   1016    1016                   \n13      square   2000    2000                   \n14      square   1016    1016                   \n15      square   2000    2000                   \n16      square   1016    1016                   \n17      square   2000    2000                   \n18      square   1016    1016                   \n19      square   2000    2000                   \n20      square   1016    1016                   \n21      square   2000    2000                   \n22      square   1016    1016                   \n23      square   2000    1999                   \n24      square   1016    1016                   \n25      square   2000    2000                   \n26      square   1016    1016                   \n27      square   2000    2000                   \n28      square   1016    1016                   \n29      square   2000    2000                   \n30      square   1016    1016                   \n31      square   2000    2000                   \n32      square   1016    1016                   \n33      square   2000    2000                   \n34   landscape   1016     677                   \n35   landscape   2000    1333                   \n36      square   1016    1016                   \n37      square   2000    2000                   \n38      square   1016    1016                   \n39      square   2000    2000                   \n40      square   1016    1016                   \n41      square   2000    2000                   \n42    portrait    572    1016                   \n43    portrait   1125    2000                   \n44    portrait    572    1016                   \n45    portrait   1125    2000                   \n46   landscape   1016     677                   \n47   landscape   2000    1333                   ",
      "text/html": "<div>\n<style scoped>\n    .dataframe tbody tr th:only-of-type {\n        vertical-align: middle;\n    }\n\n    .dataframe tbody tr th {\n        vertical-align: top;\n    }\n\n    .dataframe thead th {\n        text-align: right;\n    }\n</style>\n<table border=\"1\" class=\"dataframe\">\n  <thead>\n    <tr style=\"text-align: right;\">\n      <th></th>\n      <th>idx</th>\n      <th>type</th>\n      <th>size</th>\n      <th>url</th>\n      <th>orientation</th>\n      <th>width</th>\n      <th>height</th>\n      <th>images_timestamp</th>\n    </tr>\n  </thead>\n  <tbody>\n    <tr>\n      <th>0</th>\n      <td>0</td>\n      <td>doublet</td>\n      <td>l</td>\n      <td>https://assets.catawiki.com/image/cw_ldp_l/pla...</td>\n      <td>square</td>\n      <td>1016</td>\n      <td>1016</td>\n      <td></td>\n    </tr>\n    <tr>\n      <th>1</th>\n      <td>0</td>\n      <td>doublet</td>\n      <td>xl</td>\n      <td>https://assets.catawiki.com/image/cw_large/pla...</td>\n      <td>square</td>\n      <td>1999</td>\n      <td>2000</td>\n      <td></td>\n    </tr>\n    <tr>\n      <th>2</th>\n      <td>1</td>\n      <td>doublet</td>\n      <td>l</td>\n      <td>https://assets.catawiki.com/image/cw_ldp_l/pla...</td>\n      <td>square</td>\n      <td>1016</td>\n      <td>1016</td>\n      <td></td>\n    </tr>\n    <tr>\n      <th>3</th>\n      <td>1</td>\n      <td>doublet</td>\n      <td>xl</td>\n      <td>https://assets.catawiki.com/image/cw_large/pla...</td>\n      <td>square</td>\n      <td>2000</td>\n      <td>2000</td>\n      <td></td>\n    </tr>\n    <tr>\n      <th>4</th>\n      <td>2</td>\n      <td>highlight</td>\n      <td>l</td>\n      <td>https://assets.catawiki.com/image/cw_ldp_l/pla...</td>\n      <td>landscape</td>\n      <td>1016</td>\n      <td>677</td>\n      <td></td>\n    </tr>\n    <tr>\n      <th>5</th>\n      <td>2</td>\n      <td>highlight</td>\n      <td>xl</td>\n      <td>https://assets.catawiki.com/image/cw_large/pla...</td>\n      <td>landscape</td>\n      <td>2000</td>\n      <td>1333</td>\n      <td></td>\n    </tr>\n    <tr>\n      <th>6</th>\n      <td>3</td>\n      <td>doublet</td>\n      <td>l</td>\n      <td>https://assets.catawiki.com/image/cw_ldp_l/pla...</td>\n      <td>square</td>\n      <td>1016</td>\n      <td>1016</td>\n      <td></td>\n    </tr>\n    <tr>\n      <th>7</th>\n      <td>3</td>\n      <td>doublet</td>\n      <td>xl</td>\n      <td>https://assets.catawiki.com/image/cw_large/pla...</td>\n      <td>square</td>\n      <td>2000</td>\n      <td>2000</td>\n      <td></td>\n    </tr>\n    <tr>\n      <th>8</th>\n      <td>4</td>\n      <td>doublet</td>\n      <td>l</td>\n      <td>https://assets.catawiki.com/image/cw_ldp_l/pla...</td>\n      <td>square</td>\n      <td>1016</td>\n      <td>1016</td>\n      <td></td>\n    </tr>\n    <tr>\n      <th>9</th>\n      <td>4</td>\n      <td>doublet</td>\n      <td>xl</td>\n      <td>https://assets.catawiki.com/image/cw_large/pla...</td>\n      <td>square</td>\n      <td>2000</td>\n      <td>2000</td>\n      <td></td>\n    </tr>\n    <tr>\n      <th>10</th>\n      <td>5</td>\n      <td>doublet</td>\n      <td>l</td>\n      <td>https://assets.catawiki.com/image/cw_ldp_l/pla...</td>\n      <td>square</td>\n      <td>1016</td>\n      <td>1016</td>\n      <td></td>\n    </tr>\n    <tr>\n      <th>11</th>\n      <td>5</td>\n      <td>doublet</td>\n      <td>xl</td>\n      <td>https://assets.catawiki.com/image/cw_large/pla...</td>\n      <td>square</td>\n      <td>2000</td>\n      <td>2000</td>\n      <td></td>\n    </tr>\n    <tr>\n      <th>12</th>\n      <td>6</td>\n      <td>doublet</td>\n      <td>l</td>\n      <td>https://assets.catawiki.com/image/cw_ldp_l/pla...</td>\n      <td>square</td>\n      <td>1016</td>\n      <td>1016</td>\n      <td></td>\n    </tr>\n    <tr>\n      <th>13</th>\n      <td>6</td>\n      <td>doublet</td>\n      <td>xl</td>\n      <td>https://assets.catawiki.com/image/cw_large/pla...</td>\n      <td>square</td>\n      <td>2000</td>\n      <td>2000</td>\n      <td></td>\n    </tr>\n    <tr>\n      <th>14</th>\n      <td>7</td>\n      <td>highlight</td>\n      <td>l</td>\n      <td>https://assets.catawiki.com/image/cw_ldp_l/pla...</td>\n      <td>square</td>\n      <td>1016</td>\n      <td>1016</td>\n      <td></td>\n    </tr>\n    <tr>\n      <th>15</th>\n      <td>7</td>\n      <td>highlight</td>\n      <td>xl</td>\n      <td>https://assets.catawiki.com/image/cw_large/pla...</td>\n      <td>square</td>\n      <td>2000</td>\n      <td>2000</td>\n      <td></td>\n    </tr>\n    <tr>\n      <th>16</th>\n      <td>8</td>\n      <td>doublet</td>\n      <td>l</td>\n      <td>https://assets.catawiki.com/image/cw_ldp_l/pla...</td>\n      <td>square</td>\n      <td>1016</td>\n      <td>1016</td>\n      <td></td>\n    </tr>\n    <tr>\n      <th>17</th>\n      <td>8</td>\n      <td>doublet</td>\n      <td>xl</td>\n      <td>https://assets.catawiki.com/image/cw_large/pla...</td>\n      <td>square</td>\n      <td>2000</td>\n      <td>2000</td>\n      <td></td>\n    </tr>\n    <tr>\n      <th>18</th>\n      <td>9</td>\n      <td>doublet</td>\n      <td>l</td>\n      <td>https://assets.catawiki.com/image/cw_ldp_l/pla...</td>\n      <td>square</td>\n      <td>1016</td>\n      <td>1016</td>\n      <td></td>\n    </tr>\n    <tr>\n      <th>19</th>\n      <td>9</td>\n      <td>doublet</td>\n      <td>xl</td>\n      <td>https://assets.catawiki.com/image/cw_large/pla...</td>\n      <td>square</td>\n      <td>2000</td>\n      <td>2000</td>\n      <td></td>\n    </tr>\n    <tr>\n      <th>20</th>\n      <td>10</td>\n      <td>doublet</td>\n      <td>l</td>\n      <td>https://assets.catawiki.com/image/cw_ldp_l/pla...</td>\n      <td>square</td>\n      <td>1016</td>\n      <td>1016</td>\n      <td></td>\n    </tr>\n    <tr>\n      <th>21</th>\n      <td>10</td>\n      <td>doublet</td>\n      <td>xl</td>\n      <td>https://assets.catawiki.com/image/cw_large/pla...</td>\n      <td>square</td>\n      <td>2000</td>\n      <td>2000</td>\n      <td></td>\n    </tr>\n    <tr>\n      <th>22</th>\n      <td>11</td>\n      <td>doublet</td>\n      <td>l</td>\n      <td>https://assets.catawiki.com/image/cw_ldp_l/pla...</td>\n      <td>square</td>\n      <td>1016</td>\n      <td>1016</td>\n      <td></td>\n    </tr>\n    <tr>\n      <th>23</th>\n      <td>11</td>\n      <td>doublet</td>\n      <td>xl</td>\n      <td>https://assets.catawiki.com/image/cw_large/pla...</td>\n      <td>square</td>\n      <td>2000</td>\n      <td>1999</td>\n      <td></td>\n    </tr>\n    <tr>\n      <th>24</th>\n      <td>12</td>\n      <td>highlight</td>\n      <td>l</td>\n      <td>https://assets.catawiki.com/image/cw_ldp_l/pla...</td>\n      <td>square</td>\n      <td>1016</td>\n      <td>1016</td>\n      <td></td>\n    </tr>\n    <tr>\n      <th>25</th>\n      <td>12</td>\n      <td>highlight</td>\n      <td>xl</td>\n      <td>https://assets.catawiki.com/image/cw_large/pla...</td>\n      <td>square</td>\n      <td>2000</td>\n      <td>2000</td>\n      <td></td>\n    </tr>\n    <tr>\n      <th>26</th>\n      <td>13</td>\n      <td>doublet</td>\n      <td>l</td>\n      <td>https://assets.catawiki.com/image/cw_ldp_l/pla...</td>\n      <td>square</td>\n      <td>1016</td>\n      <td>1016</td>\n      <td></td>\n    </tr>\n    <tr>\n      <th>27</th>\n      <td>13</td>\n      <td>doublet</td>\n      <td>xl</td>\n      <td>https://assets.catawiki.com/image/cw_large/pla...</td>\n      <td>square</td>\n      <td>2000</td>\n      <td>2000</td>\n      <td></td>\n    </tr>\n    <tr>\n      <th>28</th>\n      <td>14</td>\n      <td>doublet</td>\n      <td>l</td>\n      <td>https://assets.catawiki.com/image/cw_ldp_l/pla...</td>\n      <td>square</td>\n      <td>1016</td>\n      <td>1016</td>\n      <td></td>\n    </tr>\n    <tr>\n      <th>29</th>\n      <td>14</td>\n      <td>doublet</td>\n      <td>xl</td>\n      <td>https://assets.catawiki.com/image/cw_large/pla...</td>\n      <td>square</td>\n      <td>2000</td>\n      <td>2000</td>\n      <td></td>\n    </tr>\n    <tr>\n      <th>30</th>\n      <td>15</td>\n      <td>doublet</td>\n      <td>l</td>\n      <td>https://assets.catawiki.com/image/cw_ldp_l/pla...</td>\n      <td>square</td>\n      <td>1016</td>\n      <td>1016</td>\n      <td></td>\n    </tr>\n    <tr>\n      <th>31</th>\n      <td>15</td>\n      <td>doublet</td>\n      <td>xl</td>\n      <td>https://assets.catawiki.com/image/cw_large/pla...</td>\n      <td>square</td>\n      <td>2000</td>\n      <td>2000</td>\n      <td></td>\n    </tr>\n    <tr>\n      <th>32</th>\n      <td>16</td>\n      <td>doublet</td>\n      <td>l</td>\n      <td>https://assets.catawiki.com/image/cw_ldp_l/pla...</td>\n      <td>square</td>\n      <td>1016</td>\n      <td>1016</td>\n      <td></td>\n    </tr>\n    <tr>\n      <th>33</th>\n      <td>16</td>\n      <td>doublet</td>\n      <td>xl</td>\n      <td>https://assets.catawiki.com/image/cw_large/pla...</td>\n      <td>square</td>\n      <td>2000</td>\n      <td>2000</td>\n      <td></td>\n    </tr>\n    <tr>\n      <th>34</th>\n      <td>17</td>\n      <td>highlight</td>\n      <td>l</td>\n      <td>https://assets.catawiki.com/image/cw_ldp_l/pla...</td>\n      <td>landscape</td>\n      <td>1016</td>\n      <td>677</td>\n      <td></td>\n    </tr>\n    <tr>\n      <th>35</th>\n      <td>17</td>\n      <td>highlight</td>\n      <td>xl</td>\n      <td>https://assets.catawiki.com/image/cw_large/pla...</td>\n      <td>landscape</td>\n      <td>2000</td>\n      <td>1333</td>\n      <td></td>\n    </tr>\n    <tr>\n      <th>36</th>\n      <td>18</td>\n      <td>doublet</td>\n      <td>l</td>\n      <td>https://assets.catawiki.com/image/cw_ldp_l/pla...</td>\n      <td>square</td>\n      <td>1016</td>\n      <td>1016</td>\n      <td></td>\n    </tr>\n    <tr>\n      <th>37</th>\n      <td>18</td>\n      <td>doublet</td>\n      <td>xl</td>\n      <td>https://assets.catawiki.com/image/cw_large/pla...</td>\n      <td>square</td>\n      <td>2000</td>\n      <td>2000</td>\n      <td></td>\n    </tr>\n    <tr>\n      <th>38</th>\n      <td>19</td>\n      <td>doublet</td>\n      <td>l</td>\n      <td>https://assets.catawiki.com/image/cw_ldp_l/pla...</td>\n      <td>square</td>\n      <td>1016</td>\n      <td>1016</td>\n      <td></td>\n    </tr>\n    <tr>\n      <th>39</th>\n      <td>19</td>\n      <td>doublet</td>\n      <td>xl</td>\n      <td>https://assets.catawiki.com/image/cw_large/pla...</td>\n      <td>square</td>\n      <td>2000</td>\n      <td>2000</td>\n      <td></td>\n    </tr>\n    <tr>\n      <th>40</th>\n      <td>20</td>\n      <td>highlight</td>\n      <td>l</td>\n      <td>https://assets.catawiki.com/image/cw_ldp_l/pla...</td>\n      <td>square</td>\n      <td>1016</td>\n      <td>1016</td>\n      <td></td>\n    </tr>\n    <tr>\n      <th>41</th>\n      <td>20</td>\n      <td>highlight</td>\n      <td>xl</td>\n      <td>https://assets.catawiki.com/image/cw_large/pla...</td>\n      <td>square</td>\n      <td>2000</td>\n      <td>2000</td>\n      <td></td>\n    </tr>\n    <tr>\n      <th>42</th>\n      <td>21</td>\n      <td>doublet</td>\n      <td>l</td>\n      <td>https://assets.catawiki.com/image/cw_ldp_l/pla...</td>\n      <td>portrait</td>\n      <td>572</td>\n      <td>1016</td>\n      <td></td>\n    </tr>\n    <tr>\n      <th>43</th>\n      <td>21</td>\n      <td>doublet</td>\n      <td>xl</td>\n      <td>https://assets.catawiki.com/image/cw_large/pla...</td>\n      <td>portrait</td>\n      <td>1125</td>\n      <td>2000</td>\n      <td></td>\n    </tr>\n    <tr>\n      <th>44</th>\n      <td>22</td>\n      <td>doublet</td>\n      <td>l</td>\n      <td>https://assets.catawiki.com/image/cw_ldp_l/pla...</td>\n      <td>portrait</td>\n      <td>572</td>\n      <td>1016</td>\n      <td></td>\n    </tr>\n    <tr>\n      <th>45</th>\n      <td>22</td>\n      <td>doublet</td>\n      <td>xl</td>\n      <td>https://assets.catawiki.com/image/cw_large/pla...</td>\n      <td>portrait</td>\n      <td>1125</td>\n      <td>2000</td>\n      <td></td>\n    </tr>\n    <tr>\n      <th>46</th>\n      <td>23</td>\n      <td>highlight</td>\n      <td>l</td>\n      <td>https://assets.catawiki.com/image/cw_ldp_l/pla...</td>\n      <td>landscape</td>\n      <td>1016</td>\n      <td>677</td>\n      <td></td>\n    </tr>\n    <tr>\n      <th>47</th>\n      <td>23</td>\n      <td>highlight</td>\n      <td>xl</td>\n      <td>https://assets.catawiki.com/image/cw_large/pla...</td>\n      <td>landscape</td>\n      <td>2000</td>\n      <td>1333</td>\n      <td></td>\n    </tr>\n  </tbody>\n</table>\n</div>"
     },
     "execution_count": 4,
     "metadata": {},
     "output_type": "execute_result"
    }
   ],
   "source": [
    "image_table.getDataframe()"
   ],
   "metadata": {
    "collapsed": false,
    "pycharm": {
     "name": "#%%\n"
    }
   }
  },
  {
   "cell_type": "code",
   "execution_count": 24,
   "outputs": [],
   "source": [
    "records = []\n",
    "index = 0\n",
    "for entry in json_data:\n",
    "    entry_type = entry['type']\n",
    "    for image_set in entry['images']:\n",
    "        for size, details in image_set.items():\n",
    "            record = {\n",
    "                'index': index,\n",
    "                'type': entry_type,\n",
    "                'size': size,\n",
    "                'url': details['url'],\n",
    "                'orientation': details['orientation'],\n",
    "                'width': details['width'],\n",
    "                'height': details['height']\n",
    "            }\n",
    "            records.append(record)\n",
    "        index += 1\n",
    "\n",
    "# Create dataframe\n",
    "df = pd.DataFrame(records)"
   ],
   "metadata": {
    "collapsed": false,
    "pycharm": {
     "name": "#%%\n"
    }
   }
  },
  {
   "cell_type": "code",
   "execution_count": 25,
   "outputs": [
    {
     "data": {
      "text/plain": "   index       type size                                                url  \\\n0      0    doublet    l  https://assets.catawiki.com/image/cw_ldp_l/pla...   \n1      0    doublet   xl  https://assets.catawiki.com/image/cw_large/pla...   \n2      1    doublet    l  https://assets.catawiki.com/image/cw_ldp_l/pla...   \n3      1    doublet   xl  https://assets.catawiki.com/image/cw_large/pla...   \n4      2  highlight    l  https://assets.catawiki.com/image/cw_ldp_l/pla...   \n5      2  highlight   xl  https://assets.catawiki.com/image/cw_large/pla...   \n6      3  highlight    l  https://assets.catawiki.com/image/cw_ldp_l/pla...   \n7      3  highlight   xl  https://assets.catawiki.com/image/cw_large/pla...   \n\n  orientation  width  height  \n0      square   1016    1016  \n1      square   2000    2000  \n2      square   1016    1016  \n3      square   2000    2000  \n4      square   1016    1016  \n5      square   2000    2000  \n6      square   1016    1016  \n7      square   2000    2000  ",
      "text/html": "<div>\n<style scoped>\n    .dataframe tbody tr th:only-of-type {\n        vertical-align: middle;\n    }\n\n    .dataframe tbody tr th {\n        vertical-align: top;\n    }\n\n    .dataframe thead th {\n        text-align: right;\n    }\n</style>\n<table border=\"1\" class=\"dataframe\">\n  <thead>\n    <tr style=\"text-align: right;\">\n      <th></th>\n      <th>index</th>\n      <th>type</th>\n      <th>size</th>\n      <th>url</th>\n      <th>orientation</th>\n      <th>width</th>\n      <th>height</th>\n    </tr>\n  </thead>\n  <tbody>\n    <tr>\n      <th>0</th>\n      <td>0</td>\n      <td>doublet</td>\n      <td>l</td>\n      <td>https://assets.catawiki.com/image/cw_ldp_l/pla...</td>\n      <td>square</td>\n      <td>1016</td>\n      <td>1016</td>\n    </tr>\n    <tr>\n      <th>1</th>\n      <td>0</td>\n      <td>doublet</td>\n      <td>xl</td>\n      <td>https://assets.catawiki.com/image/cw_large/pla...</td>\n      <td>square</td>\n      <td>2000</td>\n      <td>2000</td>\n    </tr>\n    <tr>\n      <th>2</th>\n      <td>1</td>\n      <td>doublet</td>\n      <td>l</td>\n      <td>https://assets.catawiki.com/image/cw_ldp_l/pla...</td>\n      <td>square</td>\n      <td>1016</td>\n      <td>1016</td>\n    </tr>\n    <tr>\n      <th>3</th>\n      <td>1</td>\n      <td>doublet</td>\n      <td>xl</td>\n      <td>https://assets.catawiki.com/image/cw_large/pla...</td>\n      <td>square</td>\n      <td>2000</td>\n      <td>2000</td>\n    </tr>\n    <tr>\n      <th>4</th>\n      <td>2</td>\n      <td>highlight</td>\n      <td>l</td>\n      <td>https://assets.catawiki.com/image/cw_ldp_l/pla...</td>\n      <td>square</td>\n      <td>1016</td>\n      <td>1016</td>\n    </tr>\n    <tr>\n      <th>5</th>\n      <td>2</td>\n      <td>highlight</td>\n      <td>xl</td>\n      <td>https://assets.catawiki.com/image/cw_large/pla...</td>\n      <td>square</td>\n      <td>2000</td>\n      <td>2000</td>\n    </tr>\n    <tr>\n      <th>6</th>\n      <td>3</td>\n      <td>highlight</td>\n      <td>l</td>\n      <td>https://assets.catawiki.com/image/cw_ldp_l/pla...</td>\n      <td>square</td>\n      <td>1016</td>\n      <td>1016</td>\n    </tr>\n    <tr>\n      <th>7</th>\n      <td>3</td>\n      <td>highlight</td>\n      <td>xl</td>\n      <td>https://assets.catawiki.com/image/cw_large/pla...</td>\n      <td>square</td>\n      <td>2000</td>\n      <td>2000</td>\n    </tr>\n  </tbody>\n</table>\n</div>"
     },
     "execution_count": 25,
     "metadata": {},
     "output_type": "execute_result"
    }
   ],
   "source": [
    "df"
   ],
   "metadata": {
    "collapsed": false,
    "pycharm": {
     "name": "#%%\n"
    }
   }
  },
  {
   "cell_type": "code",
   "execution_count": null,
   "outputs": [],
   "source": [
    "df.explode(\"images\").explode(\"images\")"
   ],
   "metadata": {
    "collapsed": false,
    "pycharm": {
     "name": "#%%\n"
    }
   }
  },
  {
   "cell_type": "code",
   "execution_count": null,
   "outputs": [],
   "source": [],
   "metadata": {
    "collapsed": false,
    "pycharm": {
     "name": "#%%\n"
    }
   }
  }
 ],
 "metadata": {
  "kernelspec": {
   "display_name": "Python 3",
   "language": "python",
   "name": "python3"
  },
  "language_info": {
   "codemirror_mode": {
    "name": "ipython",
    "version": 2
   },
   "file_extension": ".py",
   "mimetype": "text/x-python",
   "name": "python",
   "nbconvert_exporter": "python",
   "pygments_lexer": "ipython2",
   "version": "2.7.6"
  }
 },
 "nbformat": 4,
 "nbformat_minor": 0
}