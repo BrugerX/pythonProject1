{
 "cells": [
  {
   "cell_type": "code",
   "execution_count": 3,
   "metadata": {
    "collapsed": true,
    "pycharm": {
     "name": "#%%\n"
    }
   },
   "outputs": [],
   "source": [
    "import LotData.ExtractorsAndTables as EnT\n",
    "import Browser as brwsr\n",
    "import pandas as pd\n",
    "import utility.webscrapingUtil as wut\n",
    "\n",
    "closed_LID_diamonds = \"84559939\"\n",
    "json_data = brwsr.ShippingApi.getShippingAndPaymentInformation(closed_LID_diamonds)\n",
    "shipping_table = EnT.ShippingTable(wut.getTimeStamp(),json_data)\n"
   ]
  },
  {
   "cell_type": "code",
   "execution_count": 4,
   "outputs": [
    {
     "data": {
      "text/plain": "  region_code      region_name  price currency_code  \\\n0          ch      Switzerland   31.0           EUR   \n1          cy           Cyprus   33.0           EUR   \n2          gb   United Kingdom   36.0           EUR   \n3          gr           Greece   58.0           EUR   \n4          hr          Croatia   58.0           EUR   \n5          nl  The Netherlands   12.0           EUR   \n6          no           Norway   33.0           EUR   \n7      europe   Rest of Europe   23.0           EUR   \n8          dk          Denmark   23.0           EUR   \n9       world    Anywhere else   36.0           EUR   \n\n   estimated_delivery_from_days  estimated_delivery_to_days  \\\n0                             3                          21   \n1                             3                          21   \n2                             3                          21   \n3                             3                          21   \n4                             3                          21   \n5                             3                          21   \n6                             3                          21   \n7                             3                          21   \n8                             3                          21   \n9                             3                          21   \n\n  destination_country_name destination_country_short_code  \\\n0                  Denmark                             dk   \n1                  Denmark                             dk   \n2                  Denmark                             dk   \n3                  Denmark                             dk   \n4                  Denmark                             dk   \n5                  Denmark                             dk   \n6                  Denmark                             dk   \n7                  Denmark                             dk   \n8                  Denmark                             dk   \n9                  Denmark                             dk   \n\n   combined_shipping_allowed delivery_methods  extra_insurance  provider_id  \\\n0                       True     pickup, ship             True            1   \n1                       True     pickup, ship             True            1   \n2                       True     pickup, ship             True            1   \n3                       True     pickup, ship             True            1   \n4                       True     pickup, ship             True            1   \n5                       True     pickup, ship             True            1   \n6                       True     pickup, ship             True            1   \n7                       True     pickup, ship             True            1   \n8                       True     pickup, ship             True            1   \n9                       True     pickup, ship             True            1   \n\n   is_pickup_preferable  is_pickup_only pickup_location_country_code  \\\n0                 False           False                           nl   \n1                 False           False                           nl   \n2                 False           False                           nl   \n3                 False           False                           nl   \n4                 False           False                           nl   \n5                 False           False                           nl   \n6                 False           False                           nl   \n7                 False           False                           nl   \n8                 False           False                           nl   \n9                 False           False                           nl   \n\n  pickup_location_city               shipping_timestamp  \n0            Klaaswaal 2024-06-10 18:17:34.920881+00:00  \n1            Klaaswaal 2024-06-10 18:17:34.920881+00:00  \n2            Klaaswaal 2024-06-10 18:17:34.920881+00:00  \n3            Klaaswaal 2024-06-10 18:17:34.920881+00:00  \n4            Klaaswaal 2024-06-10 18:17:34.920881+00:00  \n5            Klaaswaal 2024-06-10 18:17:34.920881+00:00  \n6            Klaaswaal 2024-06-10 18:17:34.920881+00:00  \n7            Klaaswaal 2024-06-10 18:17:34.920881+00:00  \n8            Klaaswaal 2024-06-10 18:17:34.920881+00:00  \n9            Klaaswaal 2024-06-10 18:17:34.920881+00:00  ",
      "text/html": "<div>\n<style scoped>\n    .dataframe tbody tr th:only-of-type {\n        vertical-align: middle;\n    }\n\n    .dataframe tbody tr th {\n        vertical-align: top;\n    }\n\n    .dataframe thead th {\n        text-align: right;\n    }\n</style>\n<table border=\"1\" class=\"dataframe\">\n  <thead>\n    <tr style=\"text-align: right;\">\n      <th></th>\n      <th>region_code</th>\n      <th>region_name</th>\n      <th>price</th>\n      <th>currency_code</th>\n      <th>estimated_delivery_from_days</th>\n      <th>estimated_delivery_to_days</th>\n      <th>destination_country_name</th>\n      <th>destination_country_short_code</th>\n      <th>combined_shipping_allowed</th>\n      <th>delivery_methods</th>\n      <th>extra_insurance</th>\n      <th>provider_id</th>\n      <th>is_pickup_preferable</th>\n      <th>is_pickup_only</th>\n      <th>pickup_location_country_code</th>\n      <th>pickup_location_city</th>\n      <th>shipping_timestamp</th>\n    </tr>\n  </thead>\n  <tbody>\n    <tr>\n      <th>0</th>\n      <td>ch</td>\n      <td>Switzerland</td>\n      <td>31.0</td>\n      <td>EUR</td>\n      <td>3</td>\n      <td>21</td>\n      <td>Denmark</td>\n      <td>dk</td>\n      <td>True</td>\n      <td>pickup, ship</td>\n      <td>True</td>\n      <td>1</td>\n      <td>False</td>\n      <td>False</td>\n      <td>nl</td>\n      <td>Klaaswaal</td>\n      <td>2024-06-10 18:17:34.920881+00:00</td>\n    </tr>\n    <tr>\n      <th>1</th>\n      <td>cy</td>\n      <td>Cyprus</td>\n      <td>33.0</td>\n      <td>EUR</td>\n      <td>3</td>\n      <td>21</td>\n      <td>Denmark</td>\n      <td>dk</td>\n      <td>True</td>\n      <td>pickup, ship</td>\n      <td>True</td>\n      <td>1</td>\n      <td>False</td>\n      <td>False</td>\n      <td>nl</td>\n      <td>Klaaswaal</td>\n      <td>2024-06-10 18:17:34.920881+00:00</td>\n    </tr>\n    <tr>\n      <th>2</th>\n      <td>gb</td>\n      <td>United Kingdom</td>\n      <td>36.0</td>\n      <td>EUR</td>\n      <td>3</td>\n      <td>21</td>\n      <td>Denmark</td>\n      <td>dk</td>\n      <td>True</td>\n      <td>pickup, ship</td>\n      <td>True</td>\n      <td>1</td>\n      <td>False</td>\n      <td>False</td>\n      <td>nl</td>\n      <td>Klaaswaal</td>\n      <td>2024-06-10 18:17:34.920881+00:00</td>\n    </tr>\n    <tr>\n      <th>3</th>\n      <td>gr</td>\n      <td>Greece</td>\n      <td>58.0</td>\n      <td>EUR</td>\n      <td>3</td>\n      <td>21</td>\n      <td>Denmark</td>\n      <td>dk</td>\n      <td>True</td>\n      <td>pickup, ship</td>\n      <td>True</td>\n      <td>1</td>\n      <td>False</td>\n      <td>False</td>\n      <td>nl</td>\n      <td>Klaaswaal</td>\n      <td>2024-06-10 18:17:34.920881+00:00</td>\n    </tr>\n    <tr>\n      <th>4</th>\n      <td>hr</td>\n      <td>Croatia</td>\n      <td>58.0</td>\n      <td>EUR</td>\n      <td>3</td>\n      <td>21</td>\n      <td>Denmark</td>\n      <td>dk</td>\n      <td>True</td>\n      <td>pickup, ship</td>\n      <td>True</td>\n      <td>1</td>\n      <td>False</td>\n      <td>False</td>\n      <td>nl</td>\n      <td>Klaaswaal</td>\n      <td>2024-06-10 18:17:34.920881+00:00</td>\n    </tr>\n    <tr>\n      <th>5</th>\n      <td>nl</td>\n      <td>The Netherlands</td>\n      <td>12.0</td>\n      <td>EUR</td>\n      <td>3</td>\n      <td>21</td>\n      <td>Denmark</td>\n      <td>dk</td>\n      <td>True</td>\n      <td>pickup, ship</td>\n      <td>True</td>\n      <td>1</td>\n      <td>False</td>\n      <td>False</td>\n      <td>nl</td>\n      <td>Klaaswaal</td>\n      <td>2024-06-10 18:17:34.920881+00:00</td>\n    </tr>\n    <tr>\n      <th>6</th>\n      <td>no</td>\n      <td>Norway</td>\n      <td>33.0</td>\n      <td>EUR</td>\n      <td>3</td>\n      <td>21</td>\n      <td>Denmark</td>\n      <td>dk</td>\n      <td>True</td>\n      <td>pickup, ship</td>\n      <td>True</td>\n      <td>1</td>\n      <td>False</td>\n      <td>False</td>\n      <td>nl</td>\n      <td>Klaaswaal</td>\n      <td>2024-06-10 18:17:34.920881+00:00</td>\n    </tr>\n    <tr>\n      <th>7</th>\n      <td>europe</td>\n      <td>Rest of Europe</td>\n      <td>23.0</td>\n      <td>EUR</td>\n      <td>3</td>\n      <td>21</td>\n      <td>Denmark</td>\n      <td>dk</td>\n      <td>True</td>\n      <td>pickup, ship</td>\n      <td>True</td>\n      <td>1</td>\n      <td>False</td>\n      <td>False</td>\n      <td>nl</td>\n      <td>Klaaswaal</td>\n      <td>2024-06-10 18:17:34.920881+00:00</td>\n    </tr>\n    <tr>\n      <th>8</th>\n      <td>dk</td>\n      <td>Denmark</td>\n      <td>23.0</td>\n      <td>EUR</td>\n      <td>3</td>\n      <td>21</td>\n      <td>Denmark</td>\n      <td>dk</td>\n      <td>True</td>\n      <td>pickup, ship</td>\n      <td>True</td>\n      <td>1</td>\n      <td>False</td>\n      <td>False</td>\n      <td>nl</td>\n      <td>Klaaswaal</td>\n      <td>2024-06-10 18:17:34.920881+00:00</td>\n    </tr>\n    <tr>\n      <th>9</th>\n      <td>world</td>\n      <td>Anywhere else</td>\n      <td>36.0</td>\n      <td>EUR</td>\n      <td>3</td>\n      <td>21</td>\n      <td>Denmark</td>\n      <td>dk</td>\n      <td>True</td>\n      <td>pickup, ship</td>\n      <td>True</td>\n      <td>1</td>\n      <td>False</td>\n      <td>False</td>\n      <td>nl</td>\n      <td>Klaaswaal</td>\n      <td>2024-06-10 18:17:34.920881+00:00</td>\n    </tr>\n  </tbody>\n</table>\n</div>"
     },
     "execution_count": 4,
     "metadata": {},
     "output_type": "execute_result"
    }
   ],
   "source": [
    "shipping_table.getDataframeCopy()"
   ],
   "metadata": {
    "collapsed": false,
    "pycharm": {
     "name": "#%%\n"
    }
   }
  },
  {
   "cell_type": "code",
   "execution_count": 3,
   "outputs": [],
   "source": [
    "n1 = pd.json_normalize(json_data)"
   ],
   "metadata": {
    "collapsed": false,
    "pycharm": {
     "name": "#%%\n"
    }
   }
  },
  {
   "cell_type": "code",
   "execution_count": 4,
   "outputs": [
    {
     "data": {
      "text/plain": "0    {'region_code': 'ch', 'region_name': 'Switzerl...\n1    {'region_code': 'cy', 'region_name': 'Cyprus',...\n2    {'region_code': 'gb', 'region_name': 'United K...\n3    {'region_code': 'gr', 'region_name': 'Greece',...\n4    {'region_code': 'hr', 'region_name': 'Croatia'...\n5    {'region_code': 'nl', 'region_name': 'The Neth...\n6    {'region_code': 'no', 'region_name': 'Norway',...\n7    {'region_code': 'europe', 'region_name': 'Rest...\n8    {'region_code': 'dk', 'region_name': 'Denmark'...\n9    {'region_code': 'world', 'region_name': 'Anywh...\nName: 0, dtype: object"
     },
     "execution_count": 4,
     "metadata": {},
     "output_type": "execute_result"
    }
   ],
   "source": [
    "pd.json_normalize(n1[\"shipping.rates\"]).iloc[0]"
   ],
   "metadata": {
    "collapsed": false,
    "pycharm": {
     "name": "#%%\n"
    }
   }
  },
  {
   "cell_type": "code",
   "execution_count": 5,
   "outputs": [],
   "source": [
    "def json_to_expanded_dataframe(data):\n",
    "    # Extract the rates data\n",
    "    rates = data[\"shipping\"][\"rates\"]\n",
    "\n",
    "    # Extract other relevant information\n",
    "    estimated_delivery_times = data[\"shipping\"][\"estimated_delivery_times\"]\n",
    "    destination_country = data[\"shipping\"][\"destination_country\"]\n",
    "    combined_shipping_allowed = data[\"shipping\"][\"combined_shipping_allowed\"]\n",
    "    delivery_methods = data[\"shipping\"][\"delivery_methods\"]\n",
    "    extra_insurance = data[\"shipping\"][\"extra_insurance\"]\n",
    "    provider_id = data[\"shipping\"][\"provider_id\"]\n",
    "    is_pickup_preferable = data[\"shipping\"][\"is_pickup_preferable\"]\n",
    "    is_pickup_only = data[\"shipping\"][\"is_pickup_only\"]\n",
    "    pickup_location = data[\"shipping\"][\"pickup_location\"]\n",
    "\n",
    "    # Add these details to each rate entry\n",
    "    expanded_rates = []\n",
    "    for rate in rates:\n",
    "        rate_entry = rate.copy()\n",
    "        rate_entry.update({\n",
    "            \"estimated_delivery_from_days\": estimated_delivery_times[0][\"from_days\"],\n",
    "            \"estimated_delivery_to_days\": estimated_delivery_times[0][\"to_days\"],\n",
    "            \"destination_country_name\": destination_country[\"country\"][\"name\"],\n",
    "            \"destination_country_short_code\": destination_country[\"country\"][\"short_code\"],\n",
    "            \"combined_shipping_allowed\": combined_shipping_allowed,\n",
    "            \"delivery_methods\": ', '.join(delivery_methods),\n",
    "            \"extra_insurance\": extra_insurance,\n",
    "            \"provider_id\": provider_id,\n",
    "            \"is_pickup_preferable\": is_pickup_preferable,\n",
    "            \"is_pickup_only\": is_pickup_only,\n",
    "            \"pickup_location_country_code\": pickup_location[\"country_code\"],\n",
    "            \"pickup_location_city\": pickup_location[\"city\"]\n",
    "        })\n",
    "        expanded_rates.append(rate_entry)\n",
    "\n",
    "    # Create a DataFrame\n",
    "    df_expanded_rates = pd.DataFrame(expanded_rates)\n",
    "\n",
    "    return df_expanded_rates"
   ],
   "metadata": {
    "collapsed": false,
    "pycharm": {
     "name": "#%%\n"
    }
   }
  },
  {
   "cell_type": "code",
   "execution_count": 6,
   "outputs": [],
   "source": [
    "df = json_to_expanded_dataframe(json_data)"
   ],
   "metadata": {
    "collapsed": false,
    "pycharm": {
     "name": "#%%\n"
    }
   }
  },
  {
   "cell_type": "code",
   "execution_count": 14,
   "outputs": [
    {
     "data": {
      "text/plain": "2300.0"
     },
     "execution_count": 14,
     "metadata": {},
     "output_type": "execute_result"
    }
   ],
   "source": [
    "df[df[\"region_name\"] == \"Denmark\"][\"price\"].iloc[0]"
   ],
   "metadata": {
    "collapsed": false,
    "pycharm": {
     "name": "#%%\n"
    }
   }
  },
  {
   "cell_type": "code",
   "execution_count": null,
   "outputs": [],
   "source": [],
   "metadata": {
    "collapsed": false,
    "pycharm": {
     "name": "#%%\n"
    }
   }
  }
 ],
 "metadata": {
  "kernelspec": {
   "display_name": "Python 3",
   "language": "python",
   "name": "python3"
  },
  "language_info": {
   "codemirror_mode": {
    "name": "ipython",
    "version": 2
   },
   "file_extension": ".py",
   "mimetype": "text/x-python",
   "name": "python",
   "nbconvert_exporter": "python",
   "pygments_lexer": "ipython2",
   "version": "2.7.6"
  }
 },
 "nbformat": 4,
 "nbformat_minor": 0
}