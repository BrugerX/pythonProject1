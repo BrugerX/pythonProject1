{
 "cells": [
  {
   "cell_type": "code",
   "execution_count": 5,
   "metadata": {
    "collapsed": true,
    "pycharm": {
     "name": "#%%\n"
    }
   },
   "outputs": [],
   "source": [
    "from LotData.DataRow import ALlLotData\n",
    "from database.DatabaseManager import DatabaseManager\n",
    "from CW_Scraper import MagazineOverview\n",
    "import psycopg2 as pg2\n",
    "import traceback\n",
    "import Browser\n",
    "import pandas as pd\n",
    "import json\n",
    "import re\n",
    "import time"
   ]
  },
  {
   "cell_type": "markdown",
   "source": [
    "First we will get a full auction data object and connect to the database"
   ],
   "metadata": {
    "collapsed": false,
    "pycharm": {
     "name": "#%% md\n"
    }
   }
  },
  {
   "cell_type": "code",
   "execution_count": 11,
   "outputs": [
    {
     "name": "stdout",
     "output_type": "stream",
     "text": [
      "Error occurred while getting the closed auctions soup:  Message: no such window: target window already closed\n",
      "from unknown error: web view not found\n",
      "  (Session info: MicrosoftEdge=124.0.2478.97)\n",
      "Stacktrace:\n",
      "\tGetHandleVerifier [0x00C103B3+230755]\n",
      "\tMicrosoft::Applications::Events::time_ticks_t::time_ticks_t [0x00AE8761+402225]\n",
      "\tMicrosoft::Applications::Events::ILogConfiguration::operator* [0x008F8AD0+3568]\n",
      "\tMicrosoft::Applications::Events::IAuthTokensController::~IAuthTokensController [0x008E10EC+51372]\n",
      "\tMicrosoft::Applications::Events::GUID_t::GUID_t [0x009485D3+223107]\n",
      "\tMicrosoft::Applications::Events::GUID_t::GUID_t [0x00955F47+278775]\n",
      "\tMicrosoft::Applications::Events::GUID_t::GUID_t [0x009416B6+194662]\n",
      "\tMicrosoft::Applications::Events::GUID_t::GUID_t [0x00924F83+78131]\n",
      "\tMicrosoft::Applications::Events::GUID_t::GUID_t [0x00923F65+74005]\n",
      "\tMicrosoft::Applications::Events::GUID_t::GUID_t [0x0092498D+76605]\n",
      "\tGetHandleVerifier [0x00D0453C+1230572]\n",
      "\tMicrosoft::Applications::Events::FromJSON [0x00DD5FE2+132146]\n",
      "\tMicrosoft::Applications::Events::FromJSON [0x00DD5967+130487]\n",
      "\tMicrosoft::Applications::Events::FromJSON [0x00DCA8A0+85232]\n",
      "\tMicrosoft::Applications::Events::FromJSON [0x00DD69BB+134667]\n",
      "\tMicrosoft::Applications::Events::time_ticks_t::time_ticks_t [0x00AFB6AF+479871]\n",
      "\tMicrosoft::Applications::Events::time_ticks_t::time_ticks_t [0x00AF11D8+437672]\n",
      "\tMicrosoft::Applications::Events::time_ticks_t::time_ticks_t [0x00AF134B+438043]\n",
      "\tMicrosoft::Applications::Events::time_ticks_t::time_ticks_t [0x00ADB9B4+349572]\n",
      "\tBaseThreadInitThunk [0x76067BA9+25]\n",
      "\tRtlInitializeExceptionChain [0x77C5BE3B+107]\n",
      "\tRtlClearBits [0x77C5BDBF+191]\n",
      "\n"
     ]
    },
    {
     "name": "stderr",
     "output_type": "stream",
     "text": [
      "Exception ignored in: <function Service.__del__ at 0x00000208C44AF880>\n",
      "Traceback (most recent call last):\n",
      "  File \"C:\\Users\\DripTooHard\\AppData\\Local\\Programs\\Python\\Python310\\lib\\site-packages\\selenium\\webdriver\\common\\service.py\", line 171, in __del__\n",
      "    self.stop()\n",
      "  File \"C:\\Users\\DripTooHard\\AppData\\Local\\Programs\\Python\\Python310\\lib\\site-packages\\selenium\\webdriver\\common\\service.py\", line 146, in stop\n",
      "    self.send_remote_shutdown_command()\n",
      "  File \"C:\\Users\\DripTooHard\\AppData\\Local\\Programs\\Python\\Python310\\lib\\site-packages\\selenium\\webdriver\\common\\service.py\", line 127, in send_remote_shutdown_command\n",
      "    if not self.is_connectable():\n",
      "  File \"C:\\Users\\DripTooHard\\AppData\\Local\\Programs\\Python\\Python310\\lib\\site-packages\\selenium\\webdriver\\common\\service.py\", line 116, in is_connectable\n",
      "    return utils.is_connectable(self.port)\n",
      "  File \"C:\\Users\\DripTooHard\\AppData\\Local\\Programs\\Python\\Python310\\lib\\site-packages\\selenium\\webdriver\\common\\utils.py\", line 107, in is_connectable\n",
      "    socket_ = socket.create_connection((host, port), 1)\n",
      "  File \"C:\\Users\\DripTooHard\\AppData\\Local\\Programs\\Python\\Python310\\lib\\socket.py\", line 833, in create_connection\n",
      "    sock.connect(sa)\n",
      "KeyboardInterrupt: \n"
     ]
    },
    {
     "ename": "RuntimeError",
     "evalue": "Unable to get lot soup for LID: 81889801 - assumed the auction was closed? : True",
     "output_type": "error",
     "traceback": [
      "\u001B[1;31m---------------------------------------------------------------------------\u001B[0m",
      "\u001B[1;31mRuntimeError\u001B[0m                              Traceback (most recent call last)",
      "Cell \u001B[1;32mIn[11], line 7\u001B[0m\n\u001B[0;32m      4\u001B[0m randomLID \u001B[38;5;241m=\u001B[39m \u001B[38;5;241m81889801\u001B[39m\n\u001B[0;32m      6\u001B[0m lotData \u001B[38;5;241m=\u001B[39m ALlLotData(randomLID)\n\u001B[1;32m----> 7\u001B[0m \u001B[43mlotData\u001B[49m\u001B[38;5;241;43m.\u001B[39;49m\u001B[43mcomposeDataRows\u001B[49m\u001B[43m(\u001B[49m\u001B[43m)\u001B[49m\n",
      "File \u001B[1;32m~\\PycharmProjects\\pythonProject1\\LotData\\DataRow.py:530\u001B[0m, in \u001B[0;36mcomposeDataRows\u001B[1;34m(self)\u001B[0m\n\u001B[0;32m    528\u001B[0m \u001B[38;5;28;01mdef\u001B[39;00m \u001B[38;5;21mgetDataRows\u001B[39m(\u001B[38;5;28mself\u001B[39m):\n\u001B[0;32m    529\u001B[0m     \u001B[38;5;28;01mreturn\u001B[39;00m [\u001B[38;5;28mself\u001B[39m\u001B[38;5;241m.\u001B[39mdataRows]\n\u001B[1;32m--> 530\u001B[0m \u001B[38;5;28;01mdef\u001B[39;00m \u001B[38;5;21mcomposeDataRows\u001B[39m(\u001B[38;5;28mself\u001B[39m):\n\u001B[0;32m    532\u001B[0m     \u001B[38;5;28mself\u001B[39m\u001B[38;5;241m.\u001B[39mgetAPIBasedData()\n\u001B[0;32m    533\u001B[0m     \u001B[38;5;28mself\u001B[39m\u001B[38;5;241m.\u001B[39mcheckIfIsClosed()\n",
      "File \u001B[1;32m~\\PycharmProjects\\pythonProject1\\LotData\\DataRow.py:566\u001B[0m, in \u001B[0;36mgetLotSoup\u001B[1;34m(self)\u001B[0m\n\u001B[0;32m    564\u001B[0m if(self.isClosed):\n\u001B[0;32m    565\u001B[0m     soup = SeleniumBrowser.getClosedAuctionSoup(self.LID)\n\u001B[1;32m--> 566\u001B[0m else:\n\u001B[0;32m    567\u001B[0m     soup = SeleniumBrowser.getActiveAuctionSoup(self.LID)\n\u001B[0;32m    569\u001B[0m if(soup is None):\n",
      "\u001B[1;31mRuntimeError\u001B[0m: Unable to get lot soup for LID: 81889801 - assumed the auction was closed? : True"
     ]
    }
   ],
   "source": [
    "magOverview = MagazineOverview(599)\n",
    "firstPageLIDs = magOverview[0]\n",
    "#randomLID = firstPageLIDs[0]\n",
    "randomLID = 81889801\n",
    "\n",
    "lotData = ALlLotData(randomLID)\n",
    "lotData.composeDataRows()\n",
    "\n",
    "\n",
    "\n"
   ],
   "metadata": {
    "collapsed": false,
    "pycharm": {
     "name": "#%%\n"
    }
   }
  },
  {
   "cell_type": "code",
   "execution_count": null,
   "outputs": [],
   "source": [
    "dbm = DatabaseManager(\"DBUSER\",\"DBPASS\",\"DBNAME\")\n",
    "dbm.processLotData(lotData)\n",
    "print(lotData)"
   ],
   "metadata": {
    "collapsed": false,
    "pycharm": {
     "name": "#%%\n"
    }
   }
  },
  {
   "cell_type": "code",
   "execution_count": null,
   "outputs": [],
   "source": [
    "for LID in firstPageLIDs:\n",
    "    try:\n",
    "        lotData = ALlLotData(LID)\n",
    "        lotData.getDataRows()\n",
    "        time.sleep(2)\n",
    "    except Exception as e:\n",
    "        print(LID)\n",
    "        raise e"
   ],
   "metadata": {
    "collapsed": false,
    "pycharm": {
     "name": "#%%\n"
    }
   }
  },
  {
   "cell_type": "code",
   "execution_count": 13,
   "outputs": [],
   "source": [
    "lotDescription = Browser.LotApi.getLotDescription(83910981)"
   ],
   "metadata": {
    "collapsed": false,
    "pycharm": {
     "name": "#%%\n"
    }
   }
  },
  {
   "cell_type": "code",
   "execution_count": 14,
   "outputs": [
    {
     "data": {
      "text/plain": "{'highest_bidder_token': 'a5b5eec9dd4672f1369b4bf34e2ae32fbfdec18c',\n 'winner_token': None,\n 'current_bid_amount': {'EUR': 149.0, 'USD': 160.0, 'GBP': 128.0},\n 'bidding_start_time': '2024-05-10T10:00:00Z',\n 'bidding_end_time': '2024-05-14T16:05:52Z',\n 'reserve_price_met': None,\n 'favorite_count': 59,\n 'closed': False,\n 'id': 83910981,\n 'auction_id': 957715,\n 'is_buy_now_available': False,\n 'realtime_channel': 'CWAUCTION-production-957715'}"
     },
     "execution_count": 14,
     "metadata": {},
     "output_type": "execute_result"
    }
   ],
   "source": [
    "lotDescription[\"lots\"][0]"
   ],
   "metadata": {
    "collapsed": false,
    "pycharm": {
     "name": "#%%\n"
    }
   }
  },
  {
   "cell_type": "code",
   "execution_count": 3,
   "outputs": [
    {
     "data": {
      "text/plain": "5"
     },
     "execution_count": 3,
     "metadata": {},
     "output_type": "execute_result"
    }
   ],
   "source": [
    "len([1,2,3,4,5])"
   ],
   "metadata": {
    "collapsed": false,
    "pycharm": {
     "name": "#%%\n"
    }
   }
  },
  {
   "cell_type": "markdown",
   "source": [],
   "metadata": {
    "collapsed": false,
    "pycharm": {
     "name": "#%% md\n"
    }
   }
  },
  {
   "cell_type": "code",
   "execution_count": 11,
   "outputs": [],
   "source": [
    "bidsResult = json.loads(Browser.BidApi.getBids(\"83910981\").text)[\"bids\"]"
   ],
   "metadata": {
    "collapsed": false,
    "pycharm": {
     "name": "#%%\n"
    }
   }
  },
  {
   "cell_type": "code",
   "execution_count": 12,
   "outputs": [
    {
     "data": {
      "text/plain": "           id  amount currency_code  \\\n0   399490497   149.0           EUR   \n1   399490411   134.0           EUR   \n2   399490191   124.0           EUR   \n3   399489229   114.0           EUR   \n4   399434903   104.0           EUR   \n5   399412329    99.0           EUR   \n6   399402105    90.0           EUR   \n7   399392901    85.0           EUR   \n8   399242737    80.0           EUR   \n9   399242709    75.0           EUR   \n10  399242707    72.0           EUR   \n11  399242669    67.0           EUR   \n12  399242667    62.0           EUR   \n13  398669691    55.0           EUR   \n14  398669689    50.0           EUR   \n15  398044937     1.0           EUR   \n\n                                               bidder  from_order  \\\n0   {'name': 'Bidder 1964', 'token': 'a5b5eec9dd46...       False   \n1   {'name': 'Bidder 5212', 'token': '36ec3ea14d39...       False   \n2   {'name': 'Bidder 1964', 'token': 'a5b5eec9dd46...       False   \n3   {'name': 'Bidder 5212', 'token': '36ec3ea14d39...       False   \n4   {'name': 'Bidder 4716', 'token': '9d8eab1207c5...       False   \n5   {'name': 'Bidder 1964', 'token': 'a5b5eec9dd46...       False   \n6   {'name': 'Bidder 1056', 'token': '89e7d27c0351...       False   \n7   {'name': 'Bidder 2767', 'token': '86c156c9d81a...       False   \n8   {'name': 'Bidder 1827', 'token': 'fe4526a9997d...       False   \n9   {'name': 'Bidder 9527', 'token': '09814e0cf3d1...        True   \n10  {'name': 'Bidder 1827', 'token': 'fe4526a9997d...       False   \n11  {'name': 'Bidder 9527', 'token': '09814e0cf3d1...        True   \n12  {'name': 'Bidder 1827', 'token': 'fe4526a9997d...       False   \n13  {'name': 'Bidder 9527', 'token': '09814e0cf3d1...        True   \n14  {'name': 'Bidder 0307', 'token': '3172699e8ada...        True   \n15  {'name': 'Bidder 0307', 'token': '3172699e8ada...        True   \n\n   explanation_type            created_at  \n0              None  2024-05-14T11:50:59Z  \n1              None  2024-05-14T11:50:37Z  \n2              None  2024-05-14T11:49:31Z  \n3              None  2024-05-14T11:44:21Z  \n4              None  2024-05-14T06:14:20Z  \n5              None  2024-05-13T22:49:52Z  \n6              None  2024-05-13T21:43:28Z  \n7              None  2024-05-13T21:06:40Z  \n8              None  2024-05-13T15:20:30Z  \n9              None  2024-05-13T15:20:25Z  \n10             None  2024-05-13T15:20:25Z  \n11             None  2024-05-13T15:20:18Z  \n12             None  2024-05-13T15:20:18Z  \n13             None  2024-05-11T19:53:06Z  \n14      same_bidder  2024-05-11T19:53:06Z  \n15             None  2024-05-10T10:25:15Z  ",
      "text/html": "<div>\n<style scoped>\n    .dataframe tbody tr th:only-of-type {\n        vertical-align: middle;\n    }\n\n    .dataframe tbody tr th {\n        vertical-align: top;\n    }\n\n    .dataframe thead th {\n        text-align: right;\n    }\n</style>\n<table border=\"1\" class=\"dataframe\">\n  <thead>\n    <tr style=\"text-align: right;\">\n      <th></th>\n      <th>id</th>\n      <th>amount</th>\n      <th>currency_code</th>\n      <th>bidder</th>\n      <th>from_order</th>\n      <th>explanation_type</th>\n      <th>created_at</th>\n    </tr>\n  </thead>\n  <tbody>\n    <tr>\n      <th>0</th>\n      <td>399490497</td>\n      <td>149.0</td>\n      <td>EUR</td>\n      <td>{'name': 'Bidder 1964', 'token': 'a5b5eec9dd46...</td>\n      <td>False</td>\n      <td>None</td>\n      <td>2024-05-14T11:50:59Z</td>\n    </tr>\n    <tr>\n      <th>1</th>\n      <td>399490411</td>\n      <td>134.0</td>\n      <td>EUR</td>\n      <td>{'name': 'Bidder 5212', 'token': '36ec3ea14d39...</td>\n      <td>False</td>\n      <td>None</td>\n      <td>2024-05-14T11:50:37Z</td>\n    </tr>\n    <tr>\n      <th>2</th>\n      <td>399490191</td>\n      <td>124.0</td>\n      <td>EUR</td>\n      <td>{'name': 'Bidder 1964', 'token': 'a5b5eec9dd46...</td>\n      <td>False</td>\n      <td>None</td>\n      <td>2024-05-14T11:49:31Z</td>\n    </tr>\n    <tr>\n      <th>3</th>\n      <td>399489229</td>\n      <td>114.0</td>\n      <td>EUR</td>\n      <td>{'name': 'Bidder 5212', 'token': '36ec3ea14d39...</td>\n      <td>False</td>\n      <td>None</td>\n      <td>2024-05-14T11:44:21Z</td>\n    </tr>\n    <tr>\n      <th>4</th>\n      <td>399434903</td>\n      <td>104.0</td>\n      <td>EUR</td>\n      <td>{'name': 'Bidder 4716', 'token': '9d8eab1207c5...</td>\n      <td>False</td>\n      <td>None</td>\n      <td>2024-05-14T06:14:20Z</td>\n    </tr>\n    <tr>\n      <th>5</th>\n      <td>399412329</td>\n      <td>99.0</td>\n      <td>EUR</td>\n      <td>{'name': 'Bidder 1964', 'token': 'a5b5eec9dd46...</td>\n      <td>False</td>\n      <td>None</td>\n      <td>2024-05-13T22:49:52Z</td>\n    </tr>\n    <tr>\n      <th>6</th>\n      <td>399402105</td>\n      <td>90.0</td>\n      <td>EUR</td>\n      <td>{'name': 'Bidder 1056', 'token': '89e7d27c0351...</td>\n      <td>False</td>\n      <td>None</td>\n      <td>2024-05-13T21:43:28Z</td>\n    </tr>\n    <tr>\n      <th>7</th>\n      <td>399392901</td>\n      <td>85.0</td>\n      <td>EUR</td>\n      <td>{'name': 'Bidder 2767', 'token': '86c156c9d81a...</td>\n      <td>False</td>\n      <td>None</td>\n      <td>2024-05-13T21:06:40Z</td>\n    </tr>\n    <tr>\n      <th>8</th>\n      <td>399242737</td>\n      <td>80.0</td>\n      <td>EUR</td>\n      <td>{'name': 'Bidder 1827', 'token': 'fe4526a9997d...</td>\n      <td>False</td>\n      <td>None</td>\n      <td>2024-05-13T15:20:30Z</td>\n    </tr>\n    <tr>\n      <th>9</th>\n      <td>399242709</td>\n      <td>75.0</td>\n      <td>EUR</td>\n      <td>{'name': 'Bidder 9527', 'token': '09814e0cf3d1...</td>\n      <td>True</td>\n      <td>None</td>\n      <td>2024-05-13T15:20:25Z</td>\n    </tr>\n    <tr>\n      <th>10</th>\n      <td>399242707</td>\n      <td>72.0</td>\n      <td>EUR</td>\n      <td>{'name': 'Bidder 1827', 'token': 'fe4526a9997d...</td>\n      <td>False</td>\n      <td>None</td>\n      <td>2024-05-13T15:20:25Z</td>\n    </tr>\n    <tr>\n      <th>11</th>\n      <td>399242669</td>\n      <td>67.0</td>\n      <td>EUR</td>\n      <td>{'name': 'Bidder 9527', 'token': '09814e0cf3d1...</td>\n      <td>True</td>\n      <td>None</td>\n      <td>2024-05-13T15:20:18Z</td>\n    </tr>\n    <tr>\n      <th>12</th>\n      <td>399242667</td>\n      <td>62.0</td>\n      <td>EUR</td>\n      <td>{'name': 'Bidder 1827', 'token': 'fe4526a9997d...</td>\n      <td>False</td>\n      <td>None</td>\n      <td>2024-05-13T15:20:18Z</td>\n    </tr>\n    <tr>\n      <th>13</th>\n      <td>398669691</td>\n      <td>55.0</td>\n      <td>EUR</td>\n      <td>{'name': 'Bidder 9527', 'token': '09814e0cf3d1...</td>\n      <td>True</td>\n      <td>None</td>\n      <td>2024-05-11T19:53:06Z</td>\n    </tr>\n    <tr>\n      <th>14</th>\n      <td>398669689</td>\n      <td>50.0</td>\n      <td>EUR</td>\n      <td>{'name': 'Bidder 0307', 'token': '3172699e8ada...</td>\n      <td>True</td>\n      <td>same_bidder</td>\n      <td>2024-05-11T19:53:06Z</td>\n    </tr>\n    <tr>\n      <th>15</th>\n      <td>398044937</td>\n      <td>1.0</td>\n      <td>EUR</td>\n      <td>{'name': 'Bidder 0307', 'token': '3172699e8ada...</td>\n      <td>True</td>\n      <td>None</td>\n      <td>2024-05-10T10:25:15Z</td>\n    </tr>\n  </tbody>\n</table>\n</div>"
     },
     "execution_count": 12,
     "metadata": {},
     "output_type": "execute_result"
    }
   ],
   "source": [
    "pd.DataFrame.from_dict(bidsResult)"
   ],
   "metadata": {
    "collapsed": false,
    "pycharm": {
     "name": "#%%\n"
    }
   }
  }
 ],
 "metadata": {
  "kernelspec": {
   "display_name": "Python 3",
   "language": "python",
   "name": "python3"
  },
  "language_info": {
   "codemirror_mode": {
    "name": "ipython",
    "version": 2
   },
   "file_extension": ".py",
   "mimetype": "text/x-python",
   "name": "python",
   "nbconvert_exporter": "python",
   "pygments_lexer": "ipython2",
   "version": "2.7.6"
  }
 },
 "nbformat": 4,
 "nbformat_minor": 0
}