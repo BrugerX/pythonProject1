{
 "cells": [
  {
   "cell_type": "code",
   "execution_count": 1,
   "outputs": [],
   "source": [
    "import pandas as pd\n",
    "\n",
    "import LotData.LotData as ld\n",
    "import LotData.ExtractorsAndTables as ent\n",
    "import utility.LoggingUtility as lut\n",
    "import utility.webscrapingUtil as wut\n",
    "from sqlalchemy.ext.automap import automap_base\n",
    "from sqlalchemy.orm import Session\n",
    "from sqlalchemy import create_engine,table\n",
    "import CW_Scraper\n",
    "import sqlalchemy\n",
    "from sqlalchemy import create_engine\n",
    "from sqlalchemy.engine.reflection import Inspector\n",
    "import time\n",
    "from decouple import Config, RepositoryEnv\n",
    "import pandas as pd\n",
    "from sqlalchemy import create_engine\n",
    "from sqlalchemy.orm import sessionmaker\n",
    "from sqlalchemy.sql import text\n",
    "from database.EnvSettings import environment_information\n",
    "from psycopg2 import connect\n",
    "from sqlalchemy import select, and_, Inspector, inspect\n",
    "from sqlalchemy.exc import SQLAlchemyError\n",
    "from sqlalchemy import Table, MetaData\n",
    "import numpy as np\n",
    "from sqlalchemy.orm import sessionmaker\n",
    "from sqlalchemy.sql import text\n",
    "from Runnables.RunningSettings import wanted_categories\n",
    "import database.DatabaseManager as dbm\n",
    "import datetime\n",
    "import pytz"
   ],
   "metadata": {
    "collapsed": false,
    "pycharm": {
     "name": "#%%\n"
    }
   }
  },
  {
   "cell_type": "code",
   "execution_count": 2,
   "outputs": [],
   "source": [
    "class DatabaseManager:\n",
    "\n",
    "    def __init__(self,session,engine):\n",
    "        self.session = session\n",
    "        self.engine = engine\n",
    "\n",
    "    def getAllTableNames(self):\n",
    "        query = f\"SELECT table_name FROM information_schema.tables WHERE table_schema='public' AND table_type='BASE TABLE';\"\n",
    "        result = self.session.execute(text(query))\n",
    "        all_table_names = [name_tuple[0] for name_tuple in result.fetchall()]\n",
    "        return  all_table_names # or fetch the result as required\n",
    "\n",
    "\n",
    "    \"\"\"\n",
    "\n",
    "    @return true if LID is found in table, false if not - fails if the table doesn't have a lid column.\n",
    "    \"\"\"\n",
    "    def exists(self,LID,table):\n",
    "        query = f\"SELECT EXISTS (SELECT 1 FROM {table} WHERE lid = :lid)\"\n",
    "\n",
    "        result = self.session.execute(text(query), {'lid': LID})\n",
    "        return result.scalar()\n",
    "\n",
    "    \"\"\"\n",
    "\n",
    "    Checks whether or not all tables have the specified LID - returns the tables that do not have that lid\n",
    "\n",
    "    \"\"\"\n",
    "\n",
    "    def tablesWithout(self,LID):\n",
    "        all_tables = self.getAllTableNames()\n",
    "        tables_without = [table_name for table_name in all_tables if not self.exists(LID,table_name)]\n",
    "        return tables_without\n",
    "\n",
    "    def insert(self,table,dataframe):\n",
    "        try:\n",
    "            dataframe.to_sql(table, con=self.engine, if_exists='append', index=False)\n",
    "            return (dataframe,None)\n",
    "        except Exception as e:\n",
    "            return (None,e)\n",
    "\n",
    "    def update(self,table,lid,column,value):\n",
    "        try:\n",
    "            return (self.session.execute(f\"UPDATE {table} SET {column} = {value} WHERE {table}.lid = {lid}\"),None)\n",
    "        except Exception as e:\n",
    "            return (False,e)\n",
    "\n",
    "    def hasFinalBid(self,LID):\n",
    "        query = f\"SELECT EXISTS (SELECT 1 FROM bid WHERE lid = :lid AND is_final_bid = True)\"\n",
    "\n",
    "        result = self.session.execute(text(query), {'lid': LID})\n",
    "        return result.scalar()\n",
    "\n",
    "    def isClosed(self,LID):\n",
    "        query = f\"SELECT EXISTS (SELECT 1 FROM auction_history WHERE lid = :lid AND is_closed = True)\"\n",
    "\n",
    "        result = self.session.execute(text(query), {'lid': LID})\n",
    "        return result.scalar()\n",
    "\n",
    "    def getBiddingCloseTimestamp(self,LID):\n",
    "        query = text(\"\"\"\n",
    "        SELECT MAX(bidding_close_timestamp) AS latest_bidding_close_timestamp\n",
    "        FROM (\n",
    "            SELECT bidding_close_timestamp\n",
    "            FROM auction_history\n",
    "            WHERE lid = :lid_value\n",
    "\n",
    "            UNION ALL\n",
    "\n",
    "            SELECT bidding_close_timestamp\n",
    "            FROM auction\n",
    "            WHERE lid = :lid_value\n",
    "        ) AS combined_results;\n",
    "        \"\"\")\n",
    "\n",
    "        result = self.session.execute(query, {'lid_value': LID}).scalar()\n",
    "        return result\n",
    "\n",
    "\n",
    "    def validateRecordDataframe(self, DF, table_name,unique_constraints):\n",
    "\n",
    "        # Reflect the table\n",
    "        metadata = MetaData()\n",
    "        table = Table(table_name, metadata, autoload_with=self.engine)\n",
    "\n",
    "        # Initialize an empty list to hold rows to insert\n",
    "        rows_to_insert = []\n",
    "\n",
    "        # Iterate over each row in the DataFrame\n",
    "        for index, row in DF.iterrows():\n",
    "            # Build the filter condition for the unique constraints\n",
    "            filter_condition = and_(*[table.c[col] == row[col] for col in unique_constraints])\n",
    "\n",
    "            # Check if the row already exists\n",
    "            exists_query = select(table).where(filter_condition)\n",
    "            result = self.session.execute(exists_query).fetchone()\n",
    "\n",
    "            # If the row does not exist, add it to the list to insert\n",
    "            if result is None:\n",
    "                rows_to_insert.append(row)\n",
    "\n",
    "        # Convert the rows to insert back to a DataFrame\n",
    "        rows_to_insert_df = pd.DataFrame(rows_to_insert)\n",
    "\n",
    "        return rows_to_insert_df\n",
    "\n",
    "    def getRecordConstraints(self,table_name):\n",
    "        insepctor = inspect(self.engine)\n",
    "\n",
    "        if table_name in [\"meta\",\"bid\",\"spec\",\"auction\"]:\n",
    "            return insepctor.get_pk_constraint(table_name)[0][\"column_names\"]\n",
    "\n",
    "        if table_name in [\"shipping\",\"image\"]:\n",
    "            return insepctor.get_unique_constraints(table_name)[0][\"column_names\"]\n",
    "\n",
    "        if table_name in [\"auction_history\",\"favorite_history\"]:\n",
    "            return []\n",
    "\n",
    "    def insertRecordDataframe(self,DF,table_name):\n",
    "        unique_constraints = self.getRecordConstraints(table_name)\n",
    "        valid_dataframe = self.validateRecordDataframe(DF,table_name,unique_constraints)\n",
    "\n",
    "        result = self.insert(table_name,valid_dataframe)\n",
    "        #TODO: Add a check for bid\n",
    "\n",
    "        return result"
   ],
   "metadata": {
    "collapsed": false,
    "pycharm": {
     "name": "#%%\n"
    }
   }
  },
  {
   "cell_type": "code",
   "execution_count": 3,
   "outputs": [],
   "source": [
    "session,engine = dbm.getSessionEngine()\n",
    "LID_to_test = 84682673\n",
    "\n",
    "\n",
    "meta_data = ent.MetadataExtractor(LID_to_test,0,333,\"watches\")\n",
    "ld_lotdata = ld.LotData(meta_data)\n",
    "db_manager = dbm.DatabaseManager(session,engine)\n",
    "bid_record_df = ld_lotdata[\"bid_record\"]\n",
    "ship_record_df = ld_lotdata[\"shipping_record\"]\n",
    "insepctor = inspect(engine)"
   ],
   "metadata": {
    "collapsed": false,
    "pycharm": {
     "name": "#%%\n"
    }
   }
  },
  {
   "cell_type": "code",
   "execution_count": 4,
   "outputs": [
    {
     "data": {
      "text/plain": "[      bid_id  amount currency_code  from_order explanation_type  \\\n 0  411348861   145.0           EUR       False             None   \n \n    bid_placed_timestamp  bidder_name  \\\n 0  2024-06-19T18:29:46Z  Bidder 5860   \n \n                                bidder_token bidder_country_code  \\\n 0  822311e208c3a0af9ee228c86deb31638f264953                  be   \n \n                  bid_api_timestamp  is_final_bid  is_reserve_price_met  \\\n 0 2024-07-01 21:23:08.240048+00:00          True                    -1   \n \n    favorite_count     aid       lid             latest_bid_timestamp  \n 0              27  958977  84682673 2024-07-01 21:23:08.001394+00:00  ,\n None]"
     },
     "execution_count": 4,
     "metadata": {},
     "output_type": "execute_result"
    }
   ],
   "source": [
    "db_manager.insertRecordDataframe(bid_record_df,\"bid\")"
   ],
   "metadata": {
    "collapsed": false,
    "pycharm": {
     "name": "#%%\n"
    }
   }
  },
  {
   "cell_type": "code",
   "execution_count": 5,
   "outputs": [
    {
     "data": {
      "text/plain": "{'constrained_columns': ['lid'], 'name': 'meta_pkey', 'comment': None}"
     },
     "execution_count": 5,
     "metadata": {},
     "output_type": "execute_result"
    }
   ],
   "source": [
    "insepctor.get_pk_constraint(\"meta\")"
   ],
   "metadata": {
    "collapsed": false,
    "pycharm": {
     "name": "#%%\n"
    }
   }
  },
  {
   "cell_type": "code",
   "execution_count": 5,
   "outputs": [],
   "source": [],
   "metadata": {
    "collapsed": false,
    "pycharm": {
     "name": "#%%\n"
    }
   }
  }
 ],
 "metadata": {
  "kernelspec": {
   "display_name": "Python 3",
   "language": "python",
   "name": "python3"
  },
  "language_info": {
   "codemirror_mode": {
    "name": "ipython",
    "version": 2
   },
   "file_extension": ".py",
   "mimetype": "text/x-python",
   "name": "python",
   "nbconvert_exporter": "python",
   "pygments_lexer": "ipython2",
   "version": "2.7.6"
  }
 },
 "nbformat": 4,
 "nbformat_minor": 0
}