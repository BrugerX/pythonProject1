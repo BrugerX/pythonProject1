{
 "cells": [
  {
   "cell_type": "code",
   "execution_count": 25,
   "metadata": {
    "collapsed": true,
    "pycharm": {
     "name": "#%%\n"
    }
   },
   "outputs": [],
   "source": [
    "import LotData.DataRow as DR\n",
    "import Browser\n",
    "import CW_Scraper\n",
    "import time\n",
    "categoryCode = 599 #gemstones\n"
   ]
  },
  {
   "cell_type": "code",
   "execution_count": 36,
   "outputs": [
    {
     "name": "stdout",
     "output_type": "stream",
     "text": [
      "Current page: 0 out of 107 pages\n",
      "list index out of range\n",
      "list index out of range\n",
      "list index out of range\n",
      "Current page: 1 out of 107 pages\n",
      "list index out of range\n",
      "list index out of range\n",
      "list index out of range\n",
      "Current page: 2 out of 107 pages\n",
      "Current page: 3 out of 107 pages\n",
      "Current page: 4 out of 107 pages\n",
      "Current page: 5 out of 107 pages\n",
      "Current page: 6 out of 107 pages\n",
      "Current page: 7 out of 107 pages\n",
      "Current page: 8 out of 107 pages\n",
      "Current page: 9 out of 107 pages\n",
      "Current page: 10 out of 107 pages\n",
      "Current page: 11 out of 107 pages\n",
      "Current page: 12 out of 107 pages\n",
      "Current page: 13 out of 107 pages\n",
      "Current page: 14 out of 107 pages\n",
      "Current page: 15 out of 107 pages\n",
      "Current page: 16 out of 107 pages\n",
      "Current page: 17 out of 107 pages\n",
      "Current page: 18 out of 107 pages\n",
      "Current page: 19 out of 107 pages\n",
      "Current page: 20 out of 107 pages\n",
      "Current page: 21 out of 107 pages\n",
      "Current page: 22 out of 107 pages\n",
      "Current page: 23 out of 107 pages\n",
      "Current page: 24 out of 107 pages\n",
      "Current page: 25 out of 107 pages\n",
      "Current page: 26 out of 107 pages\n",
      "Current page: 27 out of 107 pages\n",
      "Current page: 28 out of 107 pages\n",
      "Current page: 29 out of 107 pages\n",
      "Current page: 30 out of 107 pages\n",
      "Current page: 31 out of 107 pages\n",
      "Current page: 32 out of 107 pages\n",
      "Current page: 33 out of 107 pages\n",
      "Current page: 34 out of 107 pages\n",
      "Current page: 35 out of 107 pages\n",
      "Current page: 36 out of 107 pages\n",
      "Current page: 37 out of 107 pages\n",
      "Current page: 38 out of 107 pages\n",
      "Current page: 39 out of 107 pages\n",
      "Current page: 40 out of 107 pages\n",
      "Current page: 41 out of 107 pages\n",
      "Current page: 42 out of 107 pages\n",
      "Current page: 43 out of 107 pages\n",
      "Current page: 44 out of 107 pages\n",
      "Current page: 45 out of 107 pages\n",
      "Current page: 46 out of 107 pages\n",
      "Current page: 47 out of 107 pages\n",
      "Current page: 48 out of 107 pages\n",
      "Current page: 49 out of 107 pages\n",
      "Current page: 50 out of 107 pages\n",
      "Current page: 51 out of 107 pages\n",
      "Current page: 52 out of 107 pages\n",
      "Current page: 53 out of 107 pages\n",
      "Current page: 54 out of 107 pages\n",
      "Current page: 55 out of 107 pages\n",
      "Current page: 56 out of 107 pages\n",
      "Current page: 57 out of 107 pages\n",
      "Current page: 58 out of 107 pages\n",
      "Current page: 59 out of 107 pages\n",
      "Current page: 60 out of 107 pages\n",
      "Current page: 61 out of 107 pages\n",
      "Current page: 62 out of 107 pages\n",
      "Current page: 63 out of 107 pages\n",
      "Current page: 64 out of 107 pages\n",
      "Current page: 65 out of 107 pages\n",
      "Current page: 66 out of 107 pages\n",
      "Current page: 67 out of 107 pages\n",
      "Current page: 68 out of 107 pages\n",
      "Current page: 69 out of 107 pages\n",
      "Current page: 70 out of 107 pages\n",
      "Current page: 71 out of 107 pages\n",
      "Current page: 72 out of 107 pages\n",
      "Current page: 73 out of 107 pages\n",
      "Current page: 74 out of 107 pages\n",
      "Current page: 75 out of 107 pages\n",
      "Current page: 76 out of 107 pages\n",
      "Current page: 77 out of 107 pages\n",
      "Current page: 78 out of 107 pages\n",
      "Current page: 79 out of 107 pages\n",
      "Current page: 80 out of 107 pages\n",
      "Current page: 81 out of 107 pages\n",
      "Current page: 82 out of 107 pages\n",
      "Current page: 83 out of 107 pages\n",
      "Current page: 84 out of 107 pages\n",
      "Current page: 85 out of 107 pages\n",
      "Current page: 86 out of 107 pages\n",
      "Current page: 87 out of 107 pages\n",
      "Current page: 88 out of 107 pages\n",
      "Current page: 89 out of 107 pages\n",
      "Current page: 90 out of 107 pages\n",
      "Current page: 91 out of 107 pages\n",
      "Current page: 92 out of 107 pages\n",
      "Current page: 93 out of 107 pages\n",
      "Current page: 94 out of 107 pages\n",
      "Current page: 95 out of 107 pages\n",
      "Current page: 96 out of 107 pages\n",
      "Current page: 97 out of 107 pages\n",
      "Current page: 98 out of 107 pages\n",
      "Current page: 99 out of 107 pages\n",
      "Current page: 100 out of 107 pages\n",
      "Current page: 101 out of 107 pages\n",
      "Current page: 102 out of 107 pages\n",
      "Current page: 103 out of 107 pages\n",
      "Current page: 104 out of 107 pages\n",
      "Current page: 105 out of 107 pages\n",
      "Current page: 106 out of 107 pages\n"
     ]
    }
   ],
   "source": [
    "magazine = CW_Scraper.MagazineOverview(categoryCode)\n",
    "specDicts = set()\n",
    "specsSeen = []\n",
    "\n",
    "for currentPage,LIDs in enumerate(magazine):\n",
    "    timeStart = time.time()\n",
    "    print(f\"Current page: {currentPage} out of {len(magazine)} pages\")\n",
    "    for LID in LIDs:\n",
    "        try:\n",
    "            soup = Browser.SeleniumBrowser.getActiveAuctionSoup(LID)\n",
    "        except Exception as e:\n",
    "            print(e)\n",
    "            try:\n",
    "                soup = Browser.SeleniumBrowser.getClosedAuctionSoup(LID)\n",
    "            except Exception as e:\n",
    "                print(e)\n",
    "        try:\n",
    "            specData = DR.SpecData(LID,soup)\n",
    "            specsSeen += [list(specData.getDataRows()[0].keys())]\n",
    "\n",
    "        except Exception as e:\n",
    "            print(e)\n"
   ],
   "metadata": {
    "collapsed": false,
    "pycharm": {
     "name": "#%%\n"
    }
   }
  },
  {
   "cell_type": "code",
   "execution_count": 34,
   "outputs": [],
   "source": [
    "specDicts1 = specDicts"
   ],
   "metadata": {
    "collapsed": false,
    "pycharm": {
     "name": "#%%\n"
    }
   }
  },
  {
   "cell_type": "code",
   "execution_count": 33,
   "outputs": [
    {
     "data": {
      "text/plain": "{'Carat weight individual stone',\n 'Clarity grade',\n 'Colour',\n 'Cut & Shape',\n 'Cut grade',\n 'Cutting style',\n 'Gemstone colour',\n 'Gemstone type',\n 'Lab report number',\n 'Laboratory Report',\n 'Nr of stones',\n 'Optical effect',\n 'Origin as given on certificate',\n 'Sealed',\n 'Sealed by laboratory',\n 'Shape',\n 'Stone',\n 'Title additional information',\n 'Total carat weight',\n 'Transparency',\n 'Transparency/ clarity',\n 'Treatment'}"
     },
     "execution_count": 33,
     "metadata": {},
     "output_type": "execute_result"
    }
   ],
   "source": [
    "specDicts"
   ],
   "metadata": {
    "collapsed": false,
    "pycharm": {
     "name": "#%%\n"
    }
   }
  },
  {
   "cell_type": "code",
   "execution_count": null,
   "outputs": [],
   "source": [],
   "metadata": {
    "collapsed": false,
    "pycharm": {
     "name": "#%%\n"
    }
   }
  }
 ],
 "metadata": {
  "kernelspec": {
   "display_name": "Python 3",
   "language": "python",
   "name": "python3"
  },
  "language_info": {
   "codemirror_mode": {
    "name": "ipython",
    "version": 2
   },
   "file_extension": ".py",
   "mimetype": "text/x-python",
   "name": "python",
   "nbconvert_exporter": "python",
   "pygments_lexer": "ipython2",
   "version": "2.7.6"
  }
 },
 "nbformat": 4,
 "nbformat_minor": 0
}