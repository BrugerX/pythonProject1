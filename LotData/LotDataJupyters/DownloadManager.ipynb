{
 "cells": [
  {
   "cell_type": "code",
   "execution_count": 3,
   "metadata": {
    "collapsed": true,
    "pycharm": {
     "name": "#%%\n"
    }
   },
   "outputs": [],
   "source": [
    "import LotData.LotData as LD\n",
    "import LotData.Record as rcrd\n",
    "import LotData.ExtractorsAndTables as ent\n",
    "import utility.webscrapingUtil as wut\n",
    "metaData = ent.MetadataExtractor(wut.getRandomClosedLID(),wut.getTimeStamp(),715,\"diamonds\")\n",
    "d_manager = LD.DownloadManager(metaData)\n",
    "ldata = LD.LotData(metaData)"
   ]
  },
  {
   "cell_type": "code",
   "execution_count": 4,
   "outputs": [
    {
     "name": "stderr",
     "output_type": "stream",
     "text": [
      "C:\\Users\\DripTooHard\\PycharmProjects\\pythonProject1\\Browser.py:154: GuessedAtParserWarning: No parser was explicitly specified, so I'm using the best available HTML parser for this system (\"lxml\"). This usually isn't a problem, but if you run this code on another system, or in a different virtual environment, it may use a different parser and behave differently.\n",
      "\n",
      "The code that caused this warning is on line 154 of the file C:\\Users\\DripTooHard\\PycharmProjects\\pythonProject1\\Browser.py. To get rid of this warning, pass the additional argument 'features=\"lxml\"' to the BeautifulSoup constructor.\n",
      "\n",
      "  soup = bs4.BeautifulSoup(html)\n"
     ]
    },
    {
     "data": {
      "text/plain": "        LID                                          spec_dict category_name  \\\n0  84559939  {'Diamond type': 'Natural', 'Lab report number...      diamonds   \n\n   category_int                   soup_timestamp  \n0           715 2024-06-17 19:32:56.754083+00:00  ",
      "text/html": "<div>\n<style scoped>\n    .dataframe tbody tr th:only-of-type {\n        vertical-align: middle;\n    }\n\n    .dataframe tbody tr th {\n        vertical-align: top;\n    }\n\n    .dataframe thead th {\n        text-align: right;\n    }\n</style>\n<table border=\"1\" class=\"dataframe\">\n  <thead>\n    <tr style=\"text-align: right;\">\n      <th></th>\n      <th>LID</th>\n      <th>spec_dict</th>\n      <th>category_name</th>\n      <th>category_int</th>\n      <th>soup_timestamp</th>\n    </tr>\n  </thead>\n  <tbody>\n    <tr>\n      <th>0</th>\n      <td>84559939</td>\n      <td>{'Diamond type': 'Natural', 'Lab report number...</td>\n      <td>diamonds</td>\n      <td>715</td>\n      <td>2024-06-17 19:32:56.754083+00:00</td>\n    </tr>\n  </tbody>\n</table>\n</div>"
     },
     "execution_count": 4,
     "metadata": {},
     "output_type": "execute_result"
    }
   ],
   "source": [
    "ldata[\"spec_record\"]"
   ],
   "metadata": {
    "collapsed": false,
    "pycharm": {
     "name": "#%%\n"
    }
   }
  },
  {
   "cell_type": "code",
   "execution_count": null,
   "outputs": [],
   "source": [],
   "metadata": {
    "collapsed": false,
    "pycharm": {
     "name": "#%%\n"
    }
   }
  }
 ],
 "metadata": {
  "kernelspec": {
   "display_name": "Python 3",
   "language": "python",
   "name": "python3"
  },
  "language_info": {
   "codemirror_mode": {
    "name": "ipython",
    "version": 2
   },
   "file_extension": ".py",
   "mimetype": "text/x-python",
   "name": "python",
   "nbconvert_exporter": "python",
   "pygments_lexer": "ipython2",
   "version": "2.7.6"
  }
 },
 "nbformat": 4,
 "nbformat_minor": 0
}