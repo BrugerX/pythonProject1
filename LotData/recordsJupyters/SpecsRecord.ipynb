{
 "cells": [
  {
   "cell_type": "code",
   "execution_count": 1,
   "metadata": {
    "collapsed": true,
    "pycharm": {
     "name": "#%%\n"
    }
   },
   "outputs": [
    {
     "name": "stderr",
     "output_type": "stream",
     "text": [
      "C:\\Users\\DripTooHard\\PycharmProjects\\pythonProject1\\Browser.py:154: GuessedAtParserWarning: No parser was explicitly specified, so I'm using the best available HTML parser for this system (\"lxml\"). This usually isn't a problem, but if you run this code on another system, or in a different virtual environment, it may use a different parser and behave differently.\n",
      "\n",
      "The code that caused this warning is on line 154 of the file C:\\Users\\DripTooHard\\PycharmProjects\\pythonProject1\\Browser.py. To get rid of this warning, pass the additional argument 'features=\"lxml\"' to the BeautifulSoup constructor.\n",
      "\n",
      "  soup = bs4.BeautifulSoup(html)\n"
     ]
    }
   ],
   "source": [
    "import unittest\n",
    "import LotData.ExtractorsAndTables as EnT\n",
    "import LotData.LotData as ld\n",
    "import Browser\n",
    "import utility.TestUtil as tu\n",
    "import utility.webscrapingUtil as wut\n",
    "\n",
    "closed_LID_diamonds = \"84559939\"\n",
    "soup_data_timestamp = wut.getTimeStamp()\n",
    "meta_data = EnT.MetadataExtractor(closed_LID_diamonds, wut.getTimeStamp(), 715, \"Diamonds\")\n",
    "soup_data = EnT.SoupExtractor(soup_data_timestamp,\n",
    "                              Browser.SeleniumBrowser.getClosedAuctionSoup(closed_LID_diamonds))\n",
    "record = ld.SpecsRecord({\"meta_data\": meta_data, \"soup_data\": soup_data})"
   ]
  },
  {
   "cell_type": "code",
   "execution_count": 4,
   "outputs": [
    {
     "data": {
      "text/plain": "{'Diamond type': 'Natural',\n 'Lab report number': '532234282',\n 'Number of diamonds': '1',\n 'Total carat weight': '0.48',\n 'Cut grade': 'Excellent',\n 'Diamond Clarity Grade': 'SI2',\n 'Fluorescence': 'Very slight fluorescence',\n 'Symmetry': 'Very good',\n 'Polish': 'Very good',\n 'Laboratory Report': 'International Gemological Institute (IGI)',\n 'Sealed by laboratory': 'Yes',\n 'Laser Engraved': 'No',\n 'Shape': 'Round',\n 'Cutting style': 'Brilliant cut'}"
     },
     "execution_count": 4,
     "metadata": {},
     "output_type": "execute_result"
    }
   ],
   "source": [
    "favorite_df = record.getRecordForDatabaseCopy()\n",
    "favorite_df[\"spec_dict\"][0]"
   ],
   "metadata": {
    "collapsed": false,
    "pycharm": {
     "name": "#%%\n"
    }
   }
  },
  {
   "cell_type": "code",
   "execution_count": null,
   "outputs": [],
   "source": [
    "{'Diamond type': 'Natural',\n",
    " 'Lab report number': '532234282',\n",
    " 'Number of diamonds': '1',\n",
    " 'Total carat weight': '0.48',\n",
    " 'Cut grade': 'Excellent',\n",
    " 'Diamond Clarity Grade': 'SI2',\n",
    " 'Fluorescence': 'Very slight fluorescence',\n",
    " 'Symmetry': 'Very good',\n",
    " 'Polish': 'Very good',\n",
    " 'Laboratory Report': 'International Gemological Institute (IGI)',\n",
    " 'Sealed by laboratory': 'Yes',\n",
    " 'Laser Engraved': 'No',\n",
    " 'Shape': 'Round',\n",
    " 'Cutting style': 'Brilliant cut'}"
   ],
   "metadata": {
    "collapsed": false,
    "pycharm": {
     "name": "#%%\n"
    }
   }
  }
 ],
 "metadata": {
  "kernelspec": {
   "display_name": "Python 3",
   "language": "python",
   "name": "python3"
  },
  "language_info": {
   "codemirror_mode": {
    "name": "ipython",
    "version": 2
   },
   "file_extension": ".py",
   "mimetype": "text/x-python",
   "name": "python",
   "nbconvert_exporter": "python",
   "pygments_lexer": "ipython2",
   "version": "2.7.6"
  }
 },
 "nbformat": 4,
 "nbformat_minor": 0
}