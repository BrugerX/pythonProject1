{
 "cells": [
  {
   "cell_type": "code",
   "execution_count": 1,
   "metadata": {
    "collapsed": true,
    "pycharm": {
     "name": "#%%\n"
    }
   },
   "outputs": [
    {
     "ename": "SessionNotCreatedException",
     "evalue": "Message: session not created: This version of Microsoft Edge WebDriver only supports Microsoft Edge version 124\nCurrent browser version is 126.0.2592.56 with binary path C:\\Program Files (x86)\\Microsoft\\Edge\\Application\\msedge.exe\nStacktrace:\n\tGetHandleVerifier [0x012203B3+230755]\n\tMicrosoft::Applications::Events::time_ticks_t::time_ticks_t [0x010F8761+402225]\n\tMicrosoft::Applications::Events::ILogConfiguration::operator* [0x00F08AD0+3568]\n\tMicrosoft::Applications::Events::GUID_t::GUID_t [0x00F31E8D+65597]\n\tMicrosoft::Applications::Events::GUID_t::GUID_t [0x00F31500+63152]\n\tMicrosoft::Applications::Events::GUID_t::GUID_t [0x00F2E6FF+51375]\n\tMicrosoft::Applications::Events::GUID_t::GUID_t [0x00F2A71C+35020]\n\tMicrosoft::Applications::Events::GUID_t::GUID_t [0x00F5B243+234483]\n\tMicrosoft::Applications::Events::GUID_t::GUID_t [0x00F5AB3C+232684]\n\tMicrosoft::Applications::Events::GUID_t::GUID_t [0x00F516B6+194662]\n\tMicrosoft::Applications::Events::GUID_t::GUID_t [0x00F34F83+78131]\n\tMicrosoft::Applications::Events::GUID_t::GUID_t [0x00F33F65+74005]\n\tMicrosoft::Applications::Events::GUID_t::GUID_t [0x00F3498D+76605]\n\tGetHandleVerifier [0x0131453C+1230572]\n\tMicrosoft::Applications::Events::FromJSON [0x013E5FE2+132146]\n\tMicrosoft::Applications::Events::FromJSON [0x013E5967+130487]\n\tMicrosoft::Applications::Events::FromJSON [0x013DA8A0+85232]\n\tMicrosoft::Applications::Events::FromJSON [0x013E69BB+134667]\n\tMicrosoft::Applications::Events::time_ticks_t::time_ticks_t [0x0110B6AF+479871]\n\tMicrosoft::Applications::Events::time_ticks_t::time_ticks_t [0x011011D8+437672]\n\tMicrosoft::Applications::Events::time_ticks_t::time_ticks_t [0x0110134B+438043]\n\tMicrosoft::Applications::Events::time_ticks_t::time_ticks_t [0x010EB9B4+349572]\n\tBaseThreadInitThunk [0x77547BA9+25]\n\tRtlInitializeExceptionChain [0x77D1C10B+107]\n\tRtlClearBits [0x77D1C08F+191]\n",
     "output_type": "error",
     "traceback": [
      "\u001B[1;31m---------------------------------------------------------------------------\u001B[0m",
      "\u001B[1;31mSessionNotCreatedException\u001B[0m                Traceback (most recent call last)",
      "Cell \u001B[1;32mIn[1], line 12\u001B[0m\n\u001B[0;32m      9\u001B[0m soup_data_timestamp \u001B[38;5;241m=\u001B[39m wut\u001B[38;5;241m.\u001B[39mgetTimeStamp()\n\u001B[0;32m     10\u001B[0m meta_data \u001B[38;5;241m=\u001B[39m EnT\u001B[38;5;241m.\u001B[39mMetadataExtractor(closed_LID_diamonds, wut\u001B[38;5;241m.\u001B[39mgetTimeStamp(), \u001B[38;5;241m715\u001B[39m, \u001B[38;5;124m\"\u001B[39m\u001B[38;5;124mDiamonds\u001B[39m\u001B[38;5;124m\"\u001B[39m)\n\u001B[0;32m     11\u001B[0m soup_data \u001B[38;5;241m=\u001B[39m EnT\u001B[38;5;241m.\u001B[39mSoupExtractor(soup_data_timestamp,\n\u001B[1;32m---> 12\u001B[0m                               \u001B[43mBrowser\u001B[49m\u001B[38;5;241;43m.\u001B[39;49m\u001B[43mSeleniumBrowser\u001B[49m\u001B[38;5;241;43m.\u001B[39;49m\u001B[43mgetClosedAuctionSoup\u001B[49m\u001B[43m(\u001B[49m\u001B[43mclosed_LID_diamonds\u001B[49m\u001B[43m)\u001B[49m)\n\u001B[0;32m     13\u001B[0m record \u001B[38;5;241m=\u001B[39m ld\u001B[38;5;241m.\u001B[39mSpecsRecord({\u001B[38;5;124m\"\u001B[39m\u001B[38;5;124mmeta_data\u001B[39m\u001B[38;5;124m\"\u001B[39m: meta_data, \u001B[38;5;124m\"\u001B[39m\u001B[38;5;124msoup_data\u001B[39m\u001B[38;5;124m\"\u001B[39m: soup_data})\n",
      "File \u001B[1;32m~\\PycharmProjects\\pythonProject1\\Browser.py:128\u001B[0m, in \u001B[0;36mSeleniumBrowser.getClosedAuctionSoup\u001B[1;34m(LID)\u001B[0m\n\u001B[0;32m    125\u001B[0m \u001B[38;5;129m@staticmethod\u001B[39m\n\u001B[0;32m    126\u001B[0m \u001B[38;5;28;01mdef\u001B[39;00m \u001B[38;5;21mgetClosedAuctionSoup\u001B[39m(LID):\n\u001B[0;32m    127\u001B[0m     requestUrl \u001B[38;5;241m=\u001B[39m SeleniumBrowser\u001B[38;5;241m.\u001B[39mgetAuctionURL(LID)\n\u001B[1;32m--> 128\u001B[0m     driver \u001B[38;5;241m=\u001B[39m \u001B[43mSeleniumBrowser\u001B[49m\u001B[38;5;241;43m.\u001B[39;49m\u001B[43mgetEdgedriver\u001B[49m\u001B[43m(\u001B[49m\u001B[43m)\u001B[49m\n\u001B[0;32m    129\u001B[0m     driver\u001B[38;5;241m.\u001B[39mget(requestUrl)\n\u001B[0;32m    131\u001B[0m     \u001B[38;5;28;01mtry\u001B[39;00m:\n\u001B[0;32m    132\u001B[0m \n\u001B[0;32m    133\u001B[0m         \u001B[38;5;66;03m# Wait and click the cookie button\u001B[39;00m\n",
      "File \u001B[1;32m~\\PycharmProjects\\pythonProject1\\Browser.py:112\u001B[0m, in \u001B[0;36mSeleniumBrowser.getEdgedriver\u001B[1;34m()\u001B[0m\n\u001B[0;32m    110\u001B[0m \u001B[38;5;129m@staticmethod\u001B[39m\n\u001B[0;32m    111\u001B[0m \u001B[38;5;28;01mdef\u001B[39;00m \u001B[38;5;21mgetEdgedriver\u001B[39m():\n\u001B[1;32m--> 112\u001B[0m     \u001B[38;5;28;01mreturn\u001B[39;00m \u001B[43mwebdriver\u001B[49m\u001B[38;5;241;43m.\u001B[39;49m\u001B[43mEdge\u001B[49m\u001B[43m(\u001B[49m\u001B[43mexecutable_path\u001B[49m\u001B[38;5;241;43m=\u001B[39;49m\u001B[38;5;124;43mr\u001B[39;49m\u001B[38;5;124;43m\"\u001B[39;49m\u001B[38;5;124;43mC:\u001B[39;49m\u001B[38;5;124;43m\\\u001B[39;49m\u001B[38;5;124;43mUsers\u001B[39;49m\u001B[38;5;124;43m\\\u001B[39;49m\u001B[38;5;124;43mDripTooHard\u001B[39;49m\u001B[38;5;124;43m\\\u001B[39;49m\u001B[38;5;124;43mPycharmProjects\u001B[39;49m\u001B[38;5;124;43m\\\u001B[39;49m\u001B[38;5;124;43mpythonProject1\u001B[39;49m\u001B[38;5;124;43m\\\u001B[39;49m\u001B[38;5;124;43mmsedgedriver.exe\u001B[39;49m\u001B[38;5;124;43m\"\u001B[39;49m\u001B[43m)\u001B[49m\n",
      "File \u001B[1;32m~\\AppData\\Local\\Programs\\Python\\Python310\\lib\\site-packages\\selenium\\webdriver\\edge\\webdriver.py:61\u001B[0m, in \u001B[0;36mWebDriver.__init__\u001B[1;34m(self, executable_path, port, options, service_args, capabilities, service_log_path, service, keep_alive, verbose)\u001B[0m\n\u001B[0;32m     58\u001B[0m \u001B[38;5;28;01mif\u001B[39;00m \u001B[38;5;129;01mnot\u001B[39;00m service:\n\u001B[0;32m     59\u001B[0m     service \u001B[38;5;241m=\u001B[39m Service(executable_path, port, service_args, service_log_path)\n\u001B[1;32m---> 61\u001B[0m \u001B[38;5;28;43msuper\u001B[39;49m\u001B[43m(\u001B[49m\u001B[43m)\u001B[49m\u001B[38;5;241;43m.\u001B[39;49m\u001B[38;5;21;43m__init__\u001B[39;49m\u001B[43m(\u001B[49m\u001B[43mDesiredCapabilities\u001B[49m\u001B[38;5;241;43m.\u001B[39;49m\u001B[43mEDGE\u001B[49m\u001B[43m[\u001B[49m\u001B[38;5;124;43m'\u001B[39;49m\u001B[38;5;124;43mbrowserName\u001B[39;49m\u001B[38;5;124;43m'\u001B[39;49m\u001B[43m]\u001B[49m\u001B[43m,\u001B[49m\u001B[43m \u001B[49m\u001B[38;5;124;43m\"\u001B[39;49m\u001B[38;5;124;43mms\u001B[39;49m\u001B[38;5;124;43m\"\u001B[39;49m\u001B[43m,\u001B[49m\n\u001B[0;32m     62\u001B[0m \u001B[43m                 \u001B[49m\u001B[43mport\u001B[49m\u001B[43m,\u001B[49m\u001B[43m \u001B[49m\u001B[43moptions\u001B[49m\u001B[43m,\u001B[49m\n\u001B[0;32m     63\u001B[0m \u001B[43m                 \u001B[49m\u001B[43mservice_args\u001B[49m\u001B[43m,\u001B[49m\u001B[43m \u001B[49m\u001B[43mcapabilities\u001B[49m\u001B[43m,\u001B[49m\n\u001B[0;32m     64\u001B[0m \u001B[43m                 \u001B[49m\u001B[43mservice_log_path\u001B[49m\u001B[43m,\u001B[49m\u001B[43m \u001B[49m\u001B[43mservice\u001B[49m\u001B[43m,\u001B[49m\u001B[43m \u001B[49m\u001B[43mkeep_alive\u001B[49m\u001B[43m)\u001B[49m\n",
      "File \u001B[1;32m~\\AppData\\Local\\Programs\\Python\\Python310\\lib\\site-packages\\selenium\\webdriver\\chromium\\webdriver.py:92\u001B[0m, in \u001B[0;36mChromiumDriver.__init__\u001B[1;34m(self, browser_name, vendor_prefix, port, options, service_args, desired_capabilities, service_log_path, service, keep_alive)\u001B[0m\n\u001B[0;32m     89\u001B[0m \u001B[38;5;28mself\u001B[39m\u001B[38;5;241m.\u001B[39mservice\u001B[38;5;241m.\u001B[39mstart()\n\u001B[0;32m     91\u001B[0m \u001B[38;5;28;01mtry\u001B[39;00m:\n\u001B[1;32m---> 92\u001B[0m     \u001B[38;5;28;43msuper\u001B[39;49m\u001B[43m(\u001B[49m\u001B[43m)\u001B[49m\u001B[38;5;241;43m.\u001B[39;49m\u001B[38;5;21;43m__init__\u001B[39;49m\u001B[43m(\u001B[49m\n\u001B[0;32m     93\u001B[0m \u001B[43m        \u001B[49m\u001B[43mcommand_executor\u001B[49m\u001B[38;5;241;43m=\u001B[39;49m\u001B[43mChromiumRemoteConnection\u001B[49m\u001B[43m(\u001B[49m\n\u001B[0;32m     94\u001B[0m \u001B[43m            \u001B[49m\u001B[43mremote_server_addr\u001B[49m\u001B[38;5;241;43m=\u001B[39;49m\u001B[38;5;28;43mself\u001B[39;49m\u001B[38;5;241;43m.\u001B[39;49m\u001B[43mservice\u001B[49m\u001B[38;5;241;43m.\u001B[39;49m\u001B[43mservice_url\u001B[49m\u001B[43m,\u001B[49m\n\u001B[0;32m     95\u001B[0m \u001B[43m            \u001B[49m\u001B[43mbrowser_name\u001B[49m\u001B[38;5;241;43m=\u001B[39;49m\u001B[43mbrowser_name\u001B[49m\u001B[43m,\u001B[49m\u001B[43m \u001B[49m\u001B[43mvendor_prefix\u001B[49m\u001B[38;5;241;43m=\u001B[39;49m\u001B[43mvendor_prefix\u001B[49m\u001B[43m,\u001B[49m\n\u001B[0;32m     96\u001B[0m \u001B[43m            \u001B[49m\u001B[43mkeep_alive\u001B[49m\u001B[38;5;241;43m=\u001B[39;49m\u001B[43mkeep_alive\u001B[49m\u001B[43m,\u001B[49m\u001B[43m \u001B[49m\u001B[43mignore_proxy\u001B[49m\u001B[38;5;241;43m=\u001B[39;49m\u001B[43m_ignore_proxy\u001B[49m\u001B[43m)\u001B[49m\u001B[43m,\u001B[49m\n\u001B[0;32m     97\u001B[0m \u001B[43m        \u001B[49m\u001B[43moptions\u001B[49m\u001B[38;5;241;43m=\u001B[39;49m\u001B[43moptions\u001B[49m\u001B[43m)\u001B[49m\n\u001B[0;32m     98\u001B[0m \u001B[38;5;28;01mexcept\u001B[39;00m \u001B[38;5;167;01mException\u001B[39;00m:\n\u001B[0;32m     99\u001B[0m     \u001B[38;5;28mself\u001B[39m\u001B[38;5;241m.\u001B[39mquit()\n",
      "File \u001B[1;32m~\\AppData\\Local\\Programs\\Python\\Python310\\lib\\site-packages\\selenium\\webdriver\\remote\\webdriver.py:270\u001B[0m, in \u001B[0;36mWebDriver.__init__\u001B[1;34m(self, command_executor, desired_capabilities, browser_profile, proxy, keep_alive, file_detector, options)\u001B[0m\n\u001B[0;32m    268\u001B[0m \u001B[38;5;28mself\u001B[39m\u001B[38;5;241m.\u001B[39m_authenticator_id \u001B[38;5;241m=\u001B[39m \u001B[38;5;28;01mNone\u001B[39;00m\n\u001B[0;32m    269\u001B[0m \u001B[38;5;28mself\u001B[39m\u001B[38;5;241m.\u001B[39mstart_client()\n\u001B[1;32m--> 270\u001B[0m \u001B[38;5;28;43mself\u001B[39;49m\u001B[38;5;241;43m.\u001B[39;49m\u001B[43mstart_session\u001B[49m\u001B[43m(\u001B[49m\u001B[43mcapabilities\u001B[49m\u001B[43m,\u001B[49m\u001B[43m \u001B[49m\u001B[43mbrowser_profile\u001B[49m\u001B[43m)\u001B[49m\n",
      "File \u001B[1;32m~\\AppData\\Local\\Programs\\Python\\Python310\\lib\\site-packages\\selenium\\webdriver\\remote\\webdriver.py:363\u001B[0m, in \u001B[0;36mWebDriver.start_session\u001B[1;34m(self, capabilities, browser_profile)\u001B[0m\n\u001B[0;32m    361\u001B[0m w3c_caps \u001B[38;5;241m=\u001B[39m _make_w3c_caps(capabilities)\n\u001B[0;32m    362\u001B[0m parameters \u001B[38;5;241m=\u001B[39m {\u001B[38;5;124m\"\u001B[39m\u001B[38;5;124mcapabilities\u001B[39m\u001B[38;5;124m\"\u001B[39m: w3c_caps}\n\u001B[1;32m--> 363\u001B[0m response \u001B[38;5;241m=\u001B[39m \u001B[38;5;28;43mself\u001B[39;49m\u001B[38;5;241;43m.\u001B[39;49m\u001B[43mexecute\u001B[49m\u001B[43m(\u001B[49m\u001B[43mCommand\u001B[49m\u001B[38;5;241;43m.\u001B[39;49m\u001B[43mNEW_SESSION\u001B[49m\u001B[43m,\u001B[49m\u001B[43m \u001B[49m\u001B[43mparameters\u001B[49m\u001B[43m)\u001B[49m\n\u001B[0;32m    364\u001B[0m \u001B[38;5;28;01mif\u001B[39;00m \u001B[38;5;124m'\u001B[39m\u001B[38;5;124msessionId\u001B[39m\u001B[38;5;124m'\u001B[39m \u001B[38;5;129;01mnot\u001B[39;00m \u001B[38;5;129;01min\u001B[39;00m response:\n\u001B[0;32m    365\u001B[0m     response \u001B[38;5;241m=\u001B[39m response[\u001B[38;5;124m'\u001B[39m\u001B[38;5;124mvalue\u001B[39m\u001B[38;5;124m'\u001B[39m]\n",
      "File \u001B[1;32m~\\AppData\\Local\\Programs\\Python\\Python310\\lib\\site-packages\\selenium\\webdriver\\remote\\webdriver.py:428\u001B[0m, in \u001B[0;36mWebDriver.execute\u001B[1;34m(self, driver_command, params)\u001B[0m\n\u001B[0;32m    426\u001B[0m response \u001B[38;5;241m=\u001B[39m \u001B[38;5;28mself\u001B[39m\u001B[38;5;241m.\u001B[39mcommand_executor\u001B[38;5;241m.\u001B[39mexecute(driver_command, params)\n\u001B[0;32m    427\u001B[0m \u001B[38;5;28;01mif\u001B[39;00m response:\n\u001B[1;32m--> 428\u001B[0m     \u001B[38;5;28;43mself\u001B[39;49m\u001B[38;5;241;43m.\u001B[39;49m\u001B[43merror_handler\u001B[49m\u001B[38;5;241;43m.\u001B[39;49m\u001B[43mcheck_response\u001B[49m\u001B[43m(\u001B[49m\u001B[43mresponse\u001B[49m\u001B[43m)\u001B[49m\n\u001B[0;32m    429\u001B[0m     response[\u001B[38;5;124m'\u001B[39m\u001B[38;5;124mvalue\u001B[39m\u001B[38;5;124m'\u001B[39m] \u001B[38;5;241m=\u001B[39m \u001B[38;5;28mself\u001B[39m\u001B[38;5;241m.\u001B[39m_unwrap_value(\n\u001B[0;32m    430\u001B[0m         response\u001B[38;5;241m.\u001B[39mget(\u001B[38;5;124m'\u001B[39m\u001B[38;5;124mvalue\u001B[39m\u001B[38;5;124m'\u001B[39m, \u001B[38;5;28;01mNone\u001B[39;00m))\n\u001B[0;32m    431\u001B[0m     \u001B[38;5;28;01mreturn\u001B[39;00m response\n",
      "File \u001B[1;32m~\\AppData\\Local\\Programs\\Python\\Python310\\lib\\site-packages\\selenium\\webdriver\\remote\\errorhandler.py:243\u001B[0m, in \u001B[0;36mErrorHandler.check_response\u001B[1;34m(self, response)\u001B[0m\n\u001B[0;32m    241\u001B[0m         alert_text \u001B[38;5;241m=\u001B[39m value[\u001B[38;5;124m'\u001B[39m\u001B[38;5;124malert\u001B[39m\u001B[38;5;124m'\u001B[39m]\u001B[38;5;241m.\u001B[39mget(\u001B[38;5;124m'\u001B[39m\u001B[38;5;124mtext\u001B[39m\u001B[38;5;124m'\u001B[39m)\n\u001B[0;32m    242\u001B[0m     \u001B[38;5;28;01mraise\u001B[39;00m exception_class(message, screen, stacktrace, alert_text)  \u001B[38;5;66;03m# type: ignore[call-arg]  # mypy is not smart enough here\u001B[39;00m\n\u001B[1;32m--> 243\u001B[0m \u001B[38;5;28;01mraise\u001B[39;00m exception_class(message, screen, stacktrace)\n",
      "\u001B[1;31mSessionNotCreatedException\u001B[0m: Message: session not created: This version of Microsoft Edge WebDriver only supports Microsoft Edge version 124\nCurrent browser version is 126.0.2592.56 with binary path C:\\Program Files (x86)\\Microsoft\\Edge\\Application\\msedge.exe\nStacktrace:\n\tGetHandleVerifier [0x012203B3+230755]\n\tMicrosoft::Applications::Events::time_ticks_t::time_ticks_t [0x010F8761+402225]\n\tMicrosoft::Applications::Events::ILogConfiguration::operator* [0x00F08AD0+3568]\n\tMicrosoft::Applications::Events::GUID_t::GUID_t [0x00F31E8D+65597]\n\tMicrosoft::Applications::Events::GUID_t::GUID_t [0x00F31500+63152]\n\tMicrosoft::Applications::Events::GUID_t::GUID_t [0x00F2E6FF+51375]\n\tMicrosoft::Applications::Events::GUID_t::GUID_t [0x00F2A71C+35020]\n\tMicrosoft::Applications::Events::GUID_t::GUID_t [0x00F5B243+234483]\n\tMicrosoft::Applications::Events::GUID_t::GUID_t [0x00F5AB3C+232684]\n\tMicrosoft::Applications::Events::GUID_t::GUID_t [0x00F516B6+194662]\n\tMicrosoft::Applications::Events::GUID_t::GUID_t [0x00F34F83+78131]\n\tMicrosoft::Applications::Events::GUID_t::GUID_t [0x00F33F65+74005]\n\tMicrosoft::Applications::Events::GUID_t::GUID_t [0x00F3498D+76605]\n\tGetHandleVerifier [0x0131453C+1230572]\n\tMicrosoft::Applications::Events::FromJSON [0x013E5FE2+132146]\n\tMicrosoft::Applications::Events::FromJSON [0x013E5967+130487]\n\tMicrosoft::Applications::Events::FromJSON [0x013DA8A0+85232]\n\tMicrosoft::Applications::Events::FromJSON [0x013E69BB+134667]\n\tMicrosoft::Applications::Events::time_ticks_t::time_ticks_t [0x0110B6AF+479871]\n\tMicrosoft::Applications::Events::time_ticks_t::time_ticks_t [0x011011D8+437672]\n\tMicrosoft::Applications::Events::time_ticks_t::time_ticks_t [0x0110134B+438043]\n\tMicrosoft::Applications::Events::time_ticks_t::time_ticks_t [0x010EB9B4+349572]\n\tBaseThreadInitThunk [0x77547BA9+25]\n\tRtlInitializeExceptionChain [0x77D1C10B+107]\n\tRtlClearBits [0x77D1C08F+191]\n"
     ]
    }
   ],
   "source": [
    "import unittest\n",
    "import LotData.ExtractorsAndTables as EnT\n",
    "import LotData.LotData as ld\n",
    "import Browser\n",
    "import utility.TestUtil as tu\n",
    "import utility.webscrapingUtil as wut\n",
    "\n",
    "closed_LID_diamonds = \"84559939\"\n",
    "soup_data_timestamp = wut.getTimeStamp()\n",
    "meta_data = EnT.MetadataExtractor(closed_LID_diamonds, wut.getTimeStamp(), 715, \"Diamonds\")\n",
    "soup_data = EnT.SoupExtractor(soup_data_timestamp,\n",
    "                              Browser.SeleniumBrowser.getClosedAuctionSoup(closed_LID_diamonds))\n",
    "record = ld.SpecsRecord({\"meta_data\": meta_data, \"soup_data\": soup_data})"
   ]
  },
  {
   "cell_type": "code",
   "execution_count": 4,
   "outputs": [
    {
     "data": {
      "text/plain": "{'Diamond type': 'Natural',\n 'Lab report number': '532234282',\n 'Number of diamonds': '1',\n 'Total carat weight': '0.48',\n 'Cut grade': 'Excellent',\n 'Diamond Clarity Grade': 'SI2',\n 'Fluorescence': 'Very slight fluorescence',\n 'Symmetry': 'Very good',\n 'Polish': 'Very good',\n 'Laboratory Report': 'International Gemological Institute (IGI)',\n 'Sealed by laboratory': 'Yes',\n 'Laser Engraved': 'No',\n 'Shape': 'Round',\n 'Cutting style': 'Brilliant cut'}"
     },
     "execution_count": 4,
     "metadata": {},
     "output_type": "execute_result"
    }
   ],
   "source": [
    "favorite_df = record.getRecordForDatabaseCopy()\n",
    "favorite_df[\"spec_dict\"][0]"
   ],
   "metadata": {
    "collapsed": false,
    "pycharm": {
     "name": "#%%\n"
    }
   }
  },
  {
   "cell_type": "code",
   "execution_count": null,
   "outputs": [],
   "source": [
    "{'Diamond type': 'Natural',\n",
    " 'Lab report number': '532234282',\n",
    " 'Number of diamonds': '1',\n",
    " 'Total carat weight': '0.48',\n",
    " 'Cut grade': 'Excellent',\n",
    " 'Diamond Clarity Grade': 'SI2',\n",
    " 'Fluorescence': 'Very slight fluorescence',\n",
    " 'Symmetry': 'Very good',\n",
    " 'Polish': 'Very good',\n",
    " 'Laboratory Report': 'International Gemological Institute (IGI)',\n",
    " 'Sealed by laboratory': 'Yes',\n",
    " 'Laser Engraved': 'No',\n",
    " 'Shape': 'Round',\n",
    " 'Cutting style': 'Brilliant cut'}"
   ],
   "metadata": {
    "collapsed": false,
    "pycharm": {
     "name": "#%%\n"
    }
   }
  }
 ],
 "metadata": {
  "kernelspec": {
   "display_name": "Python 3",
   "language": "python",
   "name": "python3"
  },
  "language_info": {
   "codemirror_mode": {
    "name": "ipython",
    "version": 2
   },
   "file_extension": ".py",
   "mimetype": "text/x-python",
   "name": "python",
   "nbconvert_exporter": "python",
   "pygments_lexer": "ipython2",
   "version": "2.7.6"
  }
 },
 "nbformat": 4,
 "nbformat_minor": 0
}