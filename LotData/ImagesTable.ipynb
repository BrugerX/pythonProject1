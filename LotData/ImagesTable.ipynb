{
 "cells": [
  {
   "cell_type": "code",
   "execution_count": null,
   "metadata": {
    "collapsed": true,
    "pycharm": {
     "name": "#%%\n"
    }
   },
   "outputs": [],
   "source": [
    "import ExtractorsAndTables as EnT\n",
    "import Browser as brwsr\n",
    "import pandas as pd\n",
    "\n",
    "closed_LID_diamonds = \"84559939\"\n",
    "json_data = brwsr.ImageApi.getImageGallery(closed_LID_diamonds)"
   ]
  },
  {
   "cell_type": "code",
   "execution_count": 24,
   "outputs": [],
   "source": [
    "records = []\n",
    "index = 0\n",
    "for entry in json_data:\n",
    "    entry_type = entry['type']\n",
    "    for image_set in entry['images']:\n",
    "        for size, details in image_set.items():\n",
    "            record = {\n",
    "                'index': index,\n",
    "                'type': entry_type,\n",
    "                'size': size,\n",
    "                'url': details['url'],\n",
    "                'orientation': details['orientation'],\n",
    "                'width': details['width'],\n",
    "                'height': details['height']\n",
    "            }\n",
    "            records.append(record)\n",
    "        index += 1\n",
    "\n",
    "# Create dataframe\n",
    "df = pd.DataFrame(records)"
   ],
   "metadata": {
    "collapsed": false,
    "pycharm": {
     "name": "#%%\n"
    }
   }
  },
  {
   "cell_type": "code",
   "execution_count": 25,
   "outputs": [
    {
     "data": {
      "text/plain": "   index       type size                                                url  \\\n0      0    doublet    l  https://assets.catawiki.com/image/cw_ldp_l/pla...   \n1      0    doublet   xl  https://assets.catawiki.com/image/cw_large/pla...   \n2      1    doublet    l  https://assets.catawiki.com/image/cw_ldp_l/pla...   \n3      1    doublet   xl  https://assets.catawiki.com/image/cw_large/pla...   \n4      2  highlight    l  https://assets.catawiki.com/image/cw_ldp_l/pla...   \n5      2  highlight   xl  https://assets.catawiki.com/image/cw_large/pla...   \n6      3  highlight    l  https://assets.catawiki.com/image/cw_ldp_l/pla...   \n7      3  highlight   xl  https://assets.catawiki.com/image/cw_large/pla...   \n\n  orientation  width  height  \n0      square   1016    1016  \n1      square   2000    2000  \n2      square   1016    1016  \n3      square   2000    2000  \n4      square   1016    1016  \n5      square   2000    2000  \n6      square   1016    1016  \n7      square   2000    2000  ",
      "text/html": "<div>\n<style scoped>\n    .dataframe tbody tr th:only-of-type {\n        vertical-align: middle;\n    }\n\n    .dataframe tbody tr th {\n        vertical-align: top;\n    }\n\n    .dataframe thead th {\n        text-align: right;\n    }\n</style>\n<table border=\"1\" class=\"dataframe\">\n  <thead>\n    <tr style=\"text-align: right;\">\n      <th></th>\n      <th>index</th>\n      <th>type</th>\n      <th>size</th>\n      <th>url</th>\n      <th>orientation</th>\n      <th>width</th>\n      <th>height</th>\n    </tr>\n  </thead>\n  <tbody>\n    <tr>\n      <th>0</th>\n      <td>0</td>\n      <td>doublet</td>\n      <td>l</td>\n      <td>https://assets.catawiki.com/image/cw_ldp_l/pla...</td>\n      <td>square</td>\n      <td>1016</td>\n      <td>1016</td>\n    </tr>\n    <tr>\n      <th>1</th>\n      <td>0</td>\n      <td>doublet</td>\n      <td>xl</td>\n      <td>https://assets.catawiki.com/image/cw_large/pla...</td>\n      <td>square</td>\n      <td>2000</td>\n      <td>2000</td>\n    </tr>\n    <tr>\n      <th>2</th>\n      <td>1</td>\n      <td>doublet</td>\n      <td>l</td>\n      <td>https://assets.catawiki.com/image/cw_ldp_l/pla...</td>\n      <td>square</td>\n      <td>1016</td>\n      <td>1016</td>\n    </tr>\n    <tr>\n      <th>3</th>\n      <td>1</td>\n      <td>doublet</td>\n      <td>xl</td>\n      <td>https://assets.catawiki.com/image/cw_large/pla...</td>\n      <td>square</td>\n      <td>2000</td>\n      <td>2000</td>\n    </tr>\n    <tr>\n      <th>4</th>\n      <td>2</td>\n      <td>highlight</td>\n      <td>l</td>\n      <td>https://assets.catawiki.com/image/cw_ldp_l/pla...</td>\n      <td>square</td>\n      <td>1016</td>\n      <td>1016</td>\n    </tr>\n    <tr>\n      <th>5</th>\n      <td>2</td>\n      <td>highlight</td>\n      <td>xl</td>\n      <td>https://assets.catawiki.com/image/cw_large/pla...</td>\n      <td>square</td>\n      <td>2000</td>\n      <td>2000</td>\n    </tr>\n    <tr>\n      <th>6</th>\n      <td>3</td>\n      <td>highlight</td>\n      <td>l</td>\n      <td>https://assets.catawiki.com/image/cw_ldp_l/pla...</td>\n      <td>square</td>\n      <td>1016</td>\n      <td>1016</td>\n    </tr>\n    <tr>\n      <th>7</th>\n      <td>3</td>\n      <td>highlight</td>\n      <td>xl</td>\n      <td>https://assets.catawiki.com/image/cw_large/pla...</td>\n      <td>square</td>\n      <td>2000</td>\n      <td>2000</td>\n    </tr>\n  </tbody>\n</table>\n</div>"
     },
     "execution_count": 25,
     "metadata": {},
     "output_type": "execute_result"
    }
   ],
   "source": [
    "df"
   ],
   "metadata": {
    "collapsed": false,
    "pycharm": {
     "name": "#%%\n"
    }
   }
  },
  {
   "cell_type": "code",
   "execution_count": null,
   "outputs": [],
   "source": [
    "df.explode(\"images\").explode(\"images\")"
   ],
   "metadata": {
    "collapsed": false,
    "pycharm": {
     "name": "#%%\n"
    }
   }
  },
  {
   "cell_type": "code",
   "execution_count": null,
   "outputs": [],
   "source": [],
   "metadata": {
    "collapsed": false,
    "pycharm": {
     "name": "#%%\n"
    }
   }
  }
 ],
 "metadata": {
  "kernelspec": {
   "display_name": "Python 3",
   "language": "python",
   "name": "python3"
  },
  "language_info": {
   "codemirror_mode": {
    "name": "ipython",
    "version": 2
   },
   "file_extension": ".py",
   "mimetype": "text/x-python",
   "name": "python",
   "nbconvert_exporter": "python",
   "pygments_lexer": "ipython2",
   "version": "2.7.6"
  }
 },
 "nbformat": 4,
 "nbformat_minor": 0
}