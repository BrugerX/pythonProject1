{
 "cells": [
  {
   "cell_type": "code",
   "execution_count": 2,
   "metadata": {
    "collapsed": true,
    "pycharm": {
     "name": "#%%\n"
    }
   },
   "outputs": [],
   "source": [
    "import ExtractorsAndTables as EnT\n",
    "import Browser as brwsr\n",
    "import pandas as pd\n",
    "\n",
    "closed_LID_diamonds = \"84559939\"\n",
    "json_data = brwsr.ShippingApi.getShippingAndPaymentInformation(closed_LID_diamonds)"
   ]
  },
  {
   "cell_type": "code",
   "execution_count": 3,
   "outputs": [],
   "source": [
    "n1 = pd.json_normalize(json_data)"
   ],
   "metadata": {
    "collapsed": false,
    "pycharm": {
     "name": "#%%\n"
    }
   }
  },
  {
   "cell_type": "code",
   "execution_count": 4,
   "outputs": [
    {
     "data": {
      "text/plain": "0    {'region_code': 'ch', 'region_name': 'Switzerl...\n1    {'region_code': 'cy', 'region_name': 'Cyprus',...\n2    {'region_code': 'gb', 'region_name': 'United K...\n3    {'region_code': 'gr', 'region_name': 'Greece',...\n4    {'region_code': 'hr', 'region_name': 'Croatia'...\n5    {'region_code': 'nl', 'region_name': 'The Neth...\n6    {'region_code': 'no', 'region_name': 'Norway',...\n7    {'region_code': 'europe', 'region_name': 'Rest...\n8    {'region_code': 'dk', 'region_name': 'Denmark'...\n9    {'region_code': 'world', 'region_name': 'Anywh...\nName: 0, dtype: object"
     },
     "execution_count": 4,
     "metadata": {},
     "output_type": "execute_result"
    }
   ],
   "source": [
    "pd.json_normalize(n1[\"shipping.rates\"]).iloc[0]"
   ],
   "metadata": {
    "collapsed": false,
    "pycharm": {
     "name": "#%%\n"
    }
   }
  },
  {
   "cell_type": "code",
   "execution_count": 5,
   "outputs": [],
   "source": [
    "def json_to_expanded_dataframe(data):\n",
    "    # Extract the rates data\n",
    "    rates = data[\"shipping\"][\"rates\"]\n",
    "\n",
    "    # Extract other relevant information\n",
    "    estimated_delivery_times = data[\"shipping\"][\"estimated_delivery_times\"]\n",
    "    destination_country = data[\"shipping\"][\"destination_country\"]\n",
    "    combined_shipping_allowed = data[\"shipping\"][\"combined_shipping_allowed\"]\n",
    "    delivery_methods = data[\"shipping\"][\"delivery_methods\"]\n",
    "    extra_insurance = data[\"shipping\"][\"extra_insurance\"]\n",
    "    provider_id = data[\"shipping\"][\"provider_id\"]\n",
    "    is_pickup_preferable = data[\"shipping\"][\"is_pickup_preferable\"]\n",
    "    is_pickup_only = data[\"shipping\"][\"is_pickup_only\"]\n",
    "    pickup_location = data[\"shipping\"][\"pickup_location\"]\n",
    "\n",
    "    # Add these details to each rate entry\n",
    "    expanded_rates = []\n",
    "    for rate in rates:\n",
    "        rate_entry = rate.copy()\n",
    "        rate_entry.update({\n",
    "            \"estimated_delivery_from_days\": estimated_delivery_times[0][\"from_days\"],\n",
    "            \"estimated_delivery_to_days\": estimated_delivery_times[0][\"to_days\"],\n",
    "            \"destination_country_name\": destination_country[\"country\"][\"name\"],\n",
    "            \"destination_country_short_code\": destination_country[\"country\"][\"short_code\"],\n",
    "            \"combined_shipping_allowed\": combined_shipping_allowed,\n",
    "            \"delivery_methods\": ', '.join(delivery_methods),\n",
    "            \"extra_insurance\": extra_insurance,\n",
    "            \"provider_id\": provider_id,\n",
    "            \"is_pickup_preferable\": is_pickup_preferable,\n",
    "            \"is_pickup_only\": is_pickup_only,\n",
    "            \"pickup_location_country_code\": pickup_location[\"country_code\"],\n",
    "            \"pickup_location_city\": pickup_location[\"city\"]\n",
    "        })\n",
    "        expanded_rates.append(rate_entry)\n",
    "\n",
    "    # Create a DataFrame\n",
    "    df_expanded_rates = pd.DataFrame(expanded_rates)\n",
    "\n",
    "    return df_expanded_rates"
   ],
   "metadata": {
    "collapsed": false,
    "pycharm": {
     "name": "#%%\n"
    }
   }
  },
  {
   "cell_type": "code",
   "execution_count": 6,
   "outputs": [],
   "source": [
    "df = json_to_expanded_dataframe(json_data)"
   ],
   "metadata": {
    "collapsed": false,
    "pycharm": {
     "name": "#%%\n"
    }
   }
  },
  {
   "cell_type": "code",
   "execution_count": 14,
   "outputs": [
    {
     "data": {
      "text/plain": "2300.0"
     },
     "execution_count": 14,
     "metadata": {},
     "output_type": "execute_result"
    }
   ],
   "source": [
    "df[df[\"region_name\"] == \"Denmark\"][\"price\"].iloc[0]"
   ],
   "metadata": {
    "collapsed": false,
    "pycharm": {
     "name": "#%%\n"
    }
   }
  },
  {
   "cell_type": "code",
   "execution_count": null,
   "outputs": [],
   "source": [],
   "metadata": {
    "collapsed": false,
    "pycharm": {
     "name": "#%%\n"
    }
   }
  }
 ],
 "metadata": {
  "kernelspec": {
   "display_name": "Python 3",
   "language": "python",
   "name": "python3"
  },
  "language_info": {
   "codemirror_mode": {
    "name": "ipython",
    "version": 2
   },
   "file_extension": ".py",
   "mimetype": "text/x-python",
   "name": "python",
   "nbconvert_exporter": "python",
   "pygments_lexer": "ipython2",
   "version": "2.7.6"
  }
 },
 "nbformat": 4,
 "nbformat_minor": 0
}