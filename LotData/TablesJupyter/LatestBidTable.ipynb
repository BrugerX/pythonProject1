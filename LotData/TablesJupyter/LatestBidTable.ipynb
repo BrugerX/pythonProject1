{
 "cells": [
  {
   "cell_type": "code",
   "execution_count": 15,
   "metadata": {
    "collapsed": true,
    "pycharm": {
     "name": "#%%\n"
    }
   },
   "outputs": [],
   "source": [
    "import Browser\n",
    "import pandas as pd\n",
    "import LotData.ExtractorsAndTables as eta\n",
    "\n",
    "closed_LID_diamonds = \"84559939\"\n",
    "latest_bid_api = Browser.LotApi.getLotDescription(closed_LID_diamonds)\n",
    "latest_bid_table = eta.LatestBidTable(\"abc\",latest_bid_api)"
   ]
  },
  {
   "cell_type": "code",
   "execution_count": 16,
   "outputs": [
    {
     "data": {
      "text/plain": "                       highest_bidder_token  \\\n0  073470ee285d84954592a3e209946fd6329e4ac7   \n\n                               winner_token             bid_amount  \\\n0  073470ee285d84954592a3e209946fd6329e4ac7  [455.0, 494.0, 387.0]   \n\n        currencies    bidding_start_time      bidding_end_time  \\\n0  [EUR, USD, GBP]  2024-05-31T16:00:00Z  2024-06-05T17:04:00Z   \n\n  reserve_price_met  favorite_count  closed        id  auction_id  \\\n0              None              32    True  84559939      953961   \n\n   is_buy_now_available             realtime_channel timestamp  \n0                 False  CWAUCTION-production-953961       abc  ",
      "text/html": "<div>\n<style scoped>\n    .dataframe tbody tr th:only-of-type {\n        vertical-align: middle;\n    }\n\n    .dataframe tbody tr th {\n        vertical-align: top;\n    }\n\n    .dataframe thead th {\n        text-align: right;\n    }\n</style>\n<table border=\"1\" class=\"dataframe\">\n  <thead>\n    <tr style=\"text-align: right;\">\n      <th></th>\n      <th>highest_bidder_token</th>\n      <th>winner_token</th>\n      <th>bid_amount</th>\n      <th>currencies</th>\n      <th>bidding_start_time</th>\n      <th>bidding_end_time</th>\n      <th>reserve_price_met</th>\n      <th>favorite_count</th>\n      <th>closed</th>\n      <th>id</th>\n      <th>auction_id</th>\n      <th>is_buy_now_available</th>\n      <th>realtime_channel</th>\n      <th>timestamp</th>\n    </tr>\n  </thead>\n  <tbody>\n    <tr>\n      <th>0</th>\n      <td>073470ee285d84954592a3e209946fd6329e4ac7</td>\n      <td>073470ee285d84954592a3e209946fd6329e4ac7</td>\n      <td>[455.0, 494.0, 387.0]</td>\n      <td>[EUR, USD, GBP]</td>\n      <td>2024-05-31T16:00:00Z</td>\n      <td>2024-06-05T17:04:00Z</td>\n      <td>None</td>\n      <td>32</td>\n      <td>True</td>\n      <td>84559939</td>\n      <td>953961</td>\n      <td>False</td>\n      <td>CWAUCTION-production-953961</td>\n      <td>abc</td>\n    </tr>\n  </tbody>\n</table>\n</div>"
     },
     "execution_count": 16,
     "metadata": {},
     "output_type": "execute_result"
    }
   ],
   "source": [
    "latest_bid_table.getDataframe()"
   ],
   "metadata": {
    "collapsed": false,
    "pycharm": {
     "name": "#%%\n"
    }
   }
  },
  {
   "cell_type": "code",
   "execution_count": null,
   "outputs": [],
   "source": [],
   "metadata": {
    "collapsed": false,
    "pycharm": {
     "name": "#%%\n"
    }
   }
  }
 ],
 "metadata": {
  "kernelspec": {
   "display_name": "Python 3",
   "language": "python",
   "name": "python3"
  },
  "language_info": {
   "codemirror_mode": {
    "name": "ipython",
    "version": 2
   },
   "file_extension": ".py",
   "mimetype": "text/x-python",
   "name": "python",
   "nbconvert_exporter": "python",
   "pygments_lexer": "ipython2",
   "version": "2.7.6"
  }
 },
 "nbformat": 4,
 "nbformat_minor": 0
}