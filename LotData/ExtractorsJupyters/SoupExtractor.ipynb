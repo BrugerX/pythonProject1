{
 "cells": [
  {
   "cell_type": "code",
   "execution_count": 1,
   "metadata": {
    "collapsed": true,
    "pycharm": {
     "name": "#%%\n"
    }
   },
   "outputs": [],
   "source": [
    "import LotData.ExtractorsAndTables as ent\n",
    "import Browser as brwsr"
   ]
  },
  {
   "cell_type": "code",
   "execution_count": 66,
   "outputs": [],
   "source": [
    "lot_soup = brwsr.SeleniumBrowser.getClosedAuctionSoup(84559939)"
   ],
   "metadata": {
    "collapsed": false,
    "pycharm": {
     "name": "#%%\n"
    }
   }
  },
  {
   "cell_type": "code",
   "execution_count": 36,
   "outputs": [],
   "source": [
    "def extractSellersStory(lot_soup):\n",
    "    sellers_story = lot_soup.find_all(\"div\",{\"class\":\"lot-info-description__seller-profile-text\"})[0]\n",
    "    return sellers_story.text"
   ],
   "metadata": {
    "collapsed": false,
    "pycharm": {
     "name": "#%%\n"
    }
   }
  },
  {
   "cell_type": "code",
   "execution_count": 42,
   "outputs": [],
   "source": [
    "class ExtractionException(Exception):\n",
    "\n",
    "    def __init__(self, message, lot_soup):\n",
    "        # Call the base class constructor with the parameters it needs\n",
    "        super().__init__(message)\n",
    "        self.lot_soup = lot_soup\n",
    "\n",
    "def extractDescription(lot_soup):\n",
    "    description_parent = lot_soup.find_all(\"div\",{\"class\":\"lot-info-description__description\"})[0]\n",
    "    children = description_parent.findChildren(\"p\" , recursive=False)\n",
    "    description = \"\"\n",
    "\n",
    "    for child in children:\n",
    "        description += \"\\n\" + child.text\n",
    "\n",
    "    if description is None:\n",
    "        raise ExtractionException(\"Could not find item description\",lot_soup)\n",
    "\n",
    "    return description"
   ],
   "metadata": {
    "collapsed": false,
    "pycharm": {
     "name": "#%%\n"
    }
   }
  },
  {
   "cell_type": "code",
   "execution_count": 56,
   "outputs": [],
   "source": [
    "description_parent = lot_soup.find_all(\"div\",{\"class\":\"lot-info-description__description\"})[0]\n",
    "children = description_parent.findChildren(\"p\" , recursive=False)\n",
    "description = \"\"\n",
    "\n",
    "for child in children:\n",
    "    description += child.get_text(separator=\"\\n\")"
   ],
   "metadata": {
    "collapsed": false,
    "pycharm": {
     "name": "#%%\n"
    }
   }
  },
  {
   "cell_type": "code",
   "execution_count": 71,
   "outputs": [],
   "source": [
    "def getSellerStory(soup):\n",
    "    sellers_story = soup.find_all(\"div\", {\"class\": \"lot-info-description__seller-profile-text\"})[0]\n",
    "    return sellers_story.get_text(separator=\"\\n\")"
   ],
   "metadata": {
    "collapsed": false,
    "pycharm": {
     "name": "#%%\n"
    }
   }
  },
  {
   "cell_type": "code",
   "execution_count": 72,
   "outputs": [
    {
     "data": {
      "text/plain": "\"Our family business has over 35 years of experience in jewellery, diamonds, watches, silver, precious metals, coins and banknotes.\\n\\nMany beautiful objects are offered to us through our more than 100 offices of Gold Exchange Office.\\n\\nBecause we are also active in Belgium and Germany as Gold Exchange Office, Comptoir de l'Or and Goldwechselhaus, we continuously have a new and varied range of top properties.\\n\\nWe are a member of the following trade associations: 'The Antwerp Exchange for Diamond Trade & NVMH (Dutch Association of Coin Traders)\\n\\nView our current offer on our supplier page!\""
     },
     "execution_count": 72,
     "metadata": {},
     "output_type": "execute_result"
    }
   ],
   "source": [
    "getSellerStory(lot_soup)"
   ],
   "metadata": {
    "collapsed": false,
    "pycharm": {
     "name": "#%%\n"
    }
   }
  },
  {
   "cell_type": "code",
   "execution_count": 59,
   "outputs": [],
   "source": [
    "test_text = \"Diamond - 0.48ct. - Brilliant - W-X, light yellow - SI2\\nCut: Excellent\\nPolish: Very Good\\nSymmetry: Very Good\\nFluorescence: Very Slight\\nReport number: 532234282\\nQuality: For your own impression, see photos.\\nLot number 12-114672\\nAll our items are shipped by registered mail.\\nYou can also pick up the lot in one of our more than 100 offices in the Netherlands, Belgium or Germany.\\nCheck the website of Goud Exchange Office (for NL and BE), Comptoir de l'Or (for BE) or Goldwechselhaus (for DE) for the nearest location.\\nPlease let us know your preference via your Catawiki account.\""
   ],
   "metadata": {
    "collapsed": false,
    "pycharm": {
     "name": "#%%\n"
    }
   }
  },
  {
   "cell_type": "code",
   "execution_count": null,
   "outputs": [],
   "source": [],
   "metadata": {
    "collapsed": false,
    "pycharm": {
     "name": "#%%\n"
    }
   }
  }
 ],
 "metadata": {
  "kernelspec": {
   "display_name": "Python 3",
   "language": "python",
   "name": "python3"
  },
  "language_info": {
   "codemirror_mode": {
    "name": "ipython",
    "version": 2
   },
   "file_extension": ".py",
   "mimetype": "text/x-python",
   "name": "python",
   "nbconvert_exporter": "python",
   "pygments_lexer": "ipython2",
   "version": "2.7.6"
  }
 },
 "nbformat": 4,
 "nbformat_minor": 0
}