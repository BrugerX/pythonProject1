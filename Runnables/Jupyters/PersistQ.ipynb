{
 "cells": [
  {
   "cell_type": "code",
   "execution_count": 8,
   "metadata": {
    "collapsed": true,
    "pycharm": {
     "name": "#%%\n"
    }
   },
   "outputs": [],
   "source": [
    "from psycopg2 import connect\n",
    "import LotDataPackage.LotDataSettings as lds\n",
    "from decouple import Config, RepositoryEnv\n",
    "import database.DatabaseManager as dbm\n",
    "import pandas as pd\n",
    "import pq.python.pq.Queue as q\n",
    "import LotDataPackage.ExtractorsAndTables as ent\n",
    "import LotDataPackage.LotData as ld\n",
    "import json\n",
    "from Runnables.RunningSettings import wanted_categories\n",
    "import time\n",
    "import utility.LoggingUtility as lut"
   ]
  },
  {
   "cell_type": "code",
   "execution_count": 9,
   "outputs": [],
   "source": [
    "conn = dbm.getPsycopg2Conn()\n",
    "Q = q.PQ(conn)"
   ],
   "metadata": {
    "collapsed": false,
    "pycharm": {
     "name": "#%%\n"
    }
   }
  },
  {
   "cell_type": "code",
   "execution_count": 10,
   "outputs": [],
   "source": [
    "q_wait = Q[\"job\"]"
   ],
   "metadata": {
    "collapsed": false,
    "pycharm": {
     "name": "#%%\n"
    }
   }
  },
  {
   "cell_type": "code",
   "execution_count": 12,
   "outputs": [],
   "source": [
    "for (key,value) in wanted_categories.items():\n",
    "    q_wait.put(json.dumps({\"task_type\":\"get_new_lids\",\"categories_of_interest\":{key:value}}),schedule_at=\"0h\",expected_at=\"0h\")"
   ],
   "metadata": {
    "collapsed": false,
    "pycharm": {
     "name": "#%%\n"
    }
   }
  },
  {
   "cell_type": "code",
   "execution_count": 13,
   "outputs": [],
   "source": [
    "def testFunc(text):\n",
    "    print(text)"
   ],
   "metadata": {
    "collapsed": false,
    "pycharm": {
     "name": "#%%\n"
    }
   }
  },
  {
   "cell_type": "code",
   "execution_count": null,
   "outputs": [],
   "source": [],
   "metadata": {
    "collapsed": false,
    "pycharm": {
     "name": "#%%\n"
    }
   }
  }
 ],
 "metadata": {
  "kernelspec": {
   "display_name": "Python 3",
   "language": "python",
   "name": "python3"
  },
  "language_info": {
   "codemirror_mode": {
    "name": "ipython",
    "version": 2
   },
   "file_extension": ".py",
   "mimetype": "text/x-python",
   "name": "python",
   "nbconvert_exporter": "python",
   "pygments_lexer": "ipython2",
   "version": "2.7.6"
  }
 },
 "nbformat": 4,
 "nbformat_minor": 0
}