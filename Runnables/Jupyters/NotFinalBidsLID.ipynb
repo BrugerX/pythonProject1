{
 "cells": [
  {
   "cell_type": "code",
   "execution_count": 1,
   "metadata": {
    "collapsed": true,
    "pycharm": {
     "name": "#%%\n"
    }
   },
   "outputs": [],
   "source": [
    "import pandas as pd\n",
    "\n",
    "import LotData.LotData as ld\n",
    "import LotData.ExtractorsAndTables as ent\n",
    "import utility.LoggingUtility as lut\n",
    "import utility.webscrapingUtil as wut\n",
    "from sqlalchemy.ext.automap import automap_base\n",
    "from sqlalchemy.orm import Session\n",
    "from sqlalchemy import create_engine\n",
    "import CW_Scraper\n",
    "import sqlalchemy\n",
    "import time\n",
    "import numpy as np\n",
    "from sqlalchemy.orm import sessionmaker\n",
    "from sqlalchemy.sql import text\n",
    "from Runnables.RunningSettings import wanted_categories\n",
    "import database.DatabaseManager as dbm"
   ]
  },
  {
   "cell_type": "code",
   "execution_count": 7,
   "outputs": [],
   "source": [
    "not_final_query = text(\"select bid.lid,meta_timestamp,meta.category_int,meta.category_name from bid INNER JOIN (select max(amount) as max_amount,bid.lid from bid group by lid) as mb on mb.lid = bid.lid AND mb.max_amount = bid.amount INNER JOIN meta ON meta.lid = bid.lid WHERE is_final_bid is false ORDER BY meta_timestamp asc;\")\n",
    "\n",
    "session,engine = dbm.getSessionEngine()\n",
    "\n",
    "lids = session.execute(not_final_query).fetchall()\n",
    "db_manager = dbm.DatabaseManager(session,engine)"
   ],
   "metadata": {
    "collapsed": false,
    "pycharm": {
     "name": "#%%\n"
    }
   }
  },
  {
   "cell_type": "code",
   "execution_count": 8,
   "outputs": [],
   "source": [
    "err_lids = []\n",
    "for (LID,meta_timestamp,category_int,category_name) in lids:\n",
    "        t1 = time.time()\n",
    "        meta_data = ent.MetadataExtractor(LID,meta_timestamp,category_int,category_name)\n",
    "\n",
    "        l_data = ld.LotData(meta_data)\n",
    "        for record_key in l_data.keys():\n",
    "            table = wut.recordIntoTabe(record_key)\n",
    "            query = f\"SELECT EXISTS (SELECT 1 FROM {table} WHERE lid = :lid)\"\n",
    "\n",
    "            result = session.execute(text(query), {'lid': LID})\n",
    "            exists = result.scalar()  # or fetch the result as required\n",
    "            if(table not in [\"spec\",\"auction\"]):\n",
    "                exists = False\n",
    "            if(not exists):\n",
    "                try:\n",
    "\n",
    "                    df = l_data[record_key]\n",
    "                    if(table == \"bid\" and LID == 85264349):\n",
    "                        print(df)\n",
    "                    if(record_key == \"meta_record\"):\n",
    "                        df[\"status\"] = \"idle\"\n",
    "                    db_manager.insertRecordDataframe(df,wut.recordIntoTabe(record_key))\n",
    "                except Exception as e:\n",
    "                    if(LID == 85264349 and table == \"bid\"):\n",
    "                        print(e)\n",
    "                    err_lids += [(LID,e)]\n",
    "\n",
    "        time.sleep(np.random.uniform(0,0.01))\n",
    "\n",
    "\n",
    "\n",
    "non_expected_errors = [err for err in err_lids if len(err) > 1 and (type(err[1]) != sqlalchemy.exc.IntegrityError) and (type(err[1]) != KeyError)]"
   ],
   "metadata": {
    "collapsed": false,
    "pycharm": {
     "name": "#%%\n"
    }
   }
  },
  {
   "cell_type": "code",
   "execution_count": null,
   "outputs": [],
   "source": [],
   "metadata": {
    "collapsed": false,
    "pycharm": {
     "name": "#%%\n"
    }
   }
  }
 ],
 "metadata": {
  "kernelspec": {
   "display_name": "Python 3",
   "language": "python",
   "name": "python3"
  },
  "language_info": {
   "codemirror_mode": {
    "name": "ipython",
    "version": 2
   },
   "file_extension": ".py",
   "mimetype": "text/x-python",
   "name": "python",
   "nbconvert_exporter": "python",
   "pygments_lexer": "ipython2",
   "version": "2.7.6"
  }
 },
 "nbformat": 4,
 "nbformat_minor": 0
}