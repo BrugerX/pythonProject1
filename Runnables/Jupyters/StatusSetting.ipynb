{
 "cells": [
  {
   "cell_type": "code",
   "execution_count": 4,
   "outputs": [],
   "source": [
    "import LotData.LotData as ld\n",
    "import LotData.ExtractorsAndTables as ent\n",
    "import utility.LoggingUtility as lut\n",
    "import utility.TestUtil as tut\n",
    "import utility.webscrapingUtil as wut\n",
    "from sqlalchemy.ext.automap import automap_base\n",
    "from sqlalchemy.orm import Session\n",
    "from sqlalchemy import create_engine\n",
    "import CW_Scraper\n",
    "import sqlalchemy\n",
    "import time\n",
    "import numpy as np\n",
    "from sqlalchemy.orm import sessionmaker\n",
    "from sqlalchemy.sql import text\n",
    "from Runnables.RunningSettings import wanted_categories\n",
    "import database.DatabaseManager as dbm\n",
    "from database.EnvSettings import environment_information"
   ],
   "metadata": {
    "collapsed": false,
    "pycharm": {
     "name": "#%%\n"
    }
   }
  },
  {
   "cell_type": "code",
   "execution_count": 5,
   "outputs": [],
   "source": [
    "db_manager = dbm.DatabaseManager(environment_information)\n",
    "l_data = ld.LotData(ent.MetadataExtractor(tut.getRandomClosedLID(),lut.getTimeStamp(),1,\"test\"))"
   ],
   "metadata": {
    "collapsed": false,
    "pycharm": {
     "name": "#%%\n"
    }
   }
  },
  {
   "cell_type": "code",
   "execution_count": 6,
   "outputs": [
    {
     "name": "stdout",
     "output_type": "stream",
     "text": [
      "Took 0.09315228462219238 seconds\n"
     ]
    },
    {
     "data": {
      "text/plain": "['auction', 'bid', 'image', 'spec', 'shipping']"
     },
     "execution_count": 3,
     "metadata": {},
     "output_type": "execute_result"
    },
    {
     "name": "stdout",
     "output_type": "stream",
     "text": [
      "Took 0.10373449325561523 seconds\n"
     ]
    },
    {
     "data": {
      "text/plain": "['auction', 'bid', 'image', 'spec', 'shipping']"
     },
     "execution_count": 6,
     "metadata": {},
     "output_type": "execute_result"
    }
   ],
   "source": [
    "db_manager.tablesWithout(84690927)"
   ],
   "metadata": {
    "collapsed": false,
    "pycharm": {
     "name": "#%%\n"
    }
   }
  }
 ],
 "metadata": {
  "kernelspec": {
   "display_name": "Python 3",
   "language": "python",
   "name": "python3"
  },
  "language_info": {
   "codemirror_mode": {
    "name": "ipython",
    "version": 2
   },
   "file_extension": ".py",
   "mimetype": "text/x-python",
   "name": "python",
   "nbconvert_exporter": "python",
   "pygments_lexer": "ipython2",
   "version": "2.7.6"
  }
 },
 "nbformat": 4,
 "nbformat_minor": 0
}