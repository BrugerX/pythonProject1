{
 "cells": [
  {
   "cell_type": "code",
   "execution_count": 4,
   "outputs": [],
   "source": [
    "import LotData.LotData as ld\n",
    "import LotData.ExtractorsAndTables as ent\n",
    "import utility.LoggingUtility as lut\n",
    "import utility.TestUtil as tut\n",
    "import utility.webscrapingUtil as wut\n",
    "from sqlalchemy.ext.automap import automap_base\n",
    "from sqlalchemy.orm import Session\n",
    "from sqlalchemy import create_engine\n",
    "import CW_Scraper\n",
    "import sqlalchemy\n",
    "import time\n",
    "import numpy as np\n",
    "from sqlalchemy.orm import sessionmaker\n",
    "from sqlalchemy.sql import text\n",
    "from Runnables.RunningSettings import wanted_categories\n",
    "import database.DatabaseManager as dbm\n",
    "from database.EnvSettings import environment_information"
   ],
   "metadata": {
    "collapsed": false,
    "pycharm": {
     "name": "#%%\n"
    }
   }
  },
  {
   "cell_type": "code",
   "execution_count": 4,
   "outputs": [],
   "source": [
    "import utility.LoggingUtility as lut"
   ],
   "metadata": {
    "collapsed": false,
    "pycharm": {
     "name": "#%%\n"
    }
   }
  },
  {
   "cell_type": "code",
   "execution_count": 5,
   "outputs": [],
   "source": [
    "db_manager = dbm.DatabaseManager(environment_information)\n",
    "l_data = ld.LotData(ent.MetadataExtractor(tut.getRandomClosedLID(),lut.getTimeStamp(),1,\"test\"))"
   ],
   "metadata": {
    "collapsed": false,
    "pycharm": {
     "name": "#%%\n"
    }
   }
  },
  {
   "cell_type": "code",
   "execution_count": 6,
   "outputs": [
    {
     "name": "stdout",
     "output_type": "stream",
     "text": [
      "Took 0.09315228462219238 seconds\n"
     ]
    },
    {
     "data": {
      "text/plain": "['auction', 'bid', 'image', 'spec', 'shipping']"
     },
     "execution_count": 3,
     "metadata": {},
     "output_type": "execute_result"
    },
    {
     "name": "stdout",
     "output_type": "stream",
     "text": [
      "Took 0.10373449325561523 seconds\n"
     ]
    },
    {
     "data": {
      "text/plain": "['auction', 'bid', 'image', 'spec', 'shipping']"
     },
     "execution_count": 6,
     "metadata": {},
     "output_type": "execute_result"
    }
   ],
   "source": [
    "db_manager.tablesWithout(84690927)"
   ],
   "metadata": {
    "collapsed": false,
    "pycharm": {
     "name": "#%%\n"
    }
   }
  },
  {
   "cell_type": "code",
   "execution_count": 3,
   "outputs": [
    {
     "name": "stdout",
     "output_type": "stream",
     "text": [
      "Exception caught: This is a test exception for email notification.\n",
      "Failed to send email: (535, b'5.7.8 Username and Password not accepted. For more information, go to\\n5.7.8  https://support.google.com/mail/?p=BadCredentials a640c23a62f3a-a72ab0b315fsm866758366b.188 - gsmtp')\n"
     ]
    }
   ],
   "source": [
    "import smtplib\n",
    "from email.mime.text import MIMEText\n",
    "from email.mime.multipart import MIMEMultipart\n",
    "import yagmail\n",
    "\n",
    "# Email configuration\n",
    "SMTP_SERVER = 'smtp.gmail.com'  # Replace with your SMTP server\n",
    "SMTP_PORT = 587  # Typically 587 for TLS\n",
    "SMTP_USERNAME = 'erikzion89@gmail.com'  # Replace with your email\n",
    "SMTP_PASSWORD = 'ChoppaDaDawg123'  # Replace with your email password\n",
    "EMAIL_FROM = 'erikzion89@gmail.com'  # Replace with your email\n",
    "EMAIL_TO = 'benjaminmiradgurini@gmail.com'  # Replace with recipient's email\n",
    "EMAIL_SUBJECT = 'Exception in Threaded Job Manager'\n",
    "\n",
    "\n",
    "def send_exception_email(exception_message):\n",
    "    try:\n",
    "        yag = yagmail.SMTP(SMTP_USERNAME, SMTP_PASSWORD)\n",
    "        yag.send(\n",
    "            to=EMAIL_TO,\n",
    "            subject=EMAIL_SUBJECT,\n",
    "            contents=f\"An exception occurred: {exception_message}\"\n",
    "        )\n",
    "        print(\"Email sent successfully.\")\n",
    "    except Exception as e:\n",
    "        print(f\"Failed to send email: {e}\")\n",
    "\n",
    "if __name__ == \"__main__\":\n",
    "    try:\n",
    "        # Simulate an exception\n",
    "        raise Exception(\"This is a test exception for email notification.\")\n",
    "    except Exception as e:\n",
    "        exception_message = str(e)\n",
    "        print(f\"Exception caught: {exception_message}\")\n",
    "        send_exception_email(exception_message)\n"
   ],
   "metadata": {
    "collapsed": false,
    "pycharm": {
     "name": "#%%\n"
    }
   }
  },
  {
   "cell_type": "code",
   "execution_count": null,
   "outputs": [],
   "source": [],
   "metadata": {
    "collapsed": false,
    "pycharm": {
     "name": "#%%\n"
    }
   }
  }
 ],
 "metadata": {
  "kernelspec": {
   "display_name": "Python 3",
   "language": "python",
   "name": "python3"
  },
  "language_info": {
   "codemirror_mode": {
    "name": "ipython",
    "version": 2
   },
   "file_extension": ".py",
   "mimetype": "text/x-python",
   "name": "python",
   "nbconvert_exporter": "python",
   "pygments_lexer": "ipython2",
   "version": "2.7.6"
  }
 },
 "nbformat": 4,
 "nbformat_minor": 0
}