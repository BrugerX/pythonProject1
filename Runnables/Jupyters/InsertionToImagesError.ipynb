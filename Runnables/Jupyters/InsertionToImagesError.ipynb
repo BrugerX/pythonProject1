{
 "cells": [
  {
   "cell_type": "code",
   "execution_count": 6,
   "outputs": [],
   "source": [
    "import pandas as pd\n",
    "\n",
    "import utility.LoggingUtility as lut\n",
    "from CW_Scraper import MagazineOverview\n",
    "import LotDataPackage.LotData as ld\n",
    "from Runnables.RunningSettings import wanted_categories\n",
    "import Runnables.JobManager as jb\n",
    "import LotDataPackage.ExtractorsAndTables as ent\n",
    "from utility import webscrapingUtil as wut\n",
    "from sqlalchemy import create_engine\n",
    "import json\n",
    "import datetime\n",
    "import numpy as np\n",
    "import database.DatabaseManager as dbm\n",
    "from sqlalchemy.orm import sessionmaker\n",
    "from sqlalchemy.sql import text\n",
    "import pq.python.pq.Queue as q\n",
    "import csv\n",
    "import os\n",
    "import time\n",
    "import threading\n",
    "import time\n",
    "from copy import deepcopy\n",
    "LID_to_test = 85760917\n",
    "session,engine = dbm.getSessionEngine()\n",
    "meta_data = ent.MetadataExtractor(LID_to_test,\"\",\"1\",\"test\")\n",
    "run = ld.RunnableInsertion(session,engine,meta_data,check_scheduling_factors=True)\n",
    "img_df = run[\"image_record\"]\n",
    "db_man = run.db_manager"
   ],
   "metadata": {
    "collapsed": false,
    "pycharm": {
     "name": "#%%\n"
    }
   }
  },
  {
   "cell_type": "code",
   "execution_count": null,
   "outputs": [],
   "source": [],
   "metadata": {
    "collapsed": false,
    "pycharm": {
     "name": "#%%\n"
    }
   }
  },
  {
   "cell_type": "code",
   "execution_count": 5,
   "outputs": [
    {
     "data": {
      "text/plain": "datetime.datetime(2024, 7, 7, 18, 22)"
     },
     "execution_count": 5,
     "metadata": {},
     "output_type": "execute_result"
    }
   ],
   "source": [
    "run.getExpectedClose()"
   ],
   "metadata": {
    "collapsed": false,
    "pycharm": {
     "name": "#%%\n"
    }
   }
  },
  {
   "cell_type": "code",
   "execution_count": null,
   "outputs": [],
   "source": [],
   "metadata": {
    "collapsed": false,
    "pycharm": {
     "name": "#%%\n"
    }
   }
  }
 ],
 "metadata": {
  "kernelspec": {
   "display_name": "Python 3",
   "language": "python",
   "name": "python3"
  },
  "language_info": {
   "codemirror_mode": {
    "name": "ipython",
    "version": 2
   },
   "file_extension": ".py",
   "mimetype": "text/x-python",
   "name": "python",
   "nbconvert_exporter": "python",
   "pygments_lexer": "ipython2",
   "version": "2.7.6"
  }
 },
 "nbformat": 4,
 "nbformat_minor": 0
}