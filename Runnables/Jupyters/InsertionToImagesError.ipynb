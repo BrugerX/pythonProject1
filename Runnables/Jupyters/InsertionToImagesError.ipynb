{
 "cells": [
  {
   "cell_type": "code",
   "execution_count": 4,
   "outputs": [],
   "source": [
    "import pandas as pd\n",
    "\n",
    "import utility.LoggingUtility as lut\n",
    "from CW_Scraper import MagazineOverview\n",
    "import LotDataPackage.LotData as ld\n",
    "from Runnables.RunningSettings import wanted_categories\n",
    "import Runnables.JobManager as jb\n",
    "import LotDataPackage.ExtractorsAndTables as ent\n",
    "from utility import webscrapingUtil as wut\n",
    "from sqlalchemy import create_engine\n",
    "import json\n",
    "import numpy as np\n",
    "import database.DatabaseManager as dbm\n",
    "from sqlalchemy.orm import sessionmaker\n",
    "from sqlalchemy.sql import text\n",
    "import pq.python.pq.Queue as q\n",
    "import csv\n",
    "import os\n",
    "import time\n",
    "import threading\n",
    "import time\n",
    "from copy import deepcopy\n",
    "LID_to_test = 85760917\n",
    "session,engine = dbm.getSessionEngine()\n",
    "meta_data = ent.MetadataExtractor(LID_to_test,\"\",\"1\",\"test\")\n",
    "run = ld.RunnableInsertion(session,engine,meta_data,check_scheduling_factors=True)\n",
    "img_df = run[\"image_record\"]\n",
    "db_man = run.db_manager"
   ],
   "metadata": {
    "collapsed": false,
    "pycharm": {
     "name": "#%%\n"
    }
   }
  },
  {
   "cell_type": "code",
   "execution_count": 8,
   "outputs": [
    {
     "data": {
      "text/plain": "    image_idx image_type size  \\\n0           0    doublet    l   \n1           0    doublet   xl   \n2           1    doublet    l   \n3           1    doublet   xl   \n4           2  highlight    l   \n5           2  highlight   xl   \n6           3    doublet    l   \n7           3    doublet   xl   \n8           4    doublet    l   \n9           4    doublet   xl   \n10          5    doublet    l   \n11          5    doublet   xl   \n12          6    doublet    l   \n13          6    doublet   xl   \n\n                                                  url orientation  width  \\\n0   https://assets.catawiki.com/image/cw_ldp_l/pla...    portrait    762   \n1   https://assets.catawiki.com/image/cw_large/pla...    portrait   1500   \n2   https://assets.catawiki.com/image/cw_ldp_l/pla...    portrait    762   \n3   https://assets.catawiki.com/image/cw_large/pla...    portrait   1500   \n4   https://assets.catawiki.com/image/cw_ldp_l/pla...    portrait    762   \n5   https://assets.catawiki.com/image/cw_large/pla...    portrait   1500   \n6   https://assets.catawiki.com/image/cw_ldp_l/pla...    portrait    762   \n7   https://assets.catawiki.com/image/cw_large/pla...    portrait   1500   \n8   https://assets.catawiki.com/image/cw_ldp_l/pla...    portrait    762   \n9   https://assets.catawiki.com/image/cw_large/pla...    portrait   1500   \n10  https://assets.catawiki.com/image/cw_ldp_l/pla...    portrait    762   \n11  https://assets.catawiki.com/image/cw_large/pla...    portrait   1500   \n12  https://assets.catawiki.com/image/cw_ldp_l/pla...    portrait    762   \n13  https://assets.catawiki.com/image/cw_large/pla...    portrait   1500   \n\n    height                 images_timestamp       lid  \n0     1016 2024-07-06 18:05:05.222412+00:00  85760917  \n1     2000 2024-07-06 18:05:05.222412+00:00  85760917  \n2     1016 2024-07-06 18:05:05.222412+00:00  85760917  \n3     2000 2024-07-06 18:05:05.222412+00:00  85760917  \n4     1016 2024-07-06 18:05:05.222412+00:00  85760917  \n5     2000 2024-07-06 18:05:05.222412+00:00  85760917  \n6     1016 2024-07-06 18:05:05.222412+00:00  85760917  \n7     2000 2024-07-06 18:05:05.222412+00:00  85760917  \n8     1016 2024-07-06 18:05:05.222412+00:00  85760917  \n9     2000 2024-07-06 18:05:05.222412+00:00  85760917  \n10    1016 2024-07-06 18:05:05.222412+00:00  85760917  \n11    2000 2024-07-06 18:05:05.222412+00:00  85760917  \n12    1016 2024-07-06 18:05:05.222412+00:00  85760917  \n13    2000 2024-07-06 18:05:05.222412+00:00  85760917  ",
      "text/html": "<div>\n<style scoped>\n    .dataframe tbody tr th:only-of-type {\n        vertical-align: middle;\n    }\n\n    .dataframe tbody tr th {\n        vertical-align: top;\n    }\n\n    .dataframe thead th {\n        text-align: right;\n    }\n</style>\n<table border=\"1\" class=\"dataframe\">\n  <thead>\n    <tr style=\"text-align: right;\">\n      <th></th>\n      <th>image_idx</th>\n      <th>image_type</th>\n      <th>size</th>\n      <th>url</th>\n      <th>orientation</th>\n      <th>width</th>\n      <th>height</th>\n      <th>images_timestamp</th>\n      <th>lid</th>\n    </tr>\n  </thead>\n  <tbody>\n    <tr>\n      <th>0</th>\n      <td>0</td>\n      <td>doublet</td>\n      <td>l</td>\n      <td>https://assets.catawiki.com/image/cw_ldp_l/pla...</td>\n      <td>portrait</td>\n      <td>762</td>\n      <td>1016</td>\n      <td>2024-07-06 18:05:05.222412+00:00</td>\n      <td>85760917</td>\n    </tr>\n    <tr>\n      <th>1</th>\n      <td>0</td>\n      <td>doublet</td>\n      <td>xl</td>\n      <td>https://assets.catawiki.com/image/cw_large/pla...</td>\n      <td>portrait</td>\n      <td>1500</td>\n      <td>2000</td>\n      <td>2024-07-06 18:05:05.222412+00:00</td>\n      <td>85760917</td>\n    </tr>\n    <tr>\n      <th>2</th>\n      <td>1</td>\n      <td>doublet</td>\n      <td>l</td>\n      <td>https://assets.catawiki.com/image/cw_ldp_l/pla...</td>\n      <td>portrait</td>\n      <td>762</td>\n      <td>1016</td>\n      <td>2024-07-06 18:05:05.222412+00:00</td>\n      <td>85760917</td>\n    </tr>\n    <tr>\n      <th>3</th>\n      <td>1</td>\n      <td>doublet</td>\n      <td>xl</td>\n      <td>https://assets.catawiki.com/image/cw_large/pla...</td>\n      <td>portrait</td>\n      <td>1500</td>\n      <td>2000</td>\n      <td>2024-07-06 18:05:05.222412+00:00</td>\n      <td>85760917</td>\n    </tr>\n    <tr>\n      <th>4</th>\n      <td>2</td>\n      <td>highlight</td>\n      <td>l</td>\n      <td>https://assets.catawiki.com/image/cw_ldp_l/pla...</td>\n      <td>portrait</td>\n      <td>762</td>\n      <td>1016</td>\n      <td>2024-07-06 18:05:05.222412+00:00</td>\n      <td>85760917</td>\n    </tr>\n    <tr>\n      <th>5</th>\n      <td>2</td>\n      <td>highlight</td>\n      <td>xl</td>\n      <td>https://assets.catawiki.com/image/cw_large/pla...</td>\n      <td>portrait</td>\n      <td>1500</td>\n      <td>2000</td>\n      <td>2024-07-06 18:05:05.222412+00:00</td>\n      <td>85760917</td>\n    </tr>\n    <tr>\n      <th>6</th>\n      <td>3</td>\n      <td>doublet</td>\n      <td>l</td>\n      <td>https://assets.catawiki.com/image/cw_ldp_l/pla...</td>\n      <td>portrait</td>\n      <td>762</td>\n      <td>1016</td>\n      <td>2024-07-06 18:05:05.222412+00:00</td>\n      <td>85760917</td>\n    </tr>\n    <tr>\n      <th>7</th>\n      <td>3</td>\n      <td>doublet</td>\n      <td>xl</td>\n      <td>https://assets.catawiki.com/image/cw_large/pla...</td>\n      <td>portrait</td>\n      <td>1500</td>\n      <td>2000</td>\n      <td>2024-07-06 18:05:05.222412+00:00</td>\n      <td>85760917</td>\n    </tr>\n    <tr>\n      <th>8</th>\n      <td>4</td>\n      <td>doublet</td>\n      <td>l</td>\n      <td>https://assets.catawiki.com/image/cw_ldp_l/pla...</td>\n      <td>portrait</td>\n      <td>762</td>\n      <td>1016</td>\n      <td>2024-07-06 18:05:05.222412+00:00</td>\n      <td>85760917</td>\n    </tr>\n    <tr>\n      <th>9</th>\n      <td>4</td>\n      <td>doublet</td>\n      <td>xl</td>\n      <td>https://assets.catawiki.com/image/cw_large/pla...</td>\n      <td>portrait</td>\n      <td>1500</td>\n      <td>2000</td>\n      <td>2024-07-06 18:05:05.222412+00:00</td>\n      <td>85760917</td>\n    </tr>\n    <tr>\n      <th>10</th>\n      <td>5</td>\n      <td>doublet</td>\n      <td>l</td>\n      <td>https://assets.catawiki.com/image/cw_ldp_l/pla...</td>\n      <td>portrait</td>\n      <td>762</td>\n      <td>1016</td>\n      <td>2024-07-06 18:05:05.222412+00:00</td>\n      <td>85760917</td>\n    </tr>\n    <tr>\n      <th>11</th>\n      <td>5</td>\n      <td>doublet</td>\n      <td>xl</td>\n      <td>https://assets.catawiki.com/image/cw_large/pla...</td>\n      <td>portrait</td>\n      <td>1500</td>\n      <td>2000</td>\n      <td>2024-07-06 18:05:05.222412+00:00</td>\n      <td>85760917</td>\n    </tr>\n    <tr>\n      <th>12</th>\n      <td>6</td>\n      <td>doublet</td>\n      <td>l</td>\n      <td>https://assets.catawiki.com/image/cw_ldp_l/pla...</td>\n      <td>portrait</td>\n      <td>762</td>\n      <td>1016</td>\n      <td>2024-07-06 18:05:05.222412+00:00</td>\n      <td>85760917</td>\n    </tr>\n    <tr>\n      <th>13</th>\n      <td>6</td>\n      <td>doublet</td>\n      <td>xl</td>\n      <td>https://assets.catawiki.com/image/cw_large/pla...</td>\n      <td>portrait</td>\n      <td>1500</td>\n      <td>2000</td>\n      <td>2024-07-06 18:05:05.222412+00:00</td>\n      <td>85760917</td>\n    </tr>\n  </tbody>\n</table>\n</div>"
     },
     "execution_count": 8,
     "metadata": {},
     "output_type": "execute_result"
    }
   ],
   "source": [
    "db_man.validateRecordDataframe(img_df,\"image\",db_man.getRecordConstraints(\"image\"))"
   ],
   "metadata": {
    "collapsed": false,
    "pycharm": {
     "name": "#%%\n"
    }
   }
  },
  {
   "cell_type": "code",
   "execution_count": null,
   "outputs": [],
   "source": [],
   "metadata": {
    "collapsed": false,
    "pycharm": {
     "name": "#%%\n"
    }
   }
  }
 ],
 "metadata": {
  "kernelspec": {
   "display_name": "Python 3",
   "language": "python",
   "name": "python3"
  },
  "language_info": {
   "codemirror_mode": {
    "name": "ipython",
    "version": 2
   },
   "file_extension": ".py",
   "mimetype": "text/x-python",
   "name": "python",
   "nbconvert_exporter": "python",
   "pygments_lexer": "ipython2",
   "version": "2.7.6"
  }
 },
 "nbformat": 4,
 "nbformat_minor": 0
}