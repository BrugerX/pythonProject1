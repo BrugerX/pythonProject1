{
 "cells": [
  {
   "cell_type": "code",
   "execution_count": 1,
   "metadata": {
    "collapsed": true,
    "pycharm": {
     "name": "#%%\n"
    }
   },
   "outputs": [],
   "source": [
    "import pandas as pd\n",
    "\n",
    "import utility.LoggingUtility as lut\n",
    "from CW_Scraper import MagazineOverview\n",
    "import LotDataPackage.LotData as ld\n",
    "from Runnables.RunningSettings import wanted_categories\n",
    "import Runnables.JobManager as jb\n",
    "import LotDataPackage.ExtractorsAndTables as ent\n",
    "from utility import webscrapingUtil as wut\n",
    "from sqlalchemy import create_engine\n",
    "import json\n",
    "import numpy as np\n",
    "import database.DatabaseManager as dbm\n",
    "from sqlalchemy.orm import sessionmaker\n",
    "from sqlalchemy.sql import text\n",
    "import pq.python.pq.Queue as q\n",
    "import csv\n",
    "import os\n",
    "import time\n",
    "import threading\n",
    "import time"
   ]
  },
  {
   "cell_type": "code",
   "execution_count": 2,
   "outputs": [],
   "source": [
    "conn = dbm.getPsycopg2Conn()\n",
    "Q = q.PQ(conn)\n",
    "q_dict = {\"scheduling\":Q[\"scheduling\"]}\n",
    "rbq = jb.RunnableQueuer(q_dict)\n",
    "runnable = rbq.getRunnable(\"scheduling\")"
   ],
   "metadata": {
    "collapsed": false,
    "pycharm": {
     "name": "#%%\n"
    }
   }
  },
  {
   "cell_type": "code",
   "execution_count": 11,
   "outputs": [],
   "source": [
    "while(len(runnable.getNotInsertedTables())>0):\n",
    "    for not_inserted_into in runnable.getNotInsertedTables():\n",
    "        runnable.insert(not_inserted_into + \"_record\")\n",
    "        time.sleep(np.random.uniform(0,0.5))"
   ],
   "metadata": {
    "collapsed": false,
    "pycharm": {
     "name": "#%%\n"
    }
   }
  },
  {
   "cell_type": "code",
   "execution_count": 12,
   "outputs": [
    {
     "data": {
      "text/plain": "[]"
     },
     "execution_count": 12,
     "metadata": {},
     "output_type": "execute_result"
    }
   ],
   "source": [
    "runnable.getNotInsertedTables()"
   ],
   "metadata": {
    "collapsed": false,
    "pycharm": {
     "name": "#%%\n"
    }
   }
  },
  {
   "cell_type": "code",
   "execution_count": 13,
   "outputs": [],
   "source": [
    "rbq.insertRunnable(runnable,\"scheduling\")"
   ],
   "metadata": {
    "collapsed": false,
    "pycharm": {
     "name": "#%%\n"
    }
   }
  },
  {
   "cell_type": "code",
   "execution_count": 15,
   "outputs": [],
   "source": [
    "import concurrent.futures\n",
    "\n",
    "def process_scheduling():\n",
    "    conn = dbm.getPsycopg2Conn()\n",
    "    Q = q.PQ(conn)\n",
    "    q_dict = {\"scheduling\":Q[\"scheduling\"]}\n",
    "    rbq = jb.RunnableQueuer(q_dict)\n",
    "\n",
    "    for _ in range(len(q_dict[\"scheduling\"])):\n",
    "        runnable = rbq.getRunnable(\"scheduling\")\n",
    "        print(runnable.getLID())\n",
    "        while(len(runnable.getNotInsertedTables())>0):\n",
    "            for not_inserted_into in runnable.getNotInsertedTables():\n",
    "                runnable.insert(not_inserted_into + \"_record\")\n",
    "                time.sleep(np.random.uniform(0,1))\n",
    "        print(runnable.getNotInsertedTables())\n",
    "        rbq.insertRunnable(runnable,\"scheduling\",schedule_at=\"1h\")\n",
    "\n"
   ],
   "metadata": {
    "collapsed": false,
    "pycharm": {
     "name": "#%%\n"
    }
   }
  },
  {
   "cell_type": "code",
   "execution_count": null,
   "outputs": [
    {
     "name": "stdout",
     "output_type": "stream",
     "text": [
      "85738995\n",
      "85732575\n",
      "[]\n",
      "85748927\n",
      "[]\n",
      "85739125\n",
      "[]\n",
      "85575615\n",
      "[]\n",
      "85787965\n",
      "[]\n",
      "85686733\n",
      "[]\n",
      "85740199\n",
      "[]\n",
      "85703465\n"
     ]
    },
    {
     "name": "stderr",
     "output_type": "stream",
     "text": [
      "Exception in thread Thread-6 (process_scheduling):\n",
      "Traceback (most recent call last):\n",
      "  File \"C:\\Users\\DripTooHard\\AppData\\Local\\Programs\\Python\\Python310\\lib\\site-packages\\pandas\\core\\indexes\\base.py\", line 3621, in get_loc\n",
      "    return self._engine.get_loc(casted_key)\n",
      "  File \"pandas\\_libs\\index.pyx\", line 136, in pandas._libs.index.IndexEngine.get_loc\n",
      "  File \"pandas\\_libs\\index.pyx\", line 163, in pandas._libs.index.IndexEngine.get_loc\n",
      "  File \"pandas\\_libs\\hashtable_class_helper.pxi\", line 5198, in pandas._libs.hashtable.PyObjectHashTable.get_item\n",
      "  File \"pandas\\_libs\\hashtable_class_helper.pxi\", line 5206, in pandas._libs.hashtable.PyObjectHashTable.get_item\n",
      "KeyError: 'bidder'\n",
      "\n",
      "The above exception was the direct cause of the following exception:\n",
      "\n",
      "Traceback (most recent call last):\n",
      "  File \"C:\\Users\\DripTooHard\\AppData\\Local\\Programs\\Python\\Python310\\lib\\threading.py\", line 1016, in _bootstrap_inner\n",
      "    self.run()\n",
      "  File \"C:\\Users\\DripTooHard\\AppData\\Local\\Programs\\Python\\Python310\\lib\\site-packages\\ipykernel\\ipkernel.py\", line 766, in run_closure\n",
      "    _threading_Thread_run(self)\n",
      "  File \"C:\\Users\\DripTooHard\\AppData\\Local\\Programs\\Python\\Python310\\lib\\threading.py\", line 953, in run\n",
      "    self._target(*self._args, **self._kwargs)\n",
      "  File \"C:\\Users\\DripTooHard\\AppData\\Local\\Temp\\ipykernel_156412\\1827061316.py\", line 14, in process_scheduling\n",
      "  File \"C:\\Users\\DripTooHard\\PycharmProjects\\pythonProject1\\LotDataPackage\\LotData.py\", line 257, in insert\n",
      "    record_df = self.__getitem__(record_key) #Downloads the neccessary data and gets the dataframe\n",
      "  File \"C:\\Users\\DripTooHard\\PycharmProjects\\pythonProject1\\LotDataPackage\\LotData.py\", line 178, in __getitem__\n",
      "    return self.getDataframe(item)\n",
      "  File \"C:\\Users\\DripTooHard\\PycharmProjects\\pythonProject1\\LotDataPackage\\LotData.py\", line 172, in getDataframe\n",
      "    return record.getRecordForDatabaseCopy()\n",
      "  File \"C:\\Users\\DripTooHard\\PycharmProjects\\pythonProject1\\LotDataPackage\\Record.py\", line 80, in getRecordForDatabaseCopy\n",
      "    self.composeRecordIfNotExists()\n",
      "  File \"C:\\Users\\DripTooHard\\PycharmProjects\\pythonProject1\\LotDataPackage\\Record.py\", line 32, in composeRecordIfNotExists\n",
      "    self.composeRecordForDatabase()\n",
      "  File \"C:\\Users\\DripTooHard\\PycharmProjects\\pythonProject1\\LotDataPackage\\Record.py\", line 49, in composeRecordForDatabase\n",
      "    bids_df = self.bid_table.getDataframeCopy()\n",
      "  File \"C:\\Users\\DripTooHard\\PycharmProjects\\pythonProject1\\LotDataPackage\\ExtractorsAndTables.py\", line 145, in getDataframeCopy\n",
      "    self.extractDataframeIfDoesntExist()\n",
      "  File \"C:\\Users\\DripTooHard\\PycharmProjects\\pythonProject1\\LotDataPackage\\ExtractorsAndTables.py\", line 151, in extractDataframeIfDoesntExist\n",
      "    self.extractDFFromJson()\n",
      "  File \"C:\\Users\\DripTooHard\\PycharmProjects\\pythonProject1\\LotDataPackage\\ExtractorsAndTables.py\", line 218, in extractDFFromJson\n",
      "    bidder_df = pd.json_normalize(df['bidder'])\n",
      "  File \"C:\\Users\\DripTooHard\\AppData\\Local\\Programs\\Python\\Python310\\lib\\site-packages\\pandas\\core\\frame.py\", line 3505, in __getitem__\n",
      "    indexer = self.columns.get_loc(key)\n",
      "  File \"C:\\Users\\DripTooHard\\AppData\\Local\\Programs\\Python\\Python310\\lib\\site-packages\\pandas\\core\\indexes\\base.py\", line 3623, in get_loc\n",
      "    raise KeyError(key) from err\n",
      "KeyError: 'bidder'\n"
     ]
    },
    {
     "name": "stdout",
     "output_type": "stream",
     "text": [
      "[]\n",
      "85329373\n",
      "[]\n",
      "85754647\n",
      "[]\n",
      "85441695\n"
     ]
    }
   ],
   "source": [
    "import threading\n",
    "\n",
    "\n",
    "\n",
    "threads = []\n",
    "for _ in range(2):\n",
    "    thread = threading.Thread(target=process_scheduling)\n",
    "    threads.append(thread)\n",
    "    thread.start()\n",
    "\n",
    "# Wait for all threads to complete\n",
    "for thread in threads:\n",
    "    thread.join()\n"
   ],
   "metadata": {
    "collapsed": false,
    "pycharm": {
     "name": "#%%\n"
    }
   }
  },
  {
   "cell_type": "code",
   "execution_count": 24,
   "outputs": [],
   "source": [
    "conn = dbm.getPsycopg2Conn()\n",
    "Q = q.PQ(conn)\n",
    "q_dict = {\"scheduling\":Q[\"scheduling\"]}\n",
    "rbq = jb.RunnableQueuer(q_dict)\n",
    "\n",
    "for _ in range(len(q_dict[\"scheduling\"])):\n",
    "    runnable = rbq.getRunnable(\"scheduling\")\n",
    "    for not_inserted_into in runnable.getNotInsertedTables():\n",
    "        runnable.insert(not_inserted_into + \"_record\")\n",
    "    rbq.insertRunnable(runnable,\"scheduling\",scheduled_at=\"1h\")"
   ],
   "metadata": {
    "collapsed": false,
    "pycharm": {
     "name": "#%%\n"
    }
   }
  },
  {
   "cell_type": "code",
   "execution_count": 11,
   "outputs": [],
   "source": [
    "runnable.insert(\"image_record\")"
   ],
   "metadata": {
    "collapsed": false,
    "pycharm": {
     "name": "#%%\n"
    }
   }
  },
  {
   "cell_type": "code",
   "execution_count": 29,
   "outputs": [],
   "source": [],
   "metadata": {
    "collapsed": false,
    "pycharm": {
     "name": "#%%\n"
    }
   }
  },
  {
   "cell_type": "code",
   "execution_count": 13,
   "outputs": [],
   "source": [
    "sched_q = q_dict[\"scheduling\"]"
   ],
   "metadata": {
    "collapsed": false,
    "pycharm": {
     "name": "#%%\n"
    }
   }
  },
  {
   "cell_type": "code",
   "execution_count": 20,
   "outputs": [
    {
     "data": {
      "text/plain": "33495"
     },
     "execution_count": 20,
     "metadata": {},
     "output_type": "execute_result"
    }
   ],
   "source": [
    "sched_q.put(runnable.getScheduledFactors(),schedule_at=\"0h\",expected_at=\"0h\")"
   ],
   "metadata": {
    "collapsed": false,
    "pycharm": {
     "name": "#%%\n"
    }
   }
  },
  {
   "cell_type": "code",
   "execution_count": 22,
   "outputs": [
    {
     "data": {
      "text/plain": "{'not_inserted_tables': ['shipping', 'bid', 'auction', 'spec'],\n 'lid': '85793679',\n 'cat_int': '153',\n 'cat_name': 'comic-books',\n 'scraped_timestamp': '2024-07-03T21:45:00.492520+00:00',\n 'is_closed': False,\n 'bidding_close_timestamp': '2024-07-04T18:39:40Z'}"
     },
     "execution_count": 22,
     "metadata": {},
     "output_type": "execute_result"
    }
   ],
   "source": [
    "runnable.getScheduledFactors()"
   ],
   "metadata": {
    "collapsed": false,
    "pycharm": {
     "name": "#%%\n"
    }
   }
  },
  {
   "cell_type": "code",
   "execution_count": 16,
   "outputs": [
    {
     "data": {
      "text/plain": "'85793679'"
     },
     "execution_count": 16,
     "metadata": {},
     "output_type": "execute_result"
    }
   ],
   "source": [
    "runnable.getLID()"
   ],
   "metadata": {
    "collapsed": false,
    "pycharm": {
     "name": "#%%\n"
    }
   }
  }
 ],
 "metadata": {
  "kernelspec": {
   "display_name": "Python 3",
   "language": "python",
   "name": "python3"
  },
  "language_info": {
   "codemirror_mode": {
    "name": "ipython",
    "version": 2
   },
   "file_extension": ".py",
   "mimetype": "text/x-python",
   "name": "python",
   "nbconvert_exporter": "python",
   "pygments_lexer": "ipython2",
   "version": "2.7.6"
  }
 },
 "nbformat": 4,
 "nbformat_minor": 0
}