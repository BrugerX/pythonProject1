{
 "cells": [
  {
   "cell_type": "code",
   "execution_count": 1,
   "metadata": {
    "collapsed": true,
    "pycharm": {
     "name": "#%%\n"
    }
   },
   "outputs": [],
   "source": [
    "import pandas as pd\n",
    "\n",
    "import utility.LoggingUtility as lut\n",
    "from CW_Scraper import MagazineOverview\n",
    "import LotDataPackage.LotData as ld\n",
    "from Runnables.RunningSettings import wanted_categories\n",
    "import Runnables.JobManager as jb\n",
    "import LotDataPackage.ExtractorsAndTables as ent\n",
    "from utility import webscrapingUtil as wut\n",
    "from sqlalchemy import create_engine\n",
    "import json\n",
    "import numpy as np\n",
    "import database.DatabaseManager as dbm\n",
    "from sqlalchemy.orm import sessionmaker\n",
    "from sqlalchemy.sql import text\n",
    "import pq.python.pq.Queue as q\n",
    "import csv\n",
    "import os\n",
    "import time\n",
    "import threading\n",
    "import time\n",
    "from copy import deepcopy"
   ]
  },
  {
   "cell_type": "code",
   "execution_count": 2,
   "outputs": [],
   "source": [
    "import concurrent.futures\n",
    "\n",
    "def process_scheduling():\n",
    "    t_start = time.time()\n",
    "    conn = dbm.getPsycopg2Conn()\n",
    "    Q = q.PQ(conn)\n",
    "    q_dict = {\"scheduling\":Q[\"scheduling\"]}\n",
    "    rbq = jb.RunnableQueuer(q_dict)\n",
    "\n",
    "    for i in range(1000):\n",
    "        runnable = rbq.getRunnable(\"scheduling\",True)\n",
    "        #print(runnable.getLID())\n",
    "        not_inserted_into_list = runnable.getNotInsertedTables()\n",
    "        for not_inserted_into in deepcopy(not_inserted_into_list):\n",
    "            try:\n",
    "                (res,err) = runnable.insert(not_inserted_into + \"_record\")\n",
    "                time.sleep(np.random.uniform(0,1))\n",
    "                #print(runnable.getNotInsertedTables())\n",
    "                if(err is not None and not_inserted_into == 'spec'):\n",
    "                    raise err\n",
    "            except:\n",
    "                pass\n",
    "        rbq.insertRunnable(runnable,\"scheduling\",schedule_at=\"1h\")\n",
    "        if(i%100 == 0):\n",
    "            print(i)\n",
    "    t_end = time.time()\n",
    "    print(f\"Took {t_end - t_start} seconds to finish. With an average of {(t_end - t_start)/1000}s/per lot\")\n"
   ],
   "metadata": {
    "collapsed": false,
    "pycharm": {
     "name": "#%%\n"
    }
   }
  },
  {
   "cell_type": "code",
   "execution_count": null,
   "outputs": [],
   "source": [
    "\n",
    "t_start = time.time()\n",
    "conn = dbm.getPsycopg2Conn()\n",
    "Q = q.PQ(conn)\n",
    "q_dict = {\"scheduling\":Q[\"scheduling\"]}\n",
    "rbq = jb.RunnableQueuer(q_dict)\n",
    "\n",
    "for i in range(1000):\n",
    "    runnable = rbq.getRunnable(\"scheduling\",True)\n",
    "    #print(runnable.getLID())\n",
    "    not_inserted_into_list = runnable.getNotInsertedTables()\n",
    "    for not_inserted_into in deepcopy(not_inserted_into_list):\n",
    "        try:\n",
    "            (res,err) = runnable.insert(not_inserted_into + \"_record\")\n",
    "            time.sleep(np.random.uniform(0,1))\n",
    "            #print(runnable.getNotInsertedTables())\n",
    "            if(err is not None and not_inserted_into == 'spec'):\n",
    "                raise err\n",
    "        except:\n",
    "            pass\n",
    "    rbq.insertRunnable(runnable,\"scheduling\",schedule_at=\"1h\")\n",
    "    if(i%100 == 0):\n",
    "        print(i)\n",
    "\n",
    "t_end = time.time()\n",
    "print(f\"Took {t_end - t_start} seconds to finish. With an average of {(t_end - t_start)/1000}s/per lot\")"
   ],
   "metadata": {
    "collapsed": false,
    "pycharm": {
     "name": "#%%\n"
    }
   }
  },
  {
   "cell_type": "code",
   "execution_count": null,
   "outputs": [],
   "source": [
    "conn = dbm.getPsycopg2Conn()\n",
    "Q = q.PQ(conn)\n",
    "q_dict = {\"scheduling\":Q[\"scheduling\"]}\n",
    "rbq = jb.RunnableQueuer(q_dict)\n",
    "runnable = rbq.getRunnable(\"scheduling\")"
   ],
   "metadata": {
    "collapsed": false,
    "pycharm": {
     "name": "#%%\n"
    }
   }
  },
  {
   "cell_type": "code",
   "execution_count": null,
   "outputs": [],
   "source": [
    "while(len(runnable.getNotInsertedTables())>0):\n",
    "    for not_inserted_into in runnable.getNotInsertedTables():\n",
    "        runnable.insert(not_inserted_into + \"_record\")\n",
    "        time.sleep(np.random.uniform(0,0.5))"
   ],
   "metadata": {
    "collapsed": false,
    "pycharm": {
     "name": "#%%\n"
    }
   }
  },
  {
   "cell_type": "code",
   "execution_count": null,
   "outputs": [],
   "source": [
    "runnable.getScheduledFactors()"
   ],
   "metadata": {
    "collapsed": false,
    "pycharm": {
     "name": "#%%\n"
    }
   }
  },
  {
   "cell_type": "code",
   "execution_count": null,
   "outputs": [],
   "source": [
    "runnable.queryUpdateSchedulingFactors()"
   ],
   "metadata": {
    "collapsed": false,
    "pycharm": {
     "name": "#%%\n"
    }
   }
  },
  {
   "cell_type": "code",
   "execution_count": null,
   "outputs": [],
   "source": [
    "rbq.insertRunnable(runnable,\"scheduling\")"
   ],
   "metadata": {
    "collapsed": false,
    "pycharm": {
     "name": "#%%\n"
    }
   }
  },
  {
   "cell_type": "code",
   "execution_count": null,
   "outputs": [],
   "source": [
    "runnable = rbq.getRunnable(\"scheduling\",True)\n",
    "not_inserted_into_list = runnable.getNotInsertedTables()\n",
    "print(not_inserted_into_list)\n",
    "for not_inserted_into in not_inserted_into_list:\n",
    "    print(not_inserted_into)\n",
    "    (res,err) = runnable.insert(not_inserted_into + \"_record\")\n",
    "    print(res,err)"
   ],
   "metadata": {
    "collapsed": false,
    "pycharm": {
     "name": "#%%\n"
    }
   }
  },
  {
   "cell_type": "code",
   "execution_count": null,
   "outputs": [],
   "source": [
    "rbq.insertRunnable(runnable,\"scheduling\")"
   ],
   "metadata": {
    "collapsed": false,
    "pycharm": {
     "name": "#%%\n"
    }
   }
  },
  {
   "cell_type": "code",
   "execution_count": null,
   "outputs": [],
   "source": [],
   "metadata": {
    "collapsed": false,
    "pycharm": {
     "name": "#%%\n"
    }
   }
  }
 ],
 "metadata": {
  "kernelspec": {
   "display_name": "Python 3",
   "language": "python",
   "name": "python3"
  },
  "language_info": {
   "codemirror_mode": {
    "name": "ipython",
    "version": 2
   },
   "file_extension": ".py",
   "mimetype": "text/x-python",
   "name": "python",
   "nbconvert_exporter": "python",
   "pygments_lexer": "ipython2",
   "version": "2.7.6"
  }
 },
 "nbformat": 4,
 "nbformat_minor": 0
}