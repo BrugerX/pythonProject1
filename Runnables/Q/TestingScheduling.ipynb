{
 "cells": [
  {
   "cell_type": "code",
   "execution_count": 6,
   "metadata": {
    "collapsed": true,
    "pycharm": {
     "name": "#%%\n"
    }
   },
   "outputs": [],
   "source": [
    "import pandas as pd\n",
    "\n",
    "import utility.LoggingUtility as lut\n",
    "from CW_Scraper import MagazineOverview\n",
    "import LotDataPackage.LotData as ld\n",
    "from Runnables.RunningSettings import wanted_categories\n",
    "import Runnables.JobManager as jb\n",
    "import LotDataPackage.ExtractorsAndTables as ent\n",
    "from utility import webscrapingUtil as wut\n",
    "from sqlalchemy import create_engine\n",
    "import json\n",
    "import numpy as np\n",
    "import database.DatabaseManager as dbm\n",
    "from sqlalchemy.orm import sessionmaker\n",
    "from sqlalchemy.sql import text\n",
    "import pq.python.pq.Queue as q\n",
    "import csv\n",
    "import os\n",
    "import time\n",
    "import threading\n",
    "import time\n",
    "from copy import deepcopy\n",
    "LID_to_test = 85760917\n",
    "session,engine = dbm.getSessionEngine()\n",
    "meta_data = ent.MetadataExtractor(LID_to_test,\"\",\"1\",\"test\")"
   ]
  },
  {
   "cell_type": "code",
   "execution_count": 7,
   "outputs": [],
   "source": [
    "t_start = time.time()\n",
    "conn = dbm.getPsycopg2Conn()\n",
    "Q = q.PQ(conn)\n",
    "q_dict = {\"scheduling\":Q[\"scheduling\"]}\n",
    "rbq = jb.WeightedInserter(q_dict)"
   ],
   "metadata": {
    "collapsed": false,
    "pycharm": {
     "name": "#%%\n"
    }
   }
  },
  {
   "cell_type": "code",
   "execution_count": 8,
   "outputs": [],
   "source": [
    "runnable = rbq.getRunnable(\"scheduling\",True)"
   ],
   "metadata": {
    "collapsed": false,
    "pycharm": {
     "name": "#%%\n"
    }
   }
  },
  {
   "cell_type": "code",
   "execution_count": 9,
   "outputs": [
    {
     "name": "stdout",
     "output_type": "stream",
     "text": [
      "{'not_inserted_tables': ['spec', 'image', 'bid', 'shipping', 'auction', 'favorite_history', 'auction_history'], 'lid': '85644797', 'cat_int': '443', 'cat_name': 'wine', 'scraped_timestamp': '2024-07-03T22:15:08.744853+00:00', 'is_closed': False, 'bidding_close_timestamp': '2024-07-07T18:17:30Z', 'has_final_bid': False}\n",
      "{'not_inserted_tables': ['image', 'bid', 'shipping'], 'lid': '85644797', 'cat_int': '443', 'cat_name': 'wine', 'scraped_timestamp': '2024-07-03T22:15:08.744853+00:00', 'is_closed': False, 'bidding_close_timestamp': '2024-07-07T18:17:30Z', 'has_final_bid': False}\n"
     ]
    }
   ],
   "source": [
    "print(runnable.getScheduledFactors())\n",
    "rbq.processRunnable(runnable,\"scheduling\")\n",
    "print(runnable.getScheduledFactors())"
   ],
   "metadata": {
    "collapsed": false,
    "pycharm": {
     "name": "#%%\n"
    }
   }
  },
  {
   "cell_type": "code",
   "execution_count": null,
   "outputs": [],
   "source": [],
   "metadata": {
    "collapsed": false,
    "pycharm": {
     "name": "#%%\n"
    }
   }
  }
 ],
 "metadata": {
  "kernelspec": {
   "display_name": "Python 3",
   "language": "python",
   "name": "python3"
  },
  "language_info": {
   "codemirror_mode": {
    "name": "ipython",
    "version": 2
   },
   "file_extension": ".py",
   "mimetype": "text/x-python",
   "name": "python",
   "nbconvert_exporter": "python",
   "pygments_lexer": "ipython2",
   "version": "2.7.6"
  }
 },
 "nbformat": 4,
 "nbformat_minor": 0
}