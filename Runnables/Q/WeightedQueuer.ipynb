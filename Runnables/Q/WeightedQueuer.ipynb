{
 "cells": [
  {
   "cell_type": "code",
   "execution_count": 1,
   "metadata": {
    "collapsed": true,
    "pycharm": {
     "name": "#%%\n"
    }
   },
   "outputs": [],
   "source": [
    "import pandas as pd\n",
    "\n",
    "import utility.LoggingUtility as lut\n",
    "from CW_Scraper import MagazineOverview\n",
    "import LotDataPackage.LotData as ld\n",
    "from Runnables.RunningSettings import wanted_categories\n",
    "import Runnables.JobManager as jb\n",
    "import LotDataPackage.ExtractorsAndTables as ent\n",
    "from utility import webscrapingUtil as wut\n",
    "from sqlalchemy import create_engine\n",
    "import json\n",
    "import numpy as np\n",
    "import database.DatabaseManager as dbm\n",
    "from sqlalchemy.orm import sessionmaker\n",
    "from sqlalchemy.sql import text\n",
    "import pq.python.pq.Queue as q\n",
    "import csv\n",
    "import os\n",
    "import time\n",
    "import threading\n",
    "import time\n",
    "from copy import deepcopy"
   ]
  },
  {
   "cell_type": "code",
   "execution_count": 2,
   "outputs": [],
   "source": [
    "LID_to_test = 85760917\n",
    "session,engine = dbm.getSessionEngine()\n",
    "meta_data = ent.MetadataExtractor(LID_to_test,\"\",\"1\",\"test\")\n",
    "run = ld.RunnableInsertion(session,engine,meta_data,check_scheduling_factors=True)\n",
    "img_df = run[\"image_record\"]\n",
    "db_man = run.db_manager"
   ],
   "metadata": {
    "collapsed": false,
    "pycharm": {
     "name": "#%%\n"
    }
   }
  },
  {
   "cell_type": "code",
   "execution_count": 3,
   "outputs": [],
   "source": [
    "t_start = time.time()\n",
    "conn = dbm.getPsycopg2Conn()\n",
    "Q = q.PQ(conn)\n",
    "q_dict = {\"scheduling\":Q[\"scheduling\"]}\n",
    "rbq = jb.WeightedInserter(q_dict)"
   ],
   "metadata": {
    "collapsed": false,
    "pycharm": {
     "name": "#%%\n"
    }
   }
  },
  {
   "cell_type": "code",
   "execution_count": 12,
   "outputs": [
    {
     "name": "stdout",
     "output_type": "stream",
     "text": [
      "20:38:21.029844\n",
      "2:00:00\n"
     ]
    }
   ],
   "source": [
    "print(run.getExpectedClose() - lut.getTimeStamp().replace(tzinfo=None))\n",
    "print( rbq.nextProcessingTimestamp(run.getExpectedClose()) - lut.getTimeStamp().replace(tzinfo=None))"
   ],
   "metadata": {
    "collapsed": false,
    "pycharm": {
     "name": "#%%\n"
    }
   }
  },
  {
   "cell_type": "code",
   "execution_count": 7,
   "outputs": [
    {
     "data": {
      "text/plain": "datetime.datetime(2024, 7, 6, 21, 27, 44, 625666, tzinfo=datetime.timezone.utc)"
     },
     "execution_count": 7,
     "metadata": {},
     "output_type": "execute_result"
    }
   ],
   "source": [
    "run.getExpectedClose() - lut.getTimeStamp()"
   ],
   "metadata": {
    "collapsed": false,
    "pycharm": {
     "name": "#%%\n"
    }
   }
  },
  {
   "cell_type": "code",
   "execution_count": 13,
   "outputs": [
    {
     "name": "stdout",
     "output_type": "stream",
     "text": [
      "None\n"
     ]
    }
   ],
   "source": [
    "print(rbq.processRunnable(run,\"scheduling\"))"
   ],
   "metadata": {
    "collapsed": false,
    "pycharm": {
     "name": "#%%\n"
    }
   }
  },
  {
   "cell_type": "code",
   "execution_count": 20,
   "outputs": [
    {
     "data": {
      "text/plain": "str"
     },
     "execution_count": 20,
     "metadata": {},
     "output_type": "execute_result"
    }
   ],
   "source": [
    "type(run.getExpectedClose())"
   ],
   "metadata": {
    "collapsed": false,
    "pycharm": {
     "name": "#%%\n"
    }
   }
  },
  {
   "cell_type": "code",
   "execution_count": 13,
   "outputs": [],
   "source": [
    "r_no = np.random.randint(0,100,10)\n",
    "q_test = Q[f\"{r_no}\"]\n",
    "q_test.put(\"a\")\n",
    "t_now = lut.getTimeStamp().replace(tzinfo=None)\n",
    "t_enq = q_test.get().enqueued_at"
   ],
   "metadata": {
    "collapsed": false,
    "pycharm": {
     "name": "#%%\n"
    }
   }
  },
  {
   "cell_type": "code",
   "execution_count": 16,
   "outputs": [],
   "source": [
    "import datetime as dt"
   ],
   "metadata": {
    "collapsed": false,
    "pycharm": {
     "name": "#%%\n"
    }
   }
  },
  {
   "cell_type": "code",
   "execution_count": 17,
   "outputs": [
    {
     "data": {
      "text/plain": "True"
     },
     "execution_count": 17,
     "metadata": {},
     "output_type": "execute_result"
    }
   ],
   "source": [
    "t_enq - t_now < dt.timedelta(minutes=1)"
   ],
   "metadata": {
    "collapsed": false,
    "pycharm": {
     "name": "#%%\n"
    }
   }
  },
  {
   "cell_type": "code",
   "execution_count": null,
   "outputs": [],
   "source": [],
   "metadata": {
    "collapsed": false,
    "pycharm": {
     "name": "#%%\n"
    }
   }
  }
 ],
 "metadata": {
  "kernelspec": {
   "display_name": "Python 3",
   "language": "python",
   "name": "python3"
  },
  "language_info": {
   "codemirror_mode": {
    "name": "ipython",
    "version": 2
   },
   "file_extension": ".py",
   "mimetype": "text/x-python",
   "name": "python",
   "nbconvert_exporter": "python",
   "pygments_lexer": "ipython2",
   "version": "2.7.6"
  }
 },
 "nbformat": 4,
 "nbformat_minor": 0
}